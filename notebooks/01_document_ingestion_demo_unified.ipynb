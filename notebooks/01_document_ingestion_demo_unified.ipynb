{
 "cells": [
  {
   "cell_type": "markdown",
   "metadata": {},
   "source": [
    "# Document Ingestion Demo for Pommeline Product Knowledge Base\n",
    "\n",
    "This notebook demonstrates how to ingest product documents into the Pinecone vector store for the Pommeline knowledge base.\n",
    "\n",
    "## Features:\n",
    "- Checks for existing 'pommeline' index in Pinecone\n",
    "- Creates index if it doesn't exist with HNSW algorithm and dotproduct similarity\n",
    "- Ingests product documents with proper chunking and embedding\n",
    "- Normalizes embeddings before storage for optimal retrieval\n",
    "- Provides detailed logging and progress tracking"
   ]
  },
  {
   "cell_type": "markdown",
   "metadata": {},
   "source": [
    "# Install required packages if not already installed"
   ]
  },
  {
   "cell_type": "code",
   "execution_count": 1,
   "id": "1cea68ff",
   "metadata": {},
   "outputs": [],
   "source": [
    "# !uv add pinecone-client sentence-transformers python-dotenv"
   ]
  },
  {
   "cell_type": "code",
   "execution_count": 2,
   "id": "8d155f99",
   "metadata": {},
   "outputs": [
    {
     "name": "stderr",
     "output_type": "stream",
     "text": [
      "/Users/aamirsyedaltaf/Documents/curator-pommeline/.venv/lib/python3.10/site-packages/tqdm/auto.py:21: TqdmWarning: IProgress not found. Please update jupyter and ipywidgets. See https://ipywidgets.readthedocs.io/en/stable/user_install.html\n",
      "  from .autonotebook import tqdm as notebook_tqdm\n"
     ]
    },
    {
     "name": "stdout",
     "output_type": "stream",
     "text": [
      "{\"asctime\": \"2025-10-31 14:55:41,939\", \"name\": \"pinecone_index_client\", \"levelname\": \"INFO\", \"message\": \"Initialized PineconeIndexClient for dense index 'curator-pommeline' (dim: 768, metric: dotproduct)\"}\n"
     ]
    },
    {
     "name": "stderr",
     "output_type": "stream",
     "text": [
      "2025-10-31 14:55:41,939 - pinecone_index_client - INFO - Initialized PineconeIndexClient for dense index 'curator-pommeline' (dim: 768, metric: dotproduct)\n"
     ]
    },
    {
     "name": "stdout",
     "output_type": "stream",
     "text": [
      "{\"asctime\": \"2025-10-31 14:55:41,968\", \"name\": \"pinecone_vector_store\", \"levelname\": \"INFO\", \"message\": \"Connected to Pinecone Index container: {'namespaces': {'curator-pommeline-7b1a7bbb': {'vectorCount': 0}, 'curator-pommeline': {'vectorCount': 212}, 'curator-pommeline-f03bab83': {'vectorCount': 0}, 'curator-pommeline-12fa085f': {'vectorCount': 0}, 'pommeline': {'vectorCount': 0}, '': {'vectorCount': 0}, 'curator-pommeline-a9b4d456': {'vectorCount': 0}}, 'dimension': 768, 'indexFullness': 0.0, 'totalVectorCount': 212}\"}\n"
     ]
    },
    {
     "name": "stderr",
     "output_type": "stream",
     "text": [
      "2025-10-31 14:55:41,968 - pinecone_vector_store - INFO - Connected to Pinecone Index container: {'namespaces': {'curator-pommeline-7b1a7bbb': {'vectorCount': 0}, 'curator-pommeline': {'vectorCount': 212}, 'curator-pommeline-f03bab83': {'vectorCount': 0}, 'curator-pommeline-12fa085f': {'vectorCount': 0}, 'pommeline': {'vectorCount': 0}, '': {'vectorCount': 0}, 'curator-pommeline-a9b4d456': {'vectorCount': 0}}, 'dimension': 768, 'indexFullness': 0.0, 'totalVectorCount': 212}\n",
      "2025-10-31 14:55:41,987 - ingestion_demo - INFO - Successfully imported all required modules\n"
     ]
    }
   ],
   "source": [
    "import os\n",
    "import sys\n",
    "import pathlib\n",
    "import logging\n",
    "from typing import List, Dict, Any\n",
    "from dotenv import load_dotenv\n",
    "\n",
    "# Load environment variables\n",
    "load_dotenv()\n",
    "\n",
    "# Add parent directory to path for imports to handle relative imports\n",
    "sys.path.append(str(pathlib.Path().absolute().parent))\n",
    "sys.path.append(str(pathlib.Path().absolute().parent / \"src\"))\n",
    "\n",
    "# Configure logging\n",
    "logging.basicConfig(\n",
    "    level=logging.INFO,\n",
    "    format='%(asctime)s - %(name)s - %(levelname)s - %(message)s'\n",
    ")\n",
    "logger = logging.getLogger(\"ingestion_demo\")\n",
    "\n",
    "# Import our modules\n",
    "from src.ingestion.vector_store import get_vector_store\n",
    "from src.ingestion.chunker import SemanticChunker, DocumentChunk\n",
    "from src.ingestion.embedder import EmbeddingGenerator\n",
    "from src.utils.file_loader import load_documents_from_directory\n",
    "from src.config import settings\n",
    "\n",
    "logger.info(\"Successfully imported all required modules\")"
   ]
  },
  {
   "cell_type": "markdown",
   "id": "f97f2c0a",
   "metadata": {},
   "source": [
    "## Configuration\n",
    "\n",
    "Set up the index configuration for the Pommeline knowledge base."
   ]
  },
  {
   "cell_type": "code",
   "execution_count": 3,
   "id": "d66fed00",
   "metadata": {},
   "outputs": [
    {
     "name": "stdout",
     "output_type": "stream",
     "text": [
      "Generated unique index UUID: 44344f0d\n",
      "Index configuration: curator-pommeline-44344f0d\n",
      "Dimension: 768, Metric: dotproduct\n",
      "Note: This index will be automatically cleaned up at the end of the notebook.\n"
     ]
    }
   ],
   "source": [
    "# Index configuration with UUID for unique identification\n",
    "import uuid\n",
    "\n",
    "# Generate a unique UUID for this notebook run\n",
    "index_uuid = str(uuid.uuid4())[:8]\n",
    "INDEX_NAME = f\"curator-pommeline-{index_uuid}\"\n",
    "DIMENSION = 768\n",
    "METRIC = \"dotproduct\"\n",
    "\n",
    "# Update settings for our specific index\n",
    "settings.pinecone_index_name = INDEX_NAME\n",
    "settings.pinecone_dimension = DIMENSION\n",
    "settings.pinecone_metric = METRIC\n",
    "\n",
    "print(f\"Generated unique index UUID: {index_uuid}\")\n",
    "print(f\"Index configuration: {INDEX_NAME}\")\n",
    "print(f\"Dimension: {DIMENSION}, Metric: {METRIC}\")\n",
    "print(f\"Note: This index will be automatically cleaned up at the end of the notebook.\")"
   ]
  },
  {
   "cell_type": "markdown",
   "id": "b0a5a959",
   "metadata": {},
   "source": [
    "## Initialize Vector Store\n",
    "\n",
    "Connect to Pinecone and set up the 'pommeline' index."
   ]
  },
  {
   "cell_type": "code",
   "execution_count": 4,
   "id": "7ef384b0",
   "metadata": {},
   "outputs": [
    {
     "name": "stdout",
     "output_type": "stream",
     "text": [
      "Vector Store Status:\n",
      "  total_documents: 0\n",
      "  embedding_dimension: 768\n",
      "  index_name: curator-pommeline\n",
      "  index_fullness: 0\n",
      "  index_type: pinecone_index_container\n",
      "  namespaces: {'': {'vectorCount': 0}, 'curator-pommeline-12fa085f': {'vectorCount': 0}, 'curator-pommeline': {'vectorCount': 212}, 'curator-pommeline-f03bab83': {'vectorCount': 0}, 'pommeline': {'vectorCount': 0}, 'curator-pommeline-7b1a7bbb': {'vectorCount': 0}, 'curator-pommeline-a9b4d456': {'vectorCount': 0}}\n",
      "IMPORTANT: Using unified index architecture\n",
      "Index configured as: 'curator-pommeline'\n",
      "Ingestion will use namespace: 'curator-pommeline-44344f0d'\n",
      "This creates proper unified index with dense+sparse vectors\n",
      "This index will be automatically cleaned up at the end of the notebook.\n"
     ]
    }
   ],
   "source": [
    "# Initialize vector store with our unique configuration\n",
    "vector_store = get_vector_store()\n",
    "\n",
    "# Check current status\n",
    "stats = vector_store.get_stats()\n",
    "print(\"Vector Store Status:\")\n",
    "for key, value in stats.items():\n",
    "    print(f\"  {key}: {value}\")\n",
    "\n",
    "print(f\"IMPORTANT: Using unified index architecture\")\n",
    "print(f\"Index configured as: '{stats['index_name']}'\")\n",
    "print(f\"Ingestion will use namespace: '{INDEX_NAME}'\")\n",
    "print(f\"This creates proper unified index with dense+sparse vectors\")\n",
    "print(f\"This index will be automatically cleaned up at the end of the notebook.\")"
   ]
  },
  {
   "cell_type": "markdown",
   "id": "4615734a",
   "metadata": {},
   "source": [
    "## Load Product Documents\n",
    "\n",
    "Load all product and policy documents from the data directory."
   ]
  },
  {
   "cell_type": "code",
   "execution_count": 5,
   "id": "26338f0c",
   "metadata": {},
   "outputs": [
    {
     "name": "stdout",
     "output_type": "stream",
     "text": [
      "Loading documents from: /Users/aamirsyedaltaf/Documents/curator-pommeline/data\n",
      "Products directory: /Users/aamirsyedaltaf/Documents/curator-pommeline/data/products\n",
      "Policies directory: /Users/aamirsyedaltaf/Documents/curator-pommeline/data/policies\n"
     ]
    }
   ],
   "source": [
    "# Define data directories\n",
    "data_dir = pathlib.Path().absolute().parent / \"data\"\n",
    "products_dir = data_dir / \"products\"\n",
    "policies_dir = data_dir / \"policies\"\n",
    "\n",
    "print(f\"Loading documents from: {data_dir}\")\n",
    "print(f\"Products directory: {products_dir}\")\n",
    "print(f\"Policies directory: {policies_dir}\")\n",
    "\n",
    "# Check if directories exist\n",
    "if not products_dir.exists():\n",
    "    logger.warning(f\"Products directory not found: {products_dir}\")\n",
    "if not policies_dir.exists():\n",
    "    logger.warning(f\"Policies directory not found: {policies_dir}\")"
   ]
  },
  {
   "cell_type": "code",
   "execution_count": 6,
   "id": "f12de24f",
   "metadata": {},
   "outputs": [
    {
     "name": "stdout",
     "output_type": "stream",
     "text": [
      "{\"asctime\": \"2025-10-31 14:56:57,484\", \"name\": \"file_loader\", \"levelname\": \"INFO\", \"message\": \"Loaded 19 documents from /Users/aamirsyedaltaf/Documents/curator-pommeline/data/products\"}\n"
     ]
    },
    {
     "name": "stderr",
     "output_type": "stream",
     "text": [
      "2025-10-31 14:56:57,484 - file_loader - INFO - Loaded 19 documents from /Users/aamirsyedaltaf/Documents/curator-pommeline/data/products\n",
      "2025-10-31 14:56:57,485 - ingestion_demo - INFO - Loaded 19 product documents\n"
     ]
    },
    {
     "name": "stdout",
     "output_type": "stream",
     "text": [
      "{\"asctime\": \"2025-10-31 14:56:57,487\", \"name\": \"file_loader\", \"levelname\": \"INFO\", \"message\": \"Loaded 2 documents from /Users/aamirsyedaltaf/Documents/curator-pommeline/data/policies\"}\n"
     ]
    },
    {
     "name": "stderr",
     "output_type": "stream",
     "text": [
      "2025-10-31 14:56:57,487 - file_loader - INFO - Loaded 2 documents from /Users/aamirsyedaltaf/Documents/curator-pommeline/data/policies\n",
      "2025-10-31 14:56:57,488 - ingestion_demo - INFO - Loaded 2 policy documents\n",
      "2025-10-31 14:56:57,488 - ingestion_demo - INFO - Total documents loaded: 21\n"
     ]
    },
    {
     "name": "stdout",
     "output_type": "stream",
     "text": [
      "\n",
      "Document 1:\n",
      "  Source: /Users/aamirsyedaltaf/Documents/curator-pommeline/data/products/iphone16_specs.md\n",
      "  Content length: 24883\n",
      "  Preview: \n",
      "# iPhone 16 and iPhone 16 Plus - Technical Specifications\n",
      "\n",
      "## Finish\n",
      "\n",
      "### iPhone 16\n",
      "\n",
      "**[Image: Back view of iPhone 16 in five different colours]**\n",
      "\n",
      "* **Colours:** Black, White, Pink, Teal, Ultramarin...\n",
      "\n",
      "Document 2:\n",
      "  Source: /Users/aamirsyedaltaf/Documents/curator-pommeline/data/products/macbook_air_specs.md\n",
      "  Content length: 11118\n",
      "  Preview: \n",
      "# MacBook Air 13- and 15-inch with M4 Chip - Tech Specs\n",
      "\n",
      "## MacBook Air 13-inch Technical Specifications\n",
      "\n",
      "[Image: MacBook Air 13-inch]\n",
      "\n",
      "|                   | Model 1                                  ...\n",
      "\n",
      "Document 3:\n",
      "  Source: /Users/aamirsyedaltaf/Documents/curator-pommeline/data/products/macbook_pro_comparison.md\n",
      "  Content length: 6776\n",
      "  Preview: # Compare Mac Models\n",
      "\n",
      "## Current Laptops\n",
      "\n",
      "### MacBook Air 13-inch (M4)\n",
      "\n",
      "**From S$1,499**\n",
      "\n",
      "**Display:** 13.6″ Liquid Retina display\n",
      "**Chip:** Apple M4 chip\n",
      "\n",
      "* 10-core CPU\n",
      "* Up to 10-core GPU\n",
      "  **Apple ...\n"
     ]
    }
   ],
   "source": [
    "# Load documents from both directories\n",
    "all_documents = []\n",
    "\n",
    "if products_dir.exists():\n",
    "    product_docs = load_documents_from_directory(str(products_dir))\n",
    "    all_documents.extend(product_docs)\n",
    "    logger.info(f\"Loaded {len(product_docs)} product documents\")\n",
    "\n",
    "if policies_dir.exists():\n",
    "    policy_docs = load_documents_from_directory(str(policies_dir))\n",
    "    all_documents.extend(policy_docs)\n",
    "    logger.info(f\"Loaded {len(policy_docs)} policy documents\")\n",
    "\n",
    "logger.info(f\"Total documents loaded: {len(all_documents)}\")\n",
    "\n",
    "# Display document information\n",
    "for i, doc in enumerate(all_documents[:3]):\n",
    "    print(f\"\\nDocument {i+1}:\")\n",
    "    print(f\"  Source: {doc.get('source', 'Unknown')}\")\n",
    "    print(f\"  Content length: {len(doc.get('content', ''))}\")\n",
    "    print(f\"  Preview: {doc.get('content', '')[:200]}...\")"
   ]
  },
  {
   "cell_type": "markdown",
   "id": "57fbfbbb",
   "metadata": {},
   "source": [
    "## Document Chunking\n",
    "\n",
    "Split documents into smaller chunks for better retrieval."
   ]
  },
  {
   "cell_type": "code",
   "execution_count": 7,
   "id": "edfed1a8",
   "metadata": {},
   "outputs": [
    {
     "name": "stdout",
     "output_type": "stream",
     "text": [
      "{\"asctime\": \"2025-10-31 14:57:54,197\", \"name\": \"src.utils.llm_pipeline\", \"levelname\": \"INFO\", \"message\": \"Initializing LLM singleton with model: glm-4.5-air, stream: False\"}\n"
     ]
    },
    {
     "name": "stderr",
     "output_type": "stream",
     "text": [
      "2025-10-31 14:57:54,197 - src.utils.llm_pipeline - INFO - Initializing LLM singleton with model: glm-4.5-air, stream: False\n"
     ]
    },
    {
     "name": "stdout",
     "output_type": "stream",
     "text": [
      "{\"asctime\": \"2025-10-31 14:57:54,205\", \"name\": \"chunker\", \"levelname\": \"INFO\", \"message\": \"Created 46 chunks from /Users/aamirsyedaltaf/Documents/curator-pommeline/data/products/iphone16_specs.md\"}\n"
     ]
    },
    {
     "name": "stderr",
     "output_type": "stream",
     "text": [
      "2025-10-31 14:57:54,205 - chunker - INFO - Created 46 chunks from /Users/aamirsyedaltaf/Documents/curator-pommeline/data/products/iphone16_specs.md\n"
     ]
    },
    {
     "name": "stdout",
     "output_type": "stream",
     "text": [
      "{\"asctime\": \"2025-10-31 14:57:54,208\", \"name\": \"chunker\", \"levelname\": \"INFO\", \"message\": \"Created 25 chunks from /Users/aamirsyedaltaf/Documents/curator-pommeline/data/products/macbook_air_specs.md\"}\n"
     ]
    },
    {
     "name": "stderr",
     "output_type": "stream",
     "text": [
      "2025-10-31 14:57:54,208 - chunker - INFO - Created 25 chunks from /Users/aamirsyedaltaf/Documents/curator-pommeline/data/products/macbook_air_specs.md\n"
     ]
    },
    {
     "name": "stdout",
     "output_type": "stream",
     "text": [
      "{\"asctime\": \"2025-10-31 14:57:54,209\", \"name\": \"chunker\", \"levelname\": \"INFO\", \"message\": \"Created 17 chunks from /Users/aamirsyedaltaf/Documents/curator-pommeline/data/products/macbook_pro_comparison.md\"}\n"
     ]
    },
    {
     "name": "stderr",
     "output_type": "stream",
     "text": [
      "2025-10-31 14:57:54,209 - chunker - INFO - Created 17 chunks from /Users/aamirsyedaltaf/Documents/curator-pommeline/data/products/macbook_pro_comparison.md\n"
     ]
    },
    {
     "name": "stdout",
     "output_type": "stream",
     "text": [
      "{\"asctime\": \"2025-10-31 14:57:54,211\", \"name\": \"chunker\", \"levelname\": \"INFO\", \"message\": \"Created 17 chunks from /Users/aamirsyedaltaf/Documents/curator-pommeline/data/products/macbook_pro_clean.md\"}\n"
     ]
    },
    {
     "name": "stderr",
     "output_type": "stream",
     "text": [
      "2025-10-31 14:57:54,211 - chunker - INFO - Created 17 chunks from /Users/aamirsyedaltaf/Documents/curator-pommeline/data/products/macbook_pro_clean.md\n"
     ]
    },
    {
     "name": "stdout",
     "output_type": "stream",
     "text": [
      "{\"asctime\": \"2025-10-31 14:57:54,213\", \"name\": \"chunker\", \"levelname\": \"INFO\", \"message\": \"Created 34 chunks from /Users/aamirsyedaltaf/Documents/curator-pommeline/data/products/iphone16e.md\"}\n"
     ]
    },
    {
     "name": "stderr",
     "output_type": "stream",
     "text": [
      "2025-10-31 14:57:54,213 - chunker - INFO - Created 34 chunks from /Users/aamirsyedaltaf/Documents/curator-pommeline/data/products/iphone16e.md\n"
     ]
    },
    {
     "name": "stdout",
     "output_type": "stream",
     "text": [
      "{\"asctime\": \"2025-10-31 14:57:54,215\", \"name\": \"chunker\", \"levelname\": \"INFO\", \"message\": \"Created 46 chunks from /Users/aamirsyedaltaf/Documents/curator-pommeline/data/products/iphone16_specs_clean.md\"}\n"
     ]
    },
    {
     "name": "stderr",
     "output_type": "stream",
     "text": [
      "2025-10-31 14:57:54,215 - chunker - INFO - Created 46 chunks from /Users/aamirsyedaltaf/Documents/curator-pommeline/data/products/iphone16_specs_clean.md\n"
     ]
    },
    {
     "name": "stdout",
     "output_type": "stream",
     "text": [
      "{\"asctime\": \"2025-10-31 14:57:54,217\", \"name\": \"chunker\", \"levelname\": \"INFO\", \"message\": \"Created 18 chunks from /Users/aamirsyedaltaf/Documents/curator-pommeline/data/products/iphone17.md\"}\n"
     ]
    },
    {
     "name": "stderr",
     "output_type": "stream",
     "text": [
      "2025-10-31 14:57:54,217 - chunker - INFO - Created 18 chunks from /Users/aamirsyedaltaf/Documents/curator-pommeline/data/products/iphone17.md\n"
     ]
    },
    {
     "name": "stdout",
     "output_type": "stream",
     "text": [
      "{\"asctime\": \"2025-10-31 14:57:54,219\", \"name\": \"chunker\", \"levelname\": \"INFO\", \"message\": \"Created 16 chunks from /Users/aamirsyedaltaf/Documents/curator-pommeline/data/products/macbook_pro_tech_specs.md\"}\n"
     ]
    },
    {
     "name": "stderr",
     "output_type": "stream",
     "text": [
      "2025-10-31 14:57:54,219 - chunker - INFO - Created 16 chunks from /Users/aamirsyedaltaf/Documents/curator-pommeline/data/products/macbook_pro_tech_specs.md\n"
     ]
    },
    {
     "name": "stdout",
     "output_type": "stream",
     "text": [
      "{\"asctime\": \"2025-10-31 14:57:54,221\", \"name\": \"chunker\", \"levelname\": \"INFO\", \"message\": \"Created 13 chunks from /Users/aamirsyedaltaf/Documents/curator-pommeline/data/products/macbook_pro_switch_clean.md\"}\n"
     ]
    },
    {
     "name": "stderr",
     "output_type": "stream",
     "text": [
      "2025-10-31 14:57:54,221 - chunker - INFO - Created 13 chunks from /Users/aamirsyedaltaf/Documents/curator-pommeline/data/products/macbook_pro_switch_clean.md\n"
     ]
    },
    {
     "name": "stdout",
     "output_type": "stream",
     "text": [
      "{\"asctime\": \"2025-10-31 14:57:54,226\", \"name\": \"chunker\", \"levelname\": \"INFO\", \"message\": \"Created 22 chunks from /Users/aamirsyedaltaf/Documents/curator-pommeline/data/products/macbook_air_switch.md\"}\n"
     ]
    },
    {
     "name": "stderr",
     "output_type": "stream",
     "text": [
      "2025-10-31 14:57:54,226 - chunker - INFO - Created 22 chunks from /Users/aamirsyedaltaf/Documents/curator-pommeline/data/products/macbook_air_switch.md\n"
     ]
    },
    {
     "name": "stdout",
     "output_type": "stream",
     "text": [
      "{\"asctime\": \"2025-10-31 14:57:54,230\", \"name\": \"chunker\", \"levelname\": \"INFO\", \"message\": \"Created 10 chunks from /Users/aamirsyedaltaf/Documents/curator-pommeline/data/products/macbook_air_compare.md\"}\n"
     ]
    },
    {
     "name": "stderr",
     "output_type": "stream",
     "text": [
      "2025-10-31 14:57:54,230 - chunker - INFO - Created 10 chunks from /Users/aamirsyedaltaf/Documents/curator-pommeline/data/products/macbook_air_compare.md\n"
     ]
    },
    {
     "name": "stdout",
     "output_type": "stream",
     "text": [
      "{\"asctime\": \"2025-10-31 14:57:54,233\", \"name\": \"chunker\", \"levelname\": \"INFO\", \"message\": \"Created 15 chunks from /Users/aamirsyedaltaf/Documents/curator-pommeline/data/products/iphone_17_pro.md\"}\n"
     ]
    },
    {
     "name": "stderr",
     "output_type": "stream",
     "text": [
      "2025-10-31 14:57:54,233 - chunker - INFO - Created 15 chunks from /Users/aamirsyedaltaf/Documents/curator-pommeline/data/products/iphone_17_pro.md\n"
     ]
    },
    {
     "name": "stdout",
     "output_type": "stream",
     "text": [
      "{\"asctime\": \"2025-10-31 14:57:54,235\", \"name\": \"chunker\", \"levelname\": \"INFO\", \"message\": \"Created 22 chunks from /Users/aamirsyedaltaf/Documents/curator-pommeline/data/products/macbook_air.md\"}\n"
     ]
    },
    {
     "name": "stderr",
     "output_type": "stream",
     "text": [
      "2025-10-31 14:57:54,235 - chunker - INFO - Created 22 chunks from /Users/aamirsyedaltaf/Documents/curator-pommeline/data/products/macbook_air.md\n"
     ]
    },
    {
     "name": "stdout",
     "output_type": "stream",
     "text": [
      "{\"asctime\": \"2025-10-31 14:57:54,240\", \"name\": \"chunker\", \"levelname\": \"INFO\", \"message\": \"Created 12 chunks from /Users/aamirsyedaltaf/Documents/curator-pommeline/data/products/macbook_pro_overview.md\"}\n"
     ]
    },
    {
     "name": "stderr",
     "output_type": "stream",
     "text": [
      "2025-10-31 14:57:54,240 - chunker - INFO - Created 12 chunks from /Users/aamirsyedaltaf/Documents/curator-pommeline/data/products/macbook_pro_overview.md\n"
     ]
    },
    {
     "name": "stdout",
     "output_type": "stream",
     "text": [
      "{\"asctime\": \"2025-10-31 14:57:54,243\", \"name\": \"chunker\", \"levelname\": \"INFO\", \"message\": \"Created 22 chunks from /Users/aamirsyedaltaf/Documents/curator-pommeline/data/products/switch_from_pc_to_mac.md\"}\n"
     ]
    },
    {
     "name": "stderr",
     "output_type": "stream",
     "text": [
      "2025-10-31 14:57:54,243 - chunker - INFO - Created 22 chunks from /Users/aamirsyedaltaf/Documents/curator-pommeline/data/products/switch_from_pc_to_mac.md\n"
     ]
    },
    {
     "name": "stdout",
     "output_type": "stream",
     "text": [
      "{\"asctime\": \"2025-10-31 14:57:54,248\", \"name\": \"chunker\", \"levelname\": \"INFO\", \"message\": \"Created 24 chunks from /Users/aamirsyedaltaf/Documents/curator-pommeline/data/products/iphone_air.md\"}\n"
     ]
    },
    {
     "name": "stderr",
     "output_type": "stream",
     "text": [
      "2025-10-31 14:57:54,248 - chunker - INFO - Created 24 chunks from /Users/aamirsyedaltaf/Documents/curator-pommeline/data/products/iphone_air.md\n"
     ]
    },
    {
     "name": "stdout",
     "output_type": "stream",
     "text": [
      "{\"asctime\": \"2025-10-31 14:57:54,249\", \"name\": \"chunker\", \"levelname\": \"INFO\", \"message\": \"Created 3 chunks from /Users/aamirsyedaltaf/Documents/curator-pommeline/data/products/compare_mac_models_clean.md\"}\n"
     ]
    },
    {
     "name": "stderr",
     "output_type": "stream",
     "text": [
      "2025-10-31 14:57:54,249 - chunker - INFO - Created 3 chunks from /Users/aamirsyedaltaf/Documents/curator-pommeline/data/products/compare_mac_models_clean.md\n"
     ]
    },
    {
     "name": "stdout",
     "output_type": "stream",
     "text": [
      "{\"asctime\": \"2025-10-31 14:57:54,251\", \"name\": \"chunker\", \"levelname\": \"INFO\", \"message\": \"Created 5 chunks from /Users/aamirsyedaltaf/Documents/curator-pommeline/data/products/macbook_pro_tech_specs_clean.md\"}\n"
     ]
    },
    {
     "name": "stderr",
     "output_type": "stream",
     "text": [
      "2025-10-31 14:57:54,251 - chunker - INFO - Created 5 chunks from /Users/aamirsyedaltaf/Documents/curator-pommeline/data/products/macbook_pro_tech_specs_clean.md\n"
     ]
    },
    {
     "name": "stdout",
     "output_type": "stream",
     "text": [
      "{\"asctime\": \"2025-10-31 14:57:54,254\", \"name\": \"chunker\", \"levelname\": \"INFO\", \"message\": \"Created 34 chunks from /Users/aamirsyedaltaf/Documents/curator-pommeline/data/products/iphone16e_clean.md\"}\n"
     ]
    },
    {
     "name": "stderr",
     "output_type": "stream",
     "text": [
      "2025-10-31 14:57:54,254 - chunker - INFO - Created 34 chunks from /Users/aamirsyedaltaf/Documents/curator-pommeline/data/products/iphone16e_clean.md\n"
     ]
    },
    {
     "name": "stdout",
     "output_type": "stream",
     "text": [
      "{\"asctime\": \"2025-10-31 14:57:54,257\", \"name\": \"chunker\", \"levelname\": \"INFO\", \"message\": \"Created 22 chunks from /Users/aamirsyedaltaf/Documents/curator-pommeline/data/policies/student_discount.md\"}\n"
     ]
    },
    {
     "name": "stderr",
     "output_type": "stream",
     "text": [
      "2025-10-31 14:57:54,257 - chunker - INFO - Created 22 chunks from /Users/aamirsyedaltaf/Documents/curator-pommeline/data/policies/student_discount.md\n"
     ]
    },
    {
     "name": "stdout",
     "output_type": "stream",
     "text": [
      "{\"asctime\": \"2025-10-31 14:57:54,261\", \"name\": \"chunker\", \"levelname\": \"INFO\", \"message\": \"Created 30 chunks from /Users/aamirsyedaltaf/Documents/curator-pommeline/data/policies/return_policy.md\"}\n"
     ]
    },
    {
     "name": "stderr",
     "output_type": "stream",
     "text": [
      "2025-10-31 14:57:54,261 - chunker - INFO - Created 30 chunks from /Users/aamirsyedaltaf/Documents/curator-pommeline/data/policies/return_policy.md\n",
      "2025-10-31 14:57:54,263 - ingestion_demo - INFO - Created 453 chunks from 21 documents\n"
     ]
    },
    {
     "name": "stdout",
     "output_type": "stream",
     "text": [
      "Total chunks created: 453\n",
      "Average chunk length: 601.7 characters\n",
      "\n",
      "Chunk 1:\n",
      "  ID: /Users/aamirsyedaltaf/Documents/curator-pommeline/data/products/iphone16_specs.md_chunk_0\n",
      "  Source: /Users/aamirsyedaltaf/Documents/curator-pommeline/data/products/iphone16_specs.md\n",
      "  Length: 68 characters\n",
      "  Preview: # iPhone 16 and iPhone 16 Plus - Technical Specifications\n",
      "\n",
      "## Finish...\n",
      "\n",
      "Chunk 2:\n",
      "  ID: /Users/aamirsyedaltaf/Documents/curator-pommeline/data/products/iphone16_specs.md_chunk_1\n",
      "  Source: /Users/aamirsyedaltaf/Documents/curator-pommeline/data/products/iphone16_specs.md\n",
      "  Length: 261 characters\n",
      "  Preview: ### iPhone 16\n",
      "\n",
      "**[Image: Back view of iPhone 16 in five different colours]**\n",
      "* **Colours:** Black, White, Pink, Teal, Ultramarine\n",
      "* **Materials:**\n",
      "* *...\n",
      "\n",
      "Chunk 3:\n",
      "  ID: /Users/aamirsyedaltaf/Documents/curator-pommeline/data/products/iphone16_specs.md_chunk_2\n",
      "  Source: /Users/aamirsyedaltaf/Documents/curator-pommeline/data/products/iphone16_specs.md\n",
      "  Length: 271 characters\n",
      "  Preview: ### iPhone 16 Plus\n",
      "\n",
      "**[Image: Back view of iPhone 16 Plus in five different colours]**\n",
      "* **Colours:** Black, White, Pink, Teal, Ultramarine\n",
      "* **Materi...\n"
     ]
    }
   ],
   "source": [
    "# Initialize document chunker\n",
    "chunker = SemanticChunker(\n",
    "    chunk_size=1024,\n",
    "    chunk_overlap=200,\n",
    "    min_chunk_size=200,\n",
    ")\n",
    "\n",
    "# Chunk all documents\n",
    "all_chunks = []\n",
    "\n",
    "for doc in all_documents:\n",
    "    chunks = chunker.chunk_text(\n",
    "        text=doc['content'],\n",
    "        source=doc['source']\n",
    "    )\n",
    "    all_chunks.extend(chunks)\n",
    "\n",
    "logger.info(f\"Created {len(all_chunks)} chunks from {len(all_documents)} documents\")\n",
    "\n",
    "# Display chunk information\n",
    "print(f\"Total chunks created: {len(all_chunks)}\")\n",
    "print(f\"Average chunk length: {sum(len(chunk.content) for chunk in all_chunks) / len(all_chunks):.1f} characters\")\n",
    "\n",
    "# Show first few chunks\n",
    "for i, chunk in enumerate(all_chunks[:3]):\n",
    "    print(f\"\\nChunk {i+1}:\")\n",
    "    print(f\"  ID: {chunk.chunk_id}\")\n",
    "    print(f\"  Source: {chunk.source_file}\")\n",
    "    print(f\"  Length: {len(chunk.content)} characters\")\n",
    "    print(f\"  Preview: {chunk.content[:150]}...\")"
   ]
  },
  {
   "cell_type": "markdown",
   "id": "63b2e31c",
   "metadata": {},
   "source": [
    "## Unified Index Ingestion\n",
    "\n",
    "Use the UnifiedIndexIngestion system to store both dense and sparse vectors in the same 768-dimensional space."
   ]
  },
  {
   "cell_type": "code",
   "execution_count": 8,
   "id": "05dd05c7",
   "metadata": {},
   "outputs": [
    {
     "name": "stdout",
     "output_type": "stream",
     "text": [
      "Unified Index Configuration:\n",
      "  Vector Store Index: curator-pommeline\n",
      "  Settings Index: curator-pommeline-44344f0d\n",
      "  Using Index Name: curator-pommeline\n",
      "{\"asctime\": \"2025-10-31 14:58:18,787\", \"name\": \"pinecone_index_client\", \"levelname\": \"INFO\", \"message\": \"Initialized PineconeIndexClient for dense index 'curator-pommeline' (dim: 768, metric: dotproduct)\"}\n"
     ]
    },
    {
     "name": "stderr",
     "output_type": "stream",
     "text": [
      "2025-10-31 14:58:18,787 - pinecone_index_client - INFO - Initialized PineconeIndexClient for dense index 'curator-pommeline' (dim: 768, metric: dotproduct)\n"
     ]
    },
    {
     "name": "stdout",
     "output_type": "stream",
     "text": [
      "{\"asctime\": \"2025-10-31 14:58:18,797\", \"name\": \"pinecone_vector_store\", \"levelname\": \"INFO\", \"message\": \"Connected to Pinecone Index container: {'namespaces': {'curator-pommeline': {'vectorCount': 212}, 'curator-pommeline-7b1a7bbb': {'vectorCount': 0}, 'curator-pommeline-a9b4d456': {'vectorCount': 0}, '': {'vectorCount': 0}, 'curator-pommeline-f03bab83': {'vectorCount': 0}, 'curator-pommeline-12fa085f': {'vectorCount': 0}, 'pommeline': {'vectorCount': 0}}, 'dimension': 768, 'indexFullness': 0.0, 'totalVectorCount': 212}\"}\n"
     ]
    },
    {
     "name": "stderr",
     "output_type": "stream",
     "text": [
      "2025-10-31 14:58:18,797 - pinecone_vector_store - INFO - Connected to Pinecone Index container: {'namespaces': {'curator-pommeline': {'vectorCount': 212}, 'curator-pommeline-7b1a7bbb': {'vectorCount': 0}, 'curator-pommeline-a9b4d456': {'vectorCount': 0}, '': {'vectorCount': 0}, 'curator-pommeline-f03bab83': {'vectorCount': 0}, 'curator-pommeline-12fa085f': {'vectorCount': 0}, 'pommeline': {'vectorCount': 0}}, 'dimension': 768, 'indexFullness': 0.0, 'totalVectorCount': 212}\n"
     ]
    },
    {
     "name": "stdout",
     "output_type": "stream",
     "text": [
      "{\"asctime\": \"2025-10-31 14:58:18,797\", \"name\": \"bm25_vectorizer\", \"levelname\": \"INFO\", \"message\": \"Initialized BM25Vectorizer with k1=1.2, b=0.75, fixed_dim=768\"}\n"
     ]
    },
    {
     "name": "stderr",
     "output_type": "stream",
     "text": [
      "2025-10-31 14:58:18,797 - bm25_vectorizer - INFO - Initialized BM25Vectorizer with k1=1.2, b=0.75, fixed_dim=768\n"
     ]
    },
    {
     "name": "stdout",
     "output_type": "stream",
     "text": [
      "{\"asctime\": \"2025-10-31 14:58:18,798\", \"name\": \"unified_index_ingestion\", \"levelname\": \"INFO\", \"message\": \"Initialized UnifiedIndexIngestion: index='curator-pommeline', dim=768, id='44344f0d'\"}\n"
     ]
    },
    {
     "name": "stderr",
     "output_type": "stream",
     "text": [
      "2025-10-31 14:58:18,798 - unified_index_ingestion - INFO - Initialized UnifiedIndexIngestion: index='curator-pommeline', dim=768, id='44344f0d'\n"
     ]
    },
    {
     "name": "stdout",
     "output_type": "stream",
     "text": [
      "Initialized UnifiedIndexIngestion:\n",
      "  Index: curator-pommeline\n",
      "  Ingestion ID: 44344f0d\n",
      "  Vector Dimension: 768\n",
      "  BM25 Vectorizer: Initialized\n"
     ]
    }
   ],
   "source": [
    "# Import the UnifiedIndexIngestion system\n",
    "from src.ingestion.unified_index_ingestion import UnifiedIndexIngestion\n",
    "\n",
    "# Use the same index name as the vector store\n",
    "actual_index_name = vector_store.index_name\n",
    "\n",
    "print(f\"Unified Index Configuration:\")\n",
    "print(f\"  Vector Store Index: {vector_store.index_name}\")\n",
    "print(f\"  Settings Index: {settings.pinecone_index_name}\")\n",
    "print(f\"  Using Index Name: {actual_index_name}\")\n",
    "\n",
    "# Initialize the unified index ingestion system\n",
    "unified_ingestion = UnifiedIndexIngestion(\n",
    "    index_name=actual_index_name,\n",
    "    ingestion_id=index_uuid,\n",
    "    vector_dimension=DIMENSION\n",
    ")\n",
    "\n",
    "print(f\"Initialized UnifiedIndexIngestion:\")\n",
    "print(f\"  Index: {unified_ingestion.index_name}\")\n",
    "print(f\"  Ingestion ID: {unified_ingestion.ingestion_id}\")\n",
    "print(f\"  Vector Dimension: {unified_ingestion.vector_dimension}\")\n",
    "print(f\"  BM25 Vectorizer: {'Initialized' if unified_ingestion.bm25_vectorizer else 'Not initialized'}\")"
   ]
  },
  {
   "cell_type": "code",
   "execution_count": 9,
   "id": "88e693ef",
   "metadata": {},
   "outputs": [
    {
     "name": "stderr",
     "output_type": "stream",
     "text": [
      "2025-10-31 14:59:20,093 - ingestion_demo - INFO - Starting unified index ingestion for 453 chunks\n"
     ]
    },
    {
     "name": "stdout",
     "output_type": "stream",
     "text": [
      "{\"asctime\": \"2025-10-31 14:59:20,094\", \"name\": \"unified_index_ingestion\", \"levelname\": \"INFO\", \"message\": \"Starting unified index ingestion of 453 chunks into 768-dim space\"}\n"
     ]
    },
    {
     "name": "stderr",
     "output_type": "stream",
     "text": [
      "2025-10-31 14:59:20,094 - unified_index_ingestion - INFO - Starting unified index ingestion of 453 chunks into 768-dim space\n"
     ]
    },
    {
     "name": "stdout",
     "output_type": "stream",
     "text": [
      "{\"asctime\": \"2025-10-31 14:59:20,095\", \"name\": \"unified_index_ingestion\", \"levelname\": \"INFO\", \"message\": \"Fitting BM25 vectorizer on document corpus\"}\n"
     ]
    },
    {
     "name": "stderr",
     "output_type": "stream",
     "text": [
      "2025-10-31 14:59:20,095 - unified_index_ingestion - INFO - Fitting BM25 vectorizer on document corpus\n"
     ]
    },
    {
     "name": "stdout",
     "output_type": "stream",
     "text": [
      "{\"asctime\": \"2025-10-31 14:59:20,096\", \"name\": \"bm25_vectorizer\", \"levelname\": \"INFO\", \"message\": \"Fitting BM25Vectorizer on 453 documents\"}\n"
     ]
    },
    {
     "name": "stderr",
     "output_type": "stream",
     "text": [
      "2025-10-31 14:59:20,096 - bm25_vectorizer - INFO - Fitting BM25Vectorizer on 453 documents\n"
     ]
    },
    {
     "name": "stdout",
     "output_type": "stream",
     "text": [
      "{\"asctime\": \"2025-10-31 14:59:20,260\", \"name\": \"bm25_vectorizer\", \"levelname\": \"INFO\", \"message\": \"BM25Vectorizer fitted with vocabulary size: 768 (fixed_dim: 768)\"}\n"
     ]
    },
    {
     "name": "stderr",
     "output_type": "stream",
     "text": [
      "2025-10-31 14:59:20,260 - bm25_vectorizer - INFO - BM25Vectorizer fitted with vocabulary size: 768 (fixed_dim: 768)\n"
     ]
    },
    {
     "name": "stdout",
     "output_type": "stream",
     "text": [
      "{\"asctime\": \"2025-10-31 14:59:20,281\", \"name\": \"embedder\", \"levelname\": \"INFO\", \"message\": \"Loading embedding model: google/embeddinggemma-300m\"}\n"
     ]
    },
    {
     "name": "stderr",
     "output_type": "stream",
     "text": [
      "2025-10-31 14:59:20,281 - embedder - INFO - Loading embedding model: google/embeddinggemma-300m\n",
      "2025-10-31 14:59:20,283 - sentence_transformers.SentenceTransformer - INFO - Load pretrained SentenceTransformer: google/embeddinggemma-300m\n",
      "2025-10-31 14:59:27,551 - sentence_transformers.SentenceTransformer - INFO - 14 prompts are loaded, with the keys: ['query', 'document', 'BitextMining', 'Clustering', 'Classification', 'InstructionRetrieval', 'MultilabelClassification', 'PairClassification', 'Reranking', 'Retrieval', 'Retrieval-query', 'Retrieval-document', 'STS', 'Summarization']\n",
      "python(11811) MallocStackLogging: can't turn off malloc stack logging because it was not enabled.\n"
     ]
    },
    {
     "name": "stdout",
     "output_type": "stream",
     "text": [
      "{\"asctime\": \"2025-10-31 14:59:28,340\", \"name\": \"embedder\", \"levelname\": \"INFO\", \"message\": \"Model loaded successfully. Embedding dimension: 768\"}\n"
     ]
    },
    {
     "name": "stderr",
     "output_type": "stream",
     "text": [
      "2025-10-31 14:59:28,340 - embedder - INFO - Model loaded successfully. Embedding dimension: 768\n"
     ]
    },
    {
     "name": "stdout",
     "output_type": "stream",
     "text": [
      "{\"asctime\": \"2025-10-31 14:59:29,671\", \"name\": \"unified_index_ingestion\", \"levelname\": \"INFO\", \"message\": \"Processed batch 1: dense=10, sparse=10\"}\n"
     ]
    },
    {
     "name": "stderr",
     "output_type": "stream",
     "text": [
      "2025-10-31 14:59:29,671 - unified_index_ingestion - INFO - Processed batch 1: dense=10, sparse=10\n"
     ]
    },
    {
     "name": "stdout",
     "output_type": "stream",
     "text": [
      "{\"asctime\": \"2025-10-31 14:59:30,823\", \"name\": \"unified_index_ingestion\", \"levelname\": \"INFO\", \"message\": \"Processed batch 2: dense=10, sparse=10\"}\n"
     ]
    },
    {
     "name": "stderr",
     "output_type": "stream",
     "text": [
      "2025-10-31 14:59:30,823 - unified_index_ingestion - INFO - Processed batch 2: dense=10, sparse=10\n"
     ]
    },
    {
     "name": "stdout",
     "output_type": "stream",
     "text": [
      "{\"asctime\": \"2025-10-31 14:59:31,514\", \"name\": \"unified_index_ingestion\", \"levelname\": \"INFO\", \"message\": \"Processed batch 3: dense=10, sparse=10\"}\n"
     ]
    },
    {
     "name": "stderr",
     "output_type": "stream",
     "text": [
      "2025-10-31 14:59:31,514 - unified_index_ingestion - INFO - Processed batch 3: dense=10, sparse=10\n"
     ]
    },
    {
     "name": "stdout",
     "output_type": "stream",
     "text": [
      "{\"asctime\": \"2025-10-31 14:59:32,282\", \"name\": \"unified_index_ingestion\", \"levelname\": \"INFO\", \"message\": \"Processed batch 4: dense=10, sparse=10\"}\n"
     ]
    },
    {
     "name": "stderr",
     "output_type": "stream",
     "text": [
      "2025-10-31 14:59:32,282 - unified_index_ingestion - INFO - Processed batch 4: dense=10, sparse=10\n"
     ]
    },
    {
     "name": "stdout",
     "output_type": "stream",
     "text": [
      "{\"asctime\": \"2025-10-31 14:59:33,117\", \"name\": \"unified_index_ingestion\", \"levelname\": \"INFO\", \"message\": \"Processed batch 5: dense=10, sparse=10\"}\n"
     ]
    },
    {
     "name": "stderr",
     "output_type": "stream",
     "text": [
      "2025-10-31 14:59:33,117 - unified_index_ingestion - INFO - Processed batch 5: dense=10, sparse=10\n"
     ]
    },
    {
     "name": "stdout",
     "output_type": "stream",
     "text": [
      "{\"asctime\": \"2025-10-31 14:59:33,737\", \"name\": \"unified_index_ingestion\", \"levelname\": \"INFO\", \"message\": \"Processed batch 6: dense=10, sparse=10\"}\n"
     ]
    },
    {
     "name": "stderr",
     "output_type": "stream",
     "text": [
      "2025-10-31 14:59:33,737 - unified_index_ingestion - INFO - Processed batch 6: dense=10, sparse=10\n"
     ]
    },
    {
     "name": "stdout",
     "output_type": "stream",
     "text": [
      "{\"asctime\": \"2025-10-31 14:59:34,303\", \"name\": \"unified_index_ingestion\", \"levelname\": \"INFO\", \"message\": \"Processed batch 7: dense=10, sparse=10\"}\n"
     ]
    },
    {
     "name": "stderr",
     "output_type": "stream",
     "text": [
      "2025-10-31 14:59:34,303 - unified_index_ingestion - INFO - Processed batch 7: dense=10, sparse=10\n"
     ]
    },
    {
     "name": "stdout",
     "output_type": "stream",
     "text": [
      "{\"asctime\": \"2025-10-31 14:59:35,031\", \"name\": \"unified_index_ingestion\", \"levelname\": \"INFO\", \"message\": \"Processed batch 8: dense=10, sparse=10\"}\n"
     ]
    },
    {
     "name": "stderr",
     "output_type": "stream",
     "text": [
      "2025-10-31 14:59:35,031 - unified_index_ingestion - INFO - Processed batch 8: dense=10, sparse=10\n"
     ]
    },
    {
     "name": "stdout",
     "output_type": "stream",
     "text": [
      "{\"asctime\": \"2025-10-31 14:59:35,558\", \"name\": \"unified_index_ingestion\", \"levelname\": \"INFO\", \"message\": \"Processed batch 9: dense=10, sparse=10\"}\n"
     ]
    },
    {
     "name": "stderr",
     "output_type": "stream",
     "text": [
      "2025-10-31 14:59:35,558 - unified_index_ingestion - INFO - Processed batch 9: dense=10, sparse=10\n"
     ]
    },
    {
     "name": "stdout",
     "output_type": "stream",
     "text": [
      "{\"asctime\": \"2025-10-31 14:59:36,442\", \"name\": \"unified_index_ingestion\", \"levelname\": \"INFO\", \"message\": \"Processed batch 10: dense=10, sparse=10\"}\n"
     ]
    },
    {
     "name": "stderr",
     "output_type": "stream",
     "text": [
      "2025-10-31 14:59:36,442 - unified_index_ingestion - INFO - Processed batch 10: dense=10, sparse=10\n"
     ]
    },
    {
     "name": "stdout",
     "output_type": "stream",
     "text": [
      "{\"asctime\": \"2025-10-31 14:59:37,424\", \"name\": \"unified_index_ingestion\", \"levelname\": \"INFO\", \"message\": \"Processed batch 11: dense=10, sparse=10\"}\n"
     ]
    },
    {
     "name": "stderr",
     "output_type": "stream",
     "text": [
      "2025-10-31 14:59:37,424 - unified_index_ingestion - INFO - Processed batch 11: dense=10, sparse=10\n"
     ]
    },
    {
     "name": "stdout",
     "output_type": "stream",
     "text": [
      "{\"asctime\": \"2025-10-31 14:59:38,287\", \"name\": \"unified_index_ingestion\", \"levelname\": \"INFO\", \"message\": \"Processed batch 12: dense=10, sparse=10\"}\n"
     ]
    },
    {
     "name": "stderr",
     "output_type": "stream",
     "text": [
      "2025-10-31 14:59:38,287 - unified_index_ingestion - INFO - Processed batch 12: dense=10, sparse=10\n"
     ]
    },
    {
     "name": "stdout",
     "output_type": "stream",
     "text": [
      "{\"asctime\": \"2025-10-31 14:59:39,053\", \"name\": \"unified_index_ingestion\", \"levelname\": \"INFO\", \"message\": \"Processed batch 13: dense=10, sparse=10\"}\n"
     ]
    },
    {
     "name": "stderr",
     "output_type": "stream",
     "text": [
      "2025-10-31 14:59:39,053 - unified_index_ingestion - INFO - Processed batch 13: dense=10, sparse=10\n"
     ]
    },
    {
     "name": "stdout",
     "output_type": "stream",
     "text": [
      "{\"asctime\": \"2025-10-31 14:59:40,117\", \"name\": \"unified_index_ingestion\", \"levelname\": \"INFO\", \"message\": \"Processed batch 14: dense=10, sparse=10\"}\n"
     ]
    },
    {
     "name": "stderr",
     "output_type": "stream",
     "text": [
      "2025-10-31 14:59:40,117 - unified_index_ingestion - INFO - Processed batch 14: dense=10, sparse=10\n"
     ]
    },
    {
     "name": "stdout",
     "output_type": "stream",
     "text": [
      "{\"asctime\": \"2025-10-31 14:59:40,928\", \"name\": \"unified_index_ingestion\", \"levelname\": \"INFO\", \"message\": \"Processed batch 15: dense=10, sparse=10\"}\n"
     ]
    },
    {
     "name": "stderr",
     "output_type": "stream",
     "text": [
      "2025-10-31 14:59:40,928 - unified_index_ingestion - INFO - Processed batch 15: dense=10, sparse=10\n"
     ]
    },
    {
     "name": "stdout",
     "output_type": "stream",
     "text": [
      "{\"asctime\": \"2025-10-31 14:59:41,959\", \"name\": \"unified_index_ingestion\", \"levelname\": \"INFO\", \"message\": \"Processed batch 16: dense=10, sparse=10\"}\n"
     ]
    },
    {
     "name": "stderr",
     "output_type": "stream",
     "text": [
      "2025-10-31 14:59:41,959 - unified_index_ingestion - INFO - Processed batch 16: dense=10, sparse=10\n"
     ]
    },
    {
     "name": "stdout",
     "output_type": "stream",
     "text": [
      "{\"asctime\": \"2025-10-31 14:59:42,449\", \"name\": \"unified_index_ingestion\", \"levelname\": \"INFO\", \"message\": \"Processed batch 17: dense=10, sparse=10\"}\n"
     ]
    },
    {
     "name": "stderr",
     "output_type": "stream",
     "text": [
      "2025-10-31 14:59:42,449 - unified_index_ingestion - INFO - Processed batch 17: dense=10, sparse=10\n"
     ]
    },
    {
     "name": "stdout",
     "output_type": "stream",
     "text": [
      "{\"asctime\": \"2025-10-31 14:59:43,115\", \"name\": \"unified_index_ingestion\", \"levelname\": \"INFO\", \"message\": \"Processed batch 18: dense=10, sparse=10\"}\n"
     ]
    },
    {
     "name": "stderr",
     "output_type": "stream",
     "text": [
      "2025-10-31 14:59:43,115 - unified_index_ingestion - INFO - Processed batch 18: dense=10, sparse=10\n"
     ]
    },
    {
     "name": "stdout",
     "output_type": "stream",
     "text": [
      "{\"asctime\": \"2025-10-31 14:59:43,911\", \"name\": \"unified_index_ingestion\", \"levelname\": \"INFO\", \"message\": \"Processed batch 19: dense=10, sparse=10\"}\n"
     ]
    },
    {
     "name": "stderr",
     "output_type": "stream",
     "text": [
      "2025-10-31 14:59:43,911 - unified_index_ingestion - INFO - Processed batch 19: dense=10, sparse=10\n"
     ]
    },
    {
     "name": "stdout",
     "output_type": "stream",
     "text": [
      "{\"asctime\": \"2025-10-31 14:59:44,545\", \"name\": \"unified_index_ingestion\", \"levelname\": \"INFO\", \"message\": \"Processed batch 20: dense=10, sparse=10\"}\n"
     ]
    },
    {
     "name": "stderr",
     "output_type": "stream",
     "text": [
      "2025-10-31 14:59:44,545 - unified_index_ingestion - INFO - Processed batch 20: dense=10, sparse=10\n"
     ]
    },
    {
     "name": "stdout",
     "output_type": "stream",
     "text": [
      "{\"asctime\": \"2025-10-31 14:59:45,253\", \"name\": \"unified_index_ingestion\", \"levelname\": \"INFO\", \"message\": \"Processed batch 21: dense=10, sparse=10\"}\n"
     ]
    },
    {
     "name": "stderr",
     "output_type": "stream",
     "text": [
      "2025-10-31 14:59:45,253 - unified_index_ingestion - INFO - Processed batch 21: dense=10, sparse=10\n"
     ]
    },
    {
     "name": "stdout",
     "output_type": "stream",
     "text": [
      "{\"asctime\": \"2025-10-31 14:59:45,873\", \"name\": \"unified_index_ingestion\", \"levelname\": \"INFO\", \"message\": \"Processed batch 22: dense=10, sparse=10\"}\n"
     ]
    },
    {
     "name": "stderr",
     "output_type": "stream",
     "text": [
      "2025-10-31 14:59:45,873 - unified_index_ingestion - INFO - Processed batch 22: dense=10, sparse=10\n"
     ]
    },
    {
     "name": "stdout",
     "output_type": "stream",
     "text": [
      "{\"asctime\": \"2025-10-31 14:59:46,765\", \"name\": \"unified_index_ingestion\", \"levelname\": \"INFO\", \"message\": \"Processed batch 23: dense=10, sparse=10\"}\n"
     ]
    },
    {
     "name": "stderr",
     "output_type": "stream",
     "text": [
      "2025-10-31 14:59:46,765 - unified_index_ingestion - INFO - Processed batch 23: dense=10, sparse=10\n"
     ]
    },
    {
     "name": "stdout",
     "output_type": "stream",
     "text": [
      "{\"asctime\": \"2025-10-31 14:59:47,691\", \"name\": \"unified_index_ingestion\", \"levelname\": \"INFO\", \"message\": \"Processed batch 24: dense=10, sparse=10\"}\n"
     ]
    },
    {
     "name": "stderr",
     "output_type": "stream",
     "text": [
      "2025-10-31 14:59:47,691 - unified_index_ingestion - INFO - Processed batch 24: dense=10, sparse=10\n"
     ]
    },
    {
     "name": "stdout",
     "output_type": "stream",
     "text": [
      "{\"asctime\": \"2025-10-31 14:59:48,637\", \"name\": \"unified_index_ingestion\", \"levelname\": \"INFO\", \"message\": \"Processed batch 25: dense=10, sparse=10\"}\n"
     ]
    },
    {
     "name": "stderr",
     "output_type": "stream",
     "text": [
      "2025-10-31 14:59:48,637 - unified_index_ingestion - INFO - Processed batch 25: dense=10, sparse=10\n"
     ]
    },
    {
     "name": "stdout",
     "output_type": "stream",
     "text": [
      "{\"asctime\": \"2025-10-31 14:59:49,401\", \"name\": \"unified_index_ingestion\", \"levelname\": \"INFO\", \"message\": \"Processed batch 26: dense=10, sparse=10\"}\n"
     ]
    },
    {
     "name": "stderr",
     "output_type": "stream",
     "text": [
      "2025-10-31 14:59:49,401 - unified_index_ingestion - INFO - Processed batch 26: dense=10, sparse=10\n"
     ]
    },
    {
     "name": "stdout",
     "output_type": "stream",
     "text": [
      "{\"asctime\": \"2025-10-31 14:59:50,164\", \"name\": \"unified_index_ingestion\", \"levelname\": \"INFO\", \"message\": \"Processed batch 27: dense=10, sparse=10\"}\n"
     ]
    },
    {
     "name": "stderr",
     "output_type": "stream",
     "text": [
      "2025-10-31 14:59:50,164 - unified_index_ingestion - INFO - Processed batch 27: dense=10, sparse=10\n"
     ]
    },
    {
     "name": "stdout",
     "output_type": "stream",
     "text": [
      "{\"asctime\": \"2025-10-31 14:59:50,928\", \"name\": \"unified_index_ingestion\", \"levelname\": \"INFO\", \"message\": \"Processed batch 28: dense=10, sparse=10\"}\n"
     ]
    },
    {
     "name": "stderr",
     "output_type": "stream",
     "text": [
      "2025-10-31 14:59:50,928 - unified_index_ingestion - INFO - Processed batch 28: dense=10, sparse=10\n"
     ]
    },
    {
     "name": "stdout",
     "output_type": "stream",
     "text": [
      "{\"asctime\": \"2025-10-31 14:59:51,924\", \"name\": \"unified_index_ingestion\", \"levelname\": \"INFO\", \"message\": \"Processed batch 29: dense=10, sparse=10\"}\n"
     ]
    },
    {
     "name": "stderr",
     "output_type": "stream",
     "text": [
      "2025-10-31 14:59:51,924 - unified_index_ingestion - INFO - Processed batch 29: dense=10, sparse=10\n"
     ]
    },
    {
     "name": "stdout",
     "output_type": "stream",
     "text": [
      "{\"asctime\": \"2025-10-31 14:59:52,762\", \"name\": \"unified_index_ingestion\", \"levelname\": \"INFO\", \"message\": \"Processed batch 30: dense=10, sparse=10\"}\n"
     ]
    },
    {
     "name": "stderr",
     "output_type": "stream",
     "text": [
      "2025-10-31 14:59:52,762 - unified_index_ingestion - INFO - Processed batch 30: dense=10, sparse=10\n"
     ]
    },
    {
     "name": "stdout",
     "output_type": "stream",
     "text": [
      "{\"asctime\": \"2025-10-31 14:59:53,499\", \"name\": \"unified_index_ingestion\", \"levelname\": \"INFO\", \"message\": \"Processed batch 31: dense=10, sparse=10\"}\n"
     ]
    },
    {
     "name": "stderr",
     "output_type": "stream",
     "text": [
      "2025-10-31 14:59:53,499 - unified_index_ingestion - INFO - Processed batch 31: dense=10, sparse=10\n"
     ]
    },
    {
     "name": "stdout",
     "output_type": "stream",
     "text": [
      "{\"asctime\": \"2025-10-31 14:59:53,857\", \"name\": \"unified_index_ingestion\", \"levelname\": \"INFO\", \"message\": \"Processed batch 32: dense=10, sparse=10\"}\n"
     ]
    },
    {
     "name": "stderr",
     "output_type": "stream",
     "text": [
      "2025-10-31 14:59:53,857 - unified_index_ingestion - INFO - Processed batch 32: dense=10, sparse=10\n"
     ]
    },
    {
     "name": "stdout",
     "output_type": "stream",
     "text": [
      "{\"asctime\": \"2025-10-31 14:59:54,154\", \"name\": \"unified_index_ingestion\", \"levelname\": \"INFO\", \"message\": \"Processed batch 33: dense=10, sparse=10\"}\n"
     ]
    },
    {
     "name": "stderr",
     "output_type": "stream",
     "text": [
      "2025-10-31 14:59:54,154 - unified_index_ingestion - INFO - Processed batch 33: dense=10, sparse=10\n"
     ]
    },
    {
     "name": "stdout",
     "output_type": "stream",
     "text": [
      "{\"asctime\": \"2025-10-31 14:59:54,848\", \"name\": \"unified_index_ingestion\", \"levelname\": \"INFO\", \"message\": \"Processed batch 34: dense=10, sparse=10\"}\n"
     ]
    },
    {
     "name": "stderr",
     "output_type": "stream",
     "text": [
      "2025-10-31 14:59:54,848 - unified_index_ingestion - INFO - Processed batch 34: dense=10, sparse=10\n"
     ]
    },
    {
     "name": "stdout",
     "output_type": "stream",
     "text": [
      "{\"asctime\": \"2025-10-31 14:59:55,484\", \"name\": \"unified_index_ingestion\", \"levelname\": \"INFO\", \"message\": \"Processed batch 35: dense=10, sparse=10\"}\n"
     ]
    },
    {
     "name": "stderr",
     "output_type": "stream",
     "text": [
      "2025-10-31 14:59:55,484 - unified_index_ingestion - INFO - Processed batch 35: dense=10, sparse=10\n"
     ]
    },
    {
     "name": "stdout",
     "output_type": "stream",
     "text": [
      "{\"asctime\": \"2025-10-31 15:00:03,768\", \"name\": \"unified_index_ingestion\", \"levelname\": \"INFO\", \"message\": \"Processed batch 36: dense=10, sparse=10\"}\n"
     ]
    },
    {
     "name": "stderr",
     "output_type": "stream",
     "text": [
      "2025-10-31 15:00:03,768 - unified_index_ingestion - INFO - Processed batch 36: dense=10, sparse=10\n"
     ]
    },
    {
     "name": "stdout",
     "output_type": "stream",
     "text": [
      "{\"asctime\": \"2025-10-31 15:00:08,493\", \"name\": \"unified_index_ingestion\", \"levelname\": \"INFO\", \"message\": \"Processed batch 37: dense=10, sparse=10\"}\n"
     ]
    },
    {
     "name": "stderr",
     "output_type": "stream",
     "text": [
      "2025-10-31 15:00:08,493 - unified_index_ingestion - INFO - Processed batch 37: dense=10, sparse=10\n"
     ]
    },
    {
     "name": "stdout",
     "output_type": "stream",
     "text": [
      "{\"asctime\": \"2025-10-31 15:00:09,273\", \"name\": \"unified_index_ingestion\", \"levelname\": \"INFO\", \"message\": \"Processed batch 38: dense=10, sparse=10\"}\n"
     ]
    },
    {
     "name": "stderr",
     "output_type": "stream",
     "text": [
      "2025-10-31 15:00:09,273 - unified_index_ingestion - INFO - Processed batch 38: dense=10, sparse=10\n"
     ]
    },
    {
     "name": "stdout",
     "output_type": "stream",
     "text": [
      "{\"asctime\": \"2025-10-31 15:00:10,006\", \"name\": \"unified_index_ingestion\", \"levelname\": \"INFO\", \"message\": \"Processed batch 39: dense=10, sparse=10\"}\n"
     ]
    },
    {
     "name": "stderr",
     "output_type": "stream",
     "text": [
      "2025-10-31 15:00:10,006 - unified_index_ingestion - INFO - Processed batch 39: dense=10, sparse=10\n"
     ]
    },
    {
     "name": "stdout",
     "output_type": "stream",
     "text": [
      "{\"asctime\": \"2025-10-31 15:00:11,056\", \"name\": \"unified_index_ingestion\", \"levelname\": \"INFO\", \"message\": \"Processed batch 40: dense=10, sparse=10\"}\n"
     ]
    },
    {
     "name": "stderr",
     "output_type": "stream",
     "text": [
      "2025-10-31 15:00:11,056 - unified_index_ingestion - INFO - Processed batch 40: dense=10, sparse=10\n"
     ]
    },
    {
     "name": "stdout",
     "output_type": "stream",
     "text": [
      "{\"asctime\": \"2025-10-31 15:00:12,079\", \"name\": \"unified_index_ingestion\", \"levelname\": \"INFO\", \"message\": \"Processed batch 41: dense=10, sparse=10\"}\n"
     ]
    },
    {
     "name": "stderr",
     "output_type": "stream",
     "text": [
      "2025-10-31 15:00:12,079 - unified_index_ingestion - INFO - Processed batch 41: dense=10, sparse=10\n"
     ]
    },
    {
     "name": "stdout",
     "output_type": "stream",
     "text": [
      "{\"asctime\": \"2025-10-31 15:00:12,344\", \"name\": \"unified_index_ingestion\", \"levelname\": \"INFO\", \"message\": \"Processed batch 42: dense=10, sparse=10\"}\n"
     ]
    },
    {
     "name": "stderr",
     "output_type": "stream",
     "text": [
      "2025-10-31 15:00:12,344 - unified_index_ingestion - INFO - Processed batch 42: dense=10, sparse=10\n"
     ]
    },
    {
     "name": "stdout",
     "output_type": "stream",
     "text": [
      "{\"asctime\": \"2025-10-31 15:00:12,732\", \"name\": \"unified_index_ingestion\", \"levelname\": \"INFO\", \"message\": \"Processed batch 43: dense=10, sparse=10\"}\n"
     ]
    },
    {
     "name": "stderr",
     "output_type": "stream",
     "text": [
      "2025-10-31 15:00:12,732 - unified_index_ingestion - INFO - Processed batch 43: dense=10, sparse=10\n"
     ]
    },
    {
     "name": "stdout",
     "output_type": "stream",
     "text": [
      "{\"asctime\": \"2025-10-31 15:00:13,039\", \"name\": \"unified_index_ingestion\", \"levelname\": \"INFO\", \"message\": \"Processed batch 44: dense=10, sparse=10\"}\n"
     ]
    },
    {
     "name": "stderr",
     "output_type": "stream",
     "text": [
      "2025-10-31 15:00:13,039 - unified_index_ingestion - INFO - Processed batch 44: dense=10, sparse=10\n"
     ]
    },
    {
     "name": "stdout",
     "output_type": "stream",
     "text": [
      "{\"asctime\": \"2025-10-31 15:00:13,304\", \"name\": \"unified_index_ingestion\", \"levelname\": \"INFO\", \"message\": \"Processed batch 45: dense=10, sparse=10\"}\n"
     ]
    },
    {
     "name": "stderr",
     "output_type": "stream",
     "text": [
      "2025-10-31 15:00:13,304 - unified_index_ingestion - INFO - Processed batch 45: dense=10, sparse=10\n"
     ]
    },
    {
     "name": "stdout",
     "output_type": "stream",
     "text": [
      "{\"asctime\": \"2025-10-31 15:00:13,756\", \"name\": \"unified_index_ingestion\", \"levelname\": \"INFO\", \"message\": \"Processed batch 46: dense=3, sparse=3\"}\n"
     ]
    },
    {
     "name": "stderr",
     "output_type": "stream",
     "text": [
      "2025-10-31 15:00:13,756 - unified_index_ingestion - INFO - Processed batch 46: dense=3, sparse=3\n"
     ]
    },
    {
     "name": "stdout",
     "output_type": "stream",
     "text": [
      "{\"asctime\": \"2025-10-31 15:00:13,760\", \"name\": \"bm25_vectorizer\", \"levelname\": \"INFO\", \"message\": \"BM25Vectorizer saved to data/models/bm25_44344f0d.pkl\"}\n"
     ]
    },
    {
     "name": "stderr",
     "output_type": "stream",
     "text": [
      "2025-10-31 15:00:13,760 - bm25_vectorizer - INFO - BM25Vectorizer saved to data/models/bm25_44344f0d.pkl\n"
     ]
    },
    {
     "name": "stdout",
     "output_type": "stream",
     "text": [
      "{\"asctime\": \"2025-10-31 15:00:13,761\", \"name\": \"unified_index_ingestion\", \"levelname\": \"INFO\", \"message\": \"BM25 vectorizer saved for ingestion ID: 44344f0d\"}\n"
     ]
    },
    {
     "name": "stderr",
     "output_type": "stream",
     "text": [
      "2025-10-31 15:00:13,761 - unified_index_ingestion - INFO - BM25 vectorizer saved for ingestion ID: 44344f0d\n"
     ]
    },
    {
     "name": "stdout",
     "output_type": "stream",
     "text": [
      "{\"asctime\": \"2025-10-31 15:00:13,761\", \"name\": \"unified_index_ingestion\", \"levelname\": \"INFO\", \"message\": \"Unified index ingestion completed: {'dense_vectors': 453, 'sparse_vectors': 453, 'failed': 0}\"}\n"
     ]
    },
    {
     "name": "stderr",
     "output_type": "stream",
     "text": [
      "2025-10-31 15:00:13,761 - unified_index_ingestion - INFO - Unified index ingestion completed: {'dense_vectors': 453, 'sparse_vectors': 453, 'failed': 0}\n",
      "2025-10-31 15:00:13,766 - ingestion_demo - INFO - Unified index ingestion completed successfully!\n",
      "2025-10-31 15:00:13,766 - ingestion_demo - INFO -   Dense vectors stored: 453\n",
      "2025-10-31 15:00:13,766 - ingestion_demo - INFO -   Sparse vectors stored: 453\n",
      "2025-10-31 15:00:13,766 - ingestion_demo - INFO -   Failed chunks: 0\n",
      "2025-10-31 15:00:13,766 - ingestion_demo - INFO -   Total vectors: 906\n",
      "2025-10-31 15:00:13,769 - ingestion_demo - INFO - Set current_ingestion_id to: 44344f0d\n",
      "2025-10-31 15:00:13,769 - ingestion_demo - INFO - This enables BM25 keyword search functionality\n",
      "2025-10-31 15:00:13,769 - ingestion_demo - INFO - BM25 vectorizer successfully registered and retrievable\n"
     ]
    }
   ],
   "source": [
    "# Perform unified index ingestion with both dense and sparse vectors\n",
    "logger.info(f\"Starting unified index ingestion for {len(all_chunks)} chunks\")\n",
    "\n",
    "ingestion_result = unified_ingestion.ingest_documents(all_chunks)\n",
    "\n",
    "# Extract results from the dictionary\n",
    "dense_count = ingestion_result.get(\"dense_vectors\", 0)\n",
    "sparse_count = ingestion_result.get(\"sparse_vectors\", 0)\n",
    "failed_count = ingestion_result.get(\"failed\", 0)\n",
    "\n",
    "logger.info(f\"Unified index ingestion completed successfully!\")\n",
    "logger.info(f\"  Dense vectors stored: {dense_count}\")\n",
    "logger.info(f\"  Sparse vectors stored: {sparse_count}\")\n",
    "logger.info(f\"  Failed chunks: {failed_count}\")\n",
    "logger.info(f\"  Total vectors: {dense_count + sparse_count}\")\n",
    "\n",
    "# Set the current ingestion ID so BM25 retrieval works\n",
    "settings.current_ingestion_id = unified_ingestion.ingestion_id\n",
    "logger.info(f\"Set current_ingestion_id to: {settings.current_ingestion_id}\")\n",
    "logger.info(\"This enables BM25 keyword search functionality\")\n",
    "\n",
    "# Verify the BM25 vectorizer was registered\n",
    "from src.retrieval.bm25_vectorizer import get_bm25_vectorizer\n",
    "test_vectorizer = get_bm25_vectorizer(unified_ingestion.ingestion_id)\n",
    "if test_vectorizer:\n",
    "    logger.info(\"BM25 vectorizer successfully registered and retrievable\")\n",
    "else:\n",
    "    logger.error(\"BM25 vectorizer registration failed\")"
   ]
  },
  {
   "cell_type": "markdown",
   "id": "c16edbc3",
   "metadata": {},
   "source": [
    "## Verification\n",
    "\n",
    "Verify that the documents were successfully ingested by checking the index statistics and performing a test search."
   ]
  },
  {
   "cell_type": "code",
   "execution_count": 10,
   "id": "e81e5338",
   "metadata": {},
   "outputs": [
    {
     "name": "stdout",
     "output_type": "stream",
     "text": [
      "\n",
      "Final Index Statistics:\n",
      "  total_documents: 0\n",
      "  embedding_dimension: 768\n",
      "  index_name: curator-pommeline\n",
      "  index_fullness: 0\n",
      "  index_type: pinecone_index_container\n",
      "  namespaces: {'curator-pommeline-a9b4d456': {'vectorCount': 0}, 'curator-pommeline-12fa085f': {'vectorCount': 0}, 'pommeline': {'vectorCount': 0}, 'curator-pommeline': {'vectorCount': 1118}, '': {'vectorCount': 0}, 'curator-pommeline-f03bab83': {'vectorCount': 0}, 'curator-pommeline-7b1a7bbb': {'vectorCount': 0}}\n",
      "\n",
      "Detailed namespace analysis:\n",
      "  Namespace 'curator-pommeline': 1118 vectors\n"
     ]
    }
   ],
   "source": [
    "# Get final index statistics\n",
    "final_stats = vector_store.get_stats()\n",
    "print(\"\\nFinal Index Statistics:\")\n",
    "for key, value in final_stats.items():\n",
    "    print(f\"  {key}: {value}\")\n",
    "\n",
    "# Check what's in the index directly\n",
    "print(f\"\\nDetailed namespace analysis:\")\n",
    "namespaces = final_stats.get(\"namespaces\", {})\n",
    "for ns_name, ns_data in namespaces.items():\n",
    "    vector_count = ns_data.get(\"vectorCount\", 0)\n",
    "    if vector_count > 0:\n",
    "        print(f\"  Namespace '{ns_name}': {vector_count} vectors\")"
   ]
  },
  {
   "cell_type": "code",
   "execution_count": 11,
   "id": "44533dd2",
   "metadata": {},
   "outputs": [
    {
     "name": "stdout",
     "output_type": "stream",
     "text": [
      "\n",
      "Testing Search Functionality:\n",
      "==================================================\n",
      "{\"asctime\": \"2025-10-31 15:01:55,837\", \"name\": \"embedder\", \"levelname\": \"INFO\", \"message\": \"Loading embedding model: google/embeddinggemma-300m\"}\n"
     ]
    },
    {
     "name": "stderr",
     "output_type": "stream",
     "text": [
      "2025-10-31 15:01:55,837 - embedder - INFO - Loading embedding model: google/embeddinggemma-300m\n",
      "2025-10-31 15:01:55,849 - sentence_transformers.SentenceTransformer - INFO - Load pretrained SentenceTransformer: google/embeddinggemma-300m\n",
      "2025-10-31 15:02:03,280 - sentence_transformers.SentenceTransformer - INFO - 14 prompts are loaded, with the keys: ['query', 'document', 'BitextMining', 'Clustering', 'Classification', 'InstructionRetrieval', 'MultilabelClassification', 'PairClassification', 'Reranking', 'Retrieval', 'Retrieval-query', 'Retrieval-document', 'STS', 'Summarization']\n"
     ]
    },
    {
     "name": "stdout",
     "output_type": "stream",
     "text": [
      "{\"asctime\": \"2025-10-31 15:02:03,459\", \"name\": \"embedder\", \"levelname\": \"INFO\", \"message\": \"Model loaded successfully. Embedding dimension: 768\"}\n"
     ]
    },
    {
     "name": "stderr",
     "output_type": "stream",
     "text": [
      "2025-10-31 15:02:03,459 - embedder - INFO - Model loaded successfully. Embedding dimension: 768\n"
     ]
    },
    {
     "name": "stdout",
     "output_type": "stream",
     "text": [
      "\n",
      "Query: 'Find me a gift under $150'\n",
      "Results found: 5\n",
      "  1. Score: 0.3846\n",
      "     Source: data/policies/return_policy.md\n",
      "     Preview: ### Extended Holiday Window\n",
      "- **Purchases from November 15 - December 25**: Returnable until January...\n",
      "  2. Score: 0.3840\n",
      "     Source: data/policies/student_discount.md\n",
      "     Preview: ### MacBook Lineup\n",
      "- **MacBook Air**: Up to $100 discount\n",
      "- **MacBook Pro**: Up to $200 discount\n",
      "- *...\n",
      "  3. Score: 0.3725\n",
      "     Source: /Users/aamirsyedaltaf/Documents/curator-pommeline/data/policies/return_policy.md\n",
      "     Preview: ### Gift Returns\n",
      "- **Gift recipients** can return items for store credit\n",
      "- **Original purchaser** mu...\n",
      "  4. Score: 0.3725\n",
      "     Source: data/policies/return_policy.md\n",
      "     Preview: ### Gift Returns\n",
      "- **Gift recipients** can return items for store credit\n",
      "- **Original purchaser** mu...\n",
      "  5. Score: 0.3617\n",
      "     Source: /Users/aamirsyedaltaf/Documents/curator-pommeline/data/policies/return_policy.md\n",
      "     Preview: ## Holiday Return Policy\n",
      "\n",
      "### Extended Holiday Window\n",
      "- **Purchases from November 15 - December 25**...\n",
      "\n",
      "Query: 'How do I get better discounts?'\n",
      "Results found: 5\n",
      "  1. Score: 0.5204\n",
      "     Source: data/policies/student_discount.md\n",
      "     Preview: available throughout the year, with special promotions during back-to-school season.\n",
      "\n",
      "**Q: Can I com...\n",
      "  2. Score: 0.5085\n",
      "     Source: /Users/aamirsyedaltaf/Documents/curator-pommeline/data/policies/student_discount.md\n",
      "     Preview: ### iPad and iPhone\n",
      "- **iPad Pro**: Up to $100 discount\n",
      "- **iPad Air**: Up to $50 discount\n",
      "- **iPad*...\n",
      "  3. Score: 0.4948\n",
      "     Source: data/policies/student_discount.md\n",
      "     Preview: ### iPad and iPhone\n",
      "- **iPad Pro**: Up to $100 discount\n",
      "- **iPad Air**: Up to $50 discount\n",
      "- **iPad*...\n",
      "  4. Score: 0.4690\n",
      "     Source: /Users/aamirsyedaltaf/Documents/curator-pommeline/data/products/switch_from_pc_to_mac.md\n",
      "     Preview: ### Save with Apple Trade In\n",
      "\n",
      "Trade in your eligible device for credit via bank transfer towards you...\n",
      "  5. Score: 0.4450\n",
      "     Source: data/policies/student_discount.md\n",
      "     Preview: ### Software\n",
      "- **Final Cut Pro**: 50% discount\n",
      "- **Logic Pro**: 50% discount\n",
      "- **MainStage**: 50% di...\n",
      "\n",
      "Query: 'What’s the difference between iPhone 16 pro and iPhone 16e?'\n",
      "Results found: 5\n",
      "  1. Score: 0.6512\n",
      "     Source: /Users/aamirsyedaltaf/Documents/curator-pommeline/data/products/iphone16e.md\n",
      "     Preview: ## There’s never been a better time to upgrade.\n",
      "\n",
      "**A few ways **iPhone 16e** gives you more.**\n",
      "\n",
      "**Co...\n",
      "  2. Score: 0.6512\n",
      "     Source: /Users/aamirsyedaltaf/Documents/curator-pommeline/data/products/iphone16e_clean.md\n",
      "     Preview: ## There’s never been a better time to upgrade.\n",
      "\n",
      "**A few ways **iPhone 16e** gives you more.**\n",
      "\n",
      "**Co...\n",
      "  3. Score: 0.6185\n",
      "     Source: /Users/aamirsyedaltaf/Documents/curator-pommeline/data/products/iphone16e.md\n",
      "     Preview: ## See the iPhone 16e in action.\n",
      "\n",
      "[Watch the film](https://www.google.com/url?sa=E&q=https%3A%2F%2Fw...\n",
      "  4. Score: 0.6185\n",
      "     Source: /Users/aamirsyedaltaf/Documents/curator-pommeline/data/products/iphone16e_clean.md\n",
      "     Preview: ## See the iPhone 16e in action.\n",
      "\n",
      "[Watch the film](https://www.google.com/url?sa=E&q=https%3A%2F%2Fw...\n",
      "  5. Score: 0.6127\n",
      "     Source: /Users/aamirsyedaltaf/Documents/curator-pommeline/data/products/iphone16e.md\n",
      "     Preview: ### Including the price.\n",
      "\n",
      "**Built for Apple Intelligence.**\n",
      "\n",
      "[Buy](https://www.google.com/url?sa=E&q...\n"
     ]
    }
   ],
   "source": [
    "# Test search functionality\n",
    "# test_queries = [\n",
    "#     \"iPhone 16 Pro features\",\n",
    "#     \"MacBook Air M3 performance\",\n",
    "#     \"Student discount policy\",\n",
    "#     \"Return policy for electronics\"\n",
    "# ]\n",
    "\n",
    "test_queries = [\n",
    "    \"Find me a gift under $150\",\n",
    "    \"How do I get better discounts?\",\n",
    "    \"What’s the difference between iPhone 16 pro and iPhone 16e?\",\n",
    "]\n",
    "\n",
    "print(\"\\nTesting Search Functionality:\")\n",
    "print(\"=\" * 50)\n",
    "\n",
    "for query in test_queries:\n",
    "    results = vector_store.search(query, top_k=5)\n",
    "    print(f\"\\nQuery: '{query}'\")\n",
    "    print(f\"Results found: {len(results)}\")\n",
    "    \n",
    "    for i, (doc, score) in enumerate(results):\n",
    "        print(f\"  {i+1}. Score: {score:.4f}\")\n",
    "        print(f\"     Source: {doc['source_file']}\")\n",
    "        print(f\"     Preview: {doc['content'][:100]}...\")"
   ]
  },
  {
   "cell_type": "code",
   "execution_count": 13,
   "id": "bf420ba7",
   "metadata": {},
   "outputs": [
    {
     "name": "stdout",
     "output_type": "stream",
     "text": [
      "\n",
      "Testing Retrieve Tool:\n",
      "========================================\n",
      "Current Configuration:\n",
      "  Current ingestion ID: '44344f0d'\n",
      "  Expected ingestion ID: '44344f0d'\n",
      "  Match: True\n",
      "  Index stats: {'total_documents': 0, 'embedding_dimension': 768, 'index_name': 'curator-pommeline', 'index_fullness': 0, 'index_type': 'pinecone_index_container', 'namespaces': {'curator-pommeline': {'vectorCount': 1118}, 'pommeline': {'vectorCount': 0}, 'curator-pommeline-f03bab83': {'vectorCount': 0}, 'curator-pommeline-a9b4d456': {'vectorCount': 0}, 'curator-pommeline-7b1a7bbb': {'vectorCount': 0}, '': {'vectorCount': 0}, 'curator-pommeline-12fa085f': {'vectorCount': 0}}}\n",
      "\n",
      "Query: 'Find me a gift under $150'\n",
      "------------------------------\n",
      "Semantic search results: 5\n",
      "  Top result: 0.3846 - data/policies/return_policy.md\n",
      "Hybrid search results: 5\n",
      "  Components used: {'dense': True, 'bm25': False}\n",
      "\n",
      "Query: 'How do I get better discounts?'\n",
      "------------------------------\n",
      "Semantic search results: 5\n",
      "  Top result: 0.5204 - data/policies/student_discount.md\n",
      "Hybrid search results: 5\n",
      "  Components used: {'dense': True, 'bm25': True}\n"
     ]
    }
   ],
   "source": [
    "# Test the retrieve tool with detailed debugging\n",
    "from src.tools.retrieve import retrieve_documents\n",
    "from src.config import settings\n",
    "\n",
    "print(\"\\nTesting Retrieve Tool:\")\n",
    "print(\"=\" * 40)\n",
    "\n",
    "# Check current configuration\n",
    "print(f\"Current Configuration:\")\n",
    "print(f\"  Current ingestion ID: '{settings.current_ingestion_id}'\")\n",
    "print(f\"  Expected ingestion ID: '{unified_ingestion.ingestion_id}'\")\n",
    "print(f\"  Match: {settings.current_ingestion_id == unified_ingestion.ingestion_id}\")\n",
    "\n",
    "# Check index stats\n",
    "vector_store_stats = vector_store.get_stats()\n",
    "print(f\"  Index stats: {vector_store_stats}\")\n",
    "\n",
    "for query in test_queries[:2]:\n",
    "    print(f\"\\nQuery: '{query}'\")\n",
    "    print(\"-\" * 30)\n",
    "    \n",
    "    # Test with semantic mode first\n",
    "    response = retrieve_documents(query, top_k=5, search_mode=\"semantic\")\n",
    "    \n",
    "    print(f\"Semantic search results: {response.total_results}\")\n",
    "    \n",
    "    if response.total_results > 0:\n",
    "        print(f\"  Top result: {response.results[0].score:.4f} - {response.results[0].source_file}\")\n",
    "    else:\n",
    "        print(\"  No semantic results found\")\n",
    "    \n",
    "    # Test hybrid mode if semantic works\n",
    "    if response.total_results > 0:\n",
    "        hybrid_response = retrieve_documents(query, top_k=5, search_mode=\"hybrid\")\n",
    "        print(f\"Hybrid search results: {hybrid_response.total_results}\")\n",
    "        print(f\"  Components used: {hybrid_response.search_metadata.get('components_used', {})}\")"
   ]
  },
  {
   "cell_type": "code",
   "execution_count": 14,
   "id": "efb52d27",
   "metadata": {},
   "outputs": [
    {
     "name": "stdout",
     "output_type": "stream",
     "text": [
      "\n",
      "Testing Search Modes Separately:\n",
      "==================================================\n",
      "\n",
      "1. Testing DENSE search only:\n",
      "   Results: 5\n",
      "   Components used: {'dense': True, 'bm25': False}\n",
      "     1. Score: 0.6656 - /Users/aamirsyedaltaf/Documents/curator-pommeline/data/products/iphone16_specs.md\n",
      "     2. Score: 0.6314 - data/products/iphone_16_pro.md\n",
      "     3. Score: 0.6287 - /Users/aamirsyedaltaf/Documents/curator-pommeline/data/products/iphone16e.md\n",
      "     4. Score: 0.6136 - /Users/aamirsyedaltaf/Documents/curator-pommeline/data/products/iphone16e.md\n",
      "     5. Score: 0.6067 - /Users/aamirsyedaltaf/Documents/curator-pommeline/data/products/iphone16e.md\n",
      "\n",
      "2. Testing BM25 search only:\n",
      "   Results: 5\n",
      "   Components used: {'dense': False, 'bm25': True}\n",
      "     1. Score: 0.5234 - /Users/aamirsyedaltaf/Documents/curator-pommeline/data/products/iphone16_specs.md\n",
      "     2. Score: 0.4968 - /Users/aamirsyedaltaf/Documents/curator-pommeline/data/products/iphone16_specs.md\n",
      "     3. Score: 0.4608 - /Users/aamirsyedaltaf/Documents/curator-pommeline/data/products/iphone16_specs.md\n",
      "     4. Score: 0.4235 - /Users/aamirsyedaltaf/Documents/curator-pommeline/data/products/iphone16_specs.md\n",
      "     5. Score: 0.3613 - /Users/aamirsyedaltaf/Documents/curator-pommeline/data/products/iphone16_specs.md\n",
      "\n",
      "3. Testing HYBRID search:\n",
      "     1. Score: 0.9836 - /Users/aamirsyedaltaf/Documents/curator-pommeline/data/products/iphone16_specs.md\n",
      "     2. Score: 0.9836 - /Users/aamirsyedaltaf/Documents/curator-pommeline/data/products/iphone16_specs.md\n",
      "     3. Score: 0.9524 - data/products/iphone_16_pro.md\n",
      "\n",
      "Current Configuration:\n",
      "   Current ingestion ID: '44344f0d'\n",
      "   Expected ingestion ID: '44344f0d'\n",
      "   Match: True\n"
     ]
    }
   ],
   "source": [
    "# Test each search mode separately for debugging\n",
    "print(\"\\nTesting Search Modes Separately:\")\n",
    "print(\"=\" * 50)\n",
    "\n",
    "test_query = \"iPhone 16 Pro features\"\n",
    "\n",
    "# Test 1: Dense search only\n",
    "print(f\"\\n1. Testing DENSE search only:\")\n",
    "response = retrieve_documents(test_query, top_k=5, search_mode=\"semantic\")\n",
    "print(f\"   Results: {response.total_results}\")\n",
    "print(f\"   Components used: {response.search_metadata.get('components_used', {})}\")\n",
    "if response.results:\n",
    "    for i, doc in enumerate(response.results):\n",
    "        print(f\"     {i+1}. Score: {doc.score:.4f} - {doc.source_file}\")\n",
    "\n",
    "# Test 2: BM25 search only  \n",
    "print(f\"\\n2. Testing BM25 search only:\")\n",
    "response = retrieve_documents(test_query, top_k=5, search_mode=\"keyword\")\n",
    "print(f\"   Results: {response.total_results}\")\n",
    "print(f\"   Components used: {response.search_metadata.get('components_used', {})}\")\n",
    "if response.results:\n",
    "    for i, doc in enumerate(response.results):\n",
    "        print(f\"     {i+1}. Score: {doc.score:.4f} - {doc.source_file}\")\n",
    "\n",
    "# Test 3: Hybrid search\n",
    "print(f\"\\n3. Testing HYBRID search:\")\n",
    "response = retrieve_documents(test_query, top_k=5, search_mode=\"hybrid\")\n",
    "if response.results:\n",
    "    for i, doc in enumerate(response.results):\n",
    "        print(f\"     {i+1}. Score: {doc.score:.4f} - {doc.source_file}\")\n",
    "else:\n",
    "    print(\"   No results from hybrid search\")\n",
    "\n",
    "# Check ingestion ID status\n",
    "print(f\"\\nCurrent Configuration:\")\n",
    "print(f\"   Current ingestion ID: '{settings.current_ingestion_id}'\")\n",
    "print(f\"   Expected ingestion ID: '{unified_ingestion.ingestion_id}'\")\n",
    "print(f\"   Match: {settings.current_ingestion_id == unified_ingestion.ingestion_id}\")"
   ]
  },
  {
   "cell_type": "markdown",
   "id": "a5d76f77",
   "metadata": {},
   "source": [
    "## Cleanup\n",
    "\n",
    "Clean up the unique index created in this notebook.\n",
    "\n",
    "**WARNING**: This cell will permanently delete the unique index created in this notebook run. This ensures clean resource management and prevents leftover data in your Pinecone instance."
   ]
  },
  {
   "cell_type": "code",
   "execution_count": null,
   "id": "3e694236",
   "metadata": {},
   "outputs": [],
   "source": [
    "# Clean up the unique index created in this notebook\n",
    "import requests\n",
    "from dotenv import load_dotenv\n",
    "import sys\n",
    "\n",
    "load_dotenv()\n",
    "sys.path.append(str(pathlib.Path().absolute().parent / \"src\"))\n",
    "from src.config import settings\n",
    "\n",
    "# Get the final index statistics before cleanup\n",
    "final_stats = vector_store.get_stats()\n",
    "index_name = final_stats[\"index_name\"]\n",
    "namespaces = final_stats.get(\"namespaces\", {})\n",
    "\n",
    "print(f\"Cleaning up unique index '{index_name}'...\")\n",
    "print(f\"Final statistics before cleanup:\")\n",
    "print(f\"   Total vectors: {final_stats.get('total_documents', 'unknown')}\")\n",
    "print(f\"   Namespaces: {namespaces}\")\n",
    "\n",
    "# Calculate total vectors to delete\n",
    "total_vectors_to_delete = sum(\n",
    "    ns_data.get('vectorCount', 0) \n",
    "    for ns_data in namespaces.values()\n",
    ")\n",
    "\n",
    "print(f\"Cleanup Summary:\")\n",
    "print(f\"   Index: {index_name}\")\n",
    "print(f\"   Total vectors to delete: {total_vectors_to_delete}\")\n",
    "\n",
    "for ns_name, ns_data in namespaces.items():\n",
    "    vector_count = ns_data.get('vectorCount', 0)\n",
    "    if vector_count > 0:\n",
    "        print(f\"   Namespace '{ns_name}': {vector_count} vectors\")\n",
    "\n",
    "# For Pinecone index container, clear ALL namespaces completely\n",
    "cleared_namespaces = []\n",
    "failed_namespaces = []\n",
    "\n",
    "for ns_name, ns_data in namespaces.items():\n",
    "    vector_count = ns_data.get('vectorCount', 0)\n",
    "    if vector_count > 0:\n",
    "        print(f\"Attempting to clear namespace '{ns_name}' ({vector_count} vectors)...\")\n",
    "        \n",
    "        # Use the delete API with namespace and deleteAll flag\n",
    "        delete_request = {\n",
    "            \"namespace\": ns_name,\n",
    "            \"deleteAll\": True\n",
    "        }\n",
    "        \n",
    "        response = requests.post(\n",
    "            f\"{settings.pinecone_host}/vectors/delete\",\n",
    "            json=delete_request,\n",
    "            timeout=30\n",
    "        )\n",
    "        \n",
    "        if response.status_code == 200:\n",
    "            cleared_namespaces.append(ns_name)\n",
    "            result = response.json()\n",
    "            print(f\"   Namespace '{ns_name}' cleared successfully\")\n",
    "            if result:\n",
    "                print(f\"   Response: {result}\")\n",
    "        else:\n",
    "            failed_namespaces.append(ns_name)\n",
    "            print(f\"   Failed to clear namespace '{ns_name}': {response.status_code}\")\n",
    "            print(f\"   Response: {response.text}\")\n",
    "\n",
    "# Cleanup Summary\n",
    "print(f\"\\nCleanup Summary:\")\n",
    "print(f\"   Successfully cleared namespaces: {len(cleared_namespaces)}\")\n",
    "for ns in cleared_namespaces:\n",
    "    print(f\"      - {ns}\")\n",
    "\n",
    "if failed_namespaces:\n",
    "    print(f\"   Failed to clear namespaces: {len(failed_namespaces)}\")\n",
    "    for ns in failed_namespaces:\n",
    "        print(f\"      - {ns}\")\n",
    "    print(f\"   Note: Manual cleanup may be required for failed namespaces\")\n",
    "\n",
    "print(f\"\\nCleanup process completed\")\n",
    "print(f\"In production with Pinecone cloud, you would use:\")\n",
    "print(f\"   pc.delete_index('{index_name}') to permanently delete the index\")\n",
    "print(f\"Unique index UUID '{index_uuid}' has been processed for cleanup\")\n",
    "print(f\"Resources have been freed from your local Pinecone instance\")\n",
    "\n",
    "# Clear the ingestion ID to prevent conflicts\n",
    "settings.current_ingestion_id = \"\"\n",
    "print(f\"Cleared current_ingestion_id from settings\")"
   ]
  },
  {
   "cell_type": "code",
   "execution_count": null,
   "metadata": {},
   "outputs": [],
   "source": []
  }
 ],
 "metadata": {
  "kernelspec": {
   "display_name": "curator-pommeline",
   "language": "python",
   "name": "python3"
  },
  "language_info": {
   "codemirror_mode": {
    "name": "ipython",
    "version": 3
   },
   "file_extension": ".py",
   "mimetype": "text/x-python",
   "name": "python",
   "nbconvert_exporter": "python",
   "pygments_lexer": "ipython3",
   "version": "3.10.17"
  }
 },
 "nbformat": 4,
 "nbformat_minor": 5
}

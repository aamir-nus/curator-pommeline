{
  "cells": [
    {
      "cell_type": "markdown",
      "metadata": {},
      "source": [
        "# Document Ingestion Demo for Pommeline Product Knowledge Base\n",
        "\n",
        "This notebook demonstrates how to ingest product documents into the Pinecone vector store for the Pommeline knowledge base.\n",
        "\n",
        "## Features:\n",
        "- Checks for existing 'pommeline' index in Pinecone\n",
        "- Creates index if it doesn't exist with HNSW algorithm and dotproduct similarity\n",
        "- Ingests product documents with proper chunking and embedding\n",
        "- Normalizes embeddings before storage for optimal retrieval\n",
        "- Provides detailed logging and progress tracking"
      ]
    },
    {
      "cell_type": "code",
      "execution_count": 1,
      "metadata": {},
      "outputs": [],
      "source": [
        "# Install required packages if not already installed\n",
        "# !uv add pinecone-client sentence-transformers python-dotenv"
      ]
    },
    {
      "cell_type": "code",
      "execution_count": 2,
      "metadata": {},
      "outputs": [],
      "source": [
        "import os\n",
        "import sys\n",
        "import pathlib\n",
        "import logging\n",
        "from typing import List, Dict, Any\n",
        "\n",
        "# Add parent directory to path for imports to handle relative imports\n",
        "sys.path.append(str(pathlib.Path().absolute().parent))\n",
        "# Add src to path as well\n",
        "sys.path.append(str(pathlib.Path().absolute().parent / \"src\"))\n",
        "\n",
        "# Configure logging\n",
        "logging.basicConfig(\n",
        "    level=logging.INFO,\n",
        "    format='%(asctime)s - %(name)s - %(levelname)s - %(message)s'\n",
        ")\n",
        "logger = logging.getLogger(\"ingestion_demo\")"
      ]
    },
    {
      "cell_type": "code",
      "execution_count": 3,
      "metadata": {},
      "outputs": [
        {
          "name": "stderr",
          "output_type": "stream",
          "text": [
            "/Users/aamirsyedaltaf/Documents/curator-pommeline/.venv/lib/python3.10/site-packages/tqdm/auto.py:21: TqdmWarning: IProgress not found. Please update jupyter and ipywidgets. See https://ipywidgets.readthedocs.io/en/stable/user_install.html\n",
            "  from .autonotebook import tqdm as notebook_tqdm\n"
          ]
        },
        {
          "name": "stdout",
          "output_type": "stream",
          "text": [
            "{\"asctime\": \"2025-10-29 13:41:17,959\", \"name\": \"pinecone_index_client\", \"levelname\": \"INFO\", \"message\": \"Initialized PineconeIndexClient for dense index 'curator-pommeline' (dim: 768, metric: dotproduct)\"}\n"
          ]
        },
        {
          "name": "stderr",
          "output_type": "stream",
          "text": [
            "2025-10-29 13:41:17,959 - pinecone_index_client - INFO - Initialized PineconeIndexClient for dense index 'curator-pommeline' (dim: 768, metric: dotproduct)\n"
          ]
        },
        {
          "name": "stdout",
          "output_type": "stream",
          "text": [
            "{\"asctime\": \"2025-10-29 13:41:17,968\", \"name\": \"pinecone_vector_store\", \"levelname\": \"INFO\", \"message\": \"Connected to Pinecone Index container: {'namespaces': {'curator-pommeline-7b1a7bbb': {'vectorCount': 0}, 'curator-pommeline': {'vectorCount': 106}, 'pommeline': {'vectorCount': 0}, 'curator-pommeline-12fa085f': {'vectorCount': 0}, '': {'vectorCount': 109}}, 'dimension': 768, 'indexFullness': 0.0, 'totalVectorCount': 215}\"}\n"
          ]
        },
        {
          "name": "stderr",
          "output_type": "stream",
          "text": [
            "2025-10-29 13:41:17,968 - pinecone_vector_store - INFO - Connected to Pinecone Index container: {'namespaces': {'curator-pommeline-7b1a7bbb': {'vectorCount': 0}, 'curator-pommeline': {'vectorCount': 106}, 'pommeline': {'vectorCount': 0}, 'curator-pommeline-12fa085f': {'vectorCount': 0}, '': {'vectorCount': 109}}, 'dimension': 768, 'indexFullness': 0.0, 'totalVectorCount': 215}\n",
            "2025-10-29 13:41:17,978 - ingestion_demo - INFO - Successfully imported all required modules\n"
          ]
        }
      ],
      "source": [
        "# Load environment variables\n",
        "from dotenv import load_dotenv\n",
        "load_dotenv()\n",
        "\n",
        "# Import our modules using package imports\n",
        "sys.path.insert(0, str(pathlib.Path().absolute().parent))\n",
        "from src.ingestion.vector_store import get_vector_store\n",
        "from src.ingestion.chunker import SemanticChunker, DocumentChunk\n",
        "from src.ingestion.embedder import EmbeddingGenerator\n",
        "from src.utils.file_loader import load_documents_from_directory\n",
        "from src.config import settings\n",
        "\n",
        "logger.info(\"Successfully imported all required modules\")"
      ]
    },
    {
      "cell_type": "markdown",
      "metadata": {},
      "source": [
        "## Configuration\n",
        "\n",
        "Set up the index configuration for the Pommeline knowledge base."
      ]
    },
    {
      "cell_type": "code",
      "execution_count": 4,
      "metadata": {},
      "outputs": [
        {
          "name": "stdout",
          "output_type": "stream",
          "text": [
            "Generated unique index UUID: f316c5d1\n",
            "Index configuration: curator-pommeline-f316c5d1\n",
            "Dimension: 768, Metric: dotproduct\n",
            "\n",
            "📝 Note: This index will be automatically cleaned up at the end of the notebook.\n"
          ]
        }
      ],
      "source": [
        "# Index configuration with UUID for unique identification\n",
        "import uuid\n",
        "\n",
        "# Generate a unique UUID for this notebook run\n",
        "index_uuid = str(uuid.uuid4())[:8]  # Use first 8 characters for brevity\n",
        "INDEX_NAME = f\"curator-pommeline-{index_uuid}\"\n",
        "DIMENSION = 768  # Dimension for google/embeddinggemma-300m model\n",
        "METRIC = \"dotproduct\"  # Use dotproduct similarity for normalized embeddings\n",
        "\n",
        "# Update settings for our specific index\n",
        "settings.pinecone_index_name = INDEX_NAME\n",
        "settings.pinecone_dimension = DIMENSION\n",
        "settings.pinecone_metric = METRIC\n",
        "\n",
        "print(f\"Generated unique index UUID: {index_uuid}\")\n",
        "print(f\"Index configuration: {INDEX_NAME}\")\n",
        "print(f\"Dimension: {DIMENSION}, Metric: {METRIC}\")\n",
        "print(f\"\\n📝 Note: This index will be automatically cleaned up at the end of the notebook.\")"
      ]
    },
    {
      "cell_type": "markdown",
      "metadata": {},
      "source": [
        "## Initialize Vector Store\n",
        "\n",
        "Connect to Pinecone and set up the 'pommeline' index."
      ]
    },
    {
      "cell_type": "code",
      "execution_count": 5,
      "metadata": {},
      "outputs": [
        {
          "name": "stdout",
          "output_type": "stream",
          "text": [
            "Vector Store Status:\n",
            "  total_documents: 0\n",
            "  embedding_dimension: 768\n",
            "  index_name: curator-pommeline\n",
            "  index_fullness: 0\n",
            "  index_type: local_in_memory\n",
            "  namespaces: {'curator-pommeline': {'vectorCount': 106}, 'curator-pommeline-7b1a7bbb': {'vectorCount': 0}, 'pommeline': {'vectorCount': 0}, '': {'vectorCount': 109}, 'curator-pommeline-12fa085f': {'vectorCount': 0}}\n",
            "\n",
            "🎯 Using unique index: 'curator-pommeline'\n",
            "📝 Documents will be stored in the 'curator-pommeline' namespace for traceability.\n",
            "🧹 This index will be automatically cleaned up at the end of the notebook.\n"
          ]
        }
      ],
      "source": [
        "# Initialize vector store with our unique configuration\n",
        "vector_store = get_vector_store()\n",
        "\n",
        "# Check current status\n",
        "stats = vector_store.get_stats()\n",
        "print(\"Vector Store Status:\")\n",
        "for key, value in stats.items():\n",
        "    print(f\"  {key}: {value}\")\n",
        "\n",
        "print(f\"\\n🎯 Using unique index: '{stats['index_name']}'\")\n",
        "print(f\"📝 Documents will be stored in the '{stats['index_name']}' namespace for traceability.\")\n",
        "print(f\"🧹 This index will be automatically cleaned up at the end of the notebook.\")"
      ]
    },
    {
      "cell_type": "markdown",
      "metadata": {},
      "source": [
        "## Load Product Documents\n",
        "\n",
        "Load all product and policy documents from the data directory."
      ]
    },
    {
      "cell_type": "code",
      "execution_count": 6,
      "metadata": {},
      "outputs": [
        {
          "name": "stdout",
          "output_type": "stream",
          "text": [
            "Loading documents from: /Users/aamirsyedaltaf/Documents/curator-pommeline/data\n",
            "Products directory: /Users/aamirsyedaltaf/Documents/curator-pommeline/data/products\n",
            "Policies directory: /Users/aamirsyedaltaf/Documents/curator-pommeline/data/policies\n"
          ]
        }
      ],
      "source": [
        "# Define data directories\n",
        "data_dir = pathlib.Path().absolute().parent / \"data\"\n",
        "products_dir = data_dir / \"products\"\n",
        "policies_dir = data_dir / \"policies\"\n",
        "\n",
        "print(f\"Loading documents from: {data_dir}\")\n",
        "print(f\"Products directory: {products_dir}\")\n",
        "print(f\"Policies directory: {policies_dir}\")\n",
        "\n",
        "# Check if directories exist\n",
        "if not products_dir.exists():\n",
        "    logger.warning(f\"Products directory not found: {products_dir}\")\n",
        "if not policies_dir.exists():\n",
        "    logger.warning(f\"Policies directory not found: {policies_dir}\")"
      ]
    },
    {
      "cell_type": "code",
      "execution_count": 7,
      "metadata": {},
      "outputs": [
        {
          "name": "stdout",
          "output_type": "stream",
          "text": [
            "{\"asctime\": \"2025-10-29 13:41:17,999\", \"name\": \"file_loader\", \"levelname\": \"INFO\", \"message\": \"Loaded 3 documents from /Users/aamirsyedaltaf/Documents/curator-pommeline/data/products\"}\n"
          ]
        },
        {
          "name": "stderr",
          "output_type": "stream",
          "text": [
            "2025-10-29 13:41:17,999 - file_loader - INFO - Loaded 3 documents from /Users/aamirsyedaltaf/Documents/curator-pommeline/data/products\n",
            "2025-10-29 13:41:17,999 - ingestion_demo - INFO - Loaded 3 product documents\n"
          ]
        },
        {
          "name": "stdout",
          "output_type": "stream",
          "text": [
            "{\"asctime\": \"2025-10-29 13:41:18,000\", \"name\": \"file_loader\", \"levelname\": \"INFO\", \"message\": \"Loaded 2 documents from /Users/aamirsyedaltaf/Documents/curator-pommeline/data/policies\"}\n"
          ]
        },
        {
          "name": "stderr",
          "output_type": "stream",
          "text": [
            "2025-10-29 13:41:18,000 - file_loader - INFO - Loaded 2 documents from /Users/aamirsyedaltaf/Documents/curator-pommeline/data/policies\n",
            "2025-10-29 13:41:18,000 - ingestion_demo - INFO - Loaded 2 policy documents\n",
            "2025-10-29 13:41:18,000 - ingestion_demo - INFO - Total documents loaded: 5\n"
          ]
        },
        {
          "name": "stdout",
          "output_type": "stream",
          "text": [
            "\n",
            "Document 1:\n",
            "  Source: /Users/aamirsyedaltaf/Documents/curator-pommeline/data/products/iphone_16_pro.md\n",
            "  Content length: 2364\n",
            "  Preview: # iPhone 16 Pro\n",
            "\n",
            "The iPhone 16 Pro represents Apple's latest flagship smartphone, combining cutting-edge technology with premium design and exceptional performance.\n",
            "\n",
            "## Key Features\n",
            "\n",
            "### Display and D...\n",
            "\n",
            "Document 2:\n",
            "  Source: /Users/aamirsyedaltaf/Documents/curator-pommeline/data/products/airpods_pro_2.md\n",
            "  Content length: 3271\n",
            "  Preview: # AirPods Pro (2nd Generation)\n",
            "\n",
            "The second generation AirPods Pro represent Apple's commitment to premium wireless audio with advanced noise cancellation and spatial audio capabilities.\n",
            "\n",
            "## Key Featur...\n",
            "\n",
            "Document 3:\n",
            "  Source: /Users/aamirsyedaltaf/Documents/curator-pommeline/data/products/macbook_air_m3.md\n",
            "  Content length: 4708\n",
            "  Preview: # MacBook Air with M3 Chip\n",
            "\n",
            "The MacBook Air with M3 chip combines exceptional performance with incredible portability, featuring a stunning Liquid Retina display and all-day battery life in a remarkab...\n"
          ]
        }
      ],
      "source": [
        "# Load documents from both directories\n",
        "all_documents = []\n",
        "\n",
        "# Load product documents\n",
        "if products_dir.exists():\n",
        "    product_docs = load_documents_from_directory(str(products_dir))\n",
        "    all_documents.extend(product_docs)\n",
        "    logger.info(f\"Loaded {len(product_docs)} product documents\")\n",
        "\n",
        "# Load policy documents  \n",
        "if policies_dir.exists():\n",
        "    policy_docs = load_documents_from_directory(str(policies_dir))\n",
        "    all_documents.extend(policy_docs)\n",
        "    logger.info(f\"Loaded {len(policy_docs)} policy documents\")\n",
        "\n",
        "logger.info(f\"Total documents loaded: {len(all_documents)}\")\n",
        "\n",
        "# Display document information\n",
        "for i, doc in enumerate(all_documents[:3]):  # Show first 3 documents\n",
        "    print(f\"\\nDocument {i+1}:\")\n",
        "    print(f\"  Source: {doc.get('source', 'Unknown')}\")\n",
        "    print(f\"  Content length: {len(doc.get('content', ''))}\")\n",
        "    print(f\"  Preview: {doc.get('content', '')[:200]}...\")"
      ]
    },
    {
      "cell_type": "markdown",
      "metadata": {},
      "source": [
        "## Document Chunking\n",
        "\n",
        "Split documents into smaller chunks for better retrieval."
      ]
    },
    {
      "cell_type": "code",
      "execution_count": 8,
      "metadata": {},
      "outputs": [
        {
          "name": "stdout",
          "output_type": "stream",
          "text": [
            "{\"asctime\": \"2025-10-29 13:41:18,005\", \"name\": \"chunker\", \"levelname\": \"INFO\", \"message\": \"Created 11 chunks from /Users/aamirsyedaltaf/Documents/curator-pommeline/data/products/iphone_16_pro.md\"}\n"
          ]
        },
        {
          "name": "stderr",
          "output_type": "stream",
          "text": [
            "2025-10-29 13:41:18,005 - chunker - INFO - Created 11 chunks from /Users/aamirsyedaltaf/Documents/curator-pommeline/data/products/iphone_16_pro.md\n"
          ]
        },
        {
          "name": "stdout",
          "output_type": "stream",
          "text": [
            "{\"asctime\": \"2025-10-29 13:41:18,006\", \"name\": \"chunker\", \"levelname\": \"INFO\", \"message\": \"Created 15 chunks from /Users/aamirsyedaltaf/Documents/curator-pommeline/data/products/airpods_pro_2.md\"}\n"
          ]
        },
        {
          "name": "stderr",
          "output_type": "stream",
          "text": [
            "2025-10-29 13:41:18,006 - chunker - INFO - Created 15 chunks from /Users/aamirsyedaltaf/Documents/curator-pommeline/data/products/airpods_pro_2.md\n"
          ]
        },
        {
          "name": "stdout",
          "output_type": "stream",
          "text": [
            "{\"asctime\": \"2025-10-29 13:41:18,007\", \"name\": \"chunker\", \"levelname\": \"INFO\", \"message\": \"Created 20 chunks from /Users/aamirsyedaltaf/Documents/curator-pommeline/data/products/macbook_air_m3.md\"}\n"
          ]
        },
        {
          "name": "stderr",
          "output_type": "stream",
          "text": [
            "2025-10-29 13:41:18,007 - chunker - INFO - Created 20 chunks from /Users/aamirsyedaltaf/Documents/curator-pommeline/data/products/macbook_air_m3.md\n"
          ]
        },
        {
          "name": "stdout",
          "output_type": "stream",
          "text": [
            "{\"asctime\": \"2025-10-29 13:41:18,008\", \"name\": \"chunker\", \"levelname\": \"INFO\", \"message\": \"Created 30 chunks from /Users/aamirsyedaltaf/Documents/curator-pommeline/data/policies/student_discount.md\"}\n"
          ]
        },
        {
          "name": "stderr",
          "output_type": "stream",
          "text": [
            "2025-10-29 13:41:18,008 - chunker - INFO - Created 30 chunks from /Users/aamirsyedaltaf/Documents/curator-pommeline/data/policies/student_discount.md\n"
          ]
        },
        {
          "name": "stdout",
          "output_type": "stream",
          "text": [
            "{\"asctime\": \"2025-10-29 13:41:18,008\", \"name\": \"chunker\", \"levelname\": \"INFO\", \"message\": \"Created 30 chunks from /Users/aamirsyedaltaf/Documents/curator-pommeline/data/policies/return_policy.md\"}\n"
          ]
        },
        {
          "name": "stderr",
          "output_type": "stream",
          "text": [
            "2025-10-29 13:41:18,008 - chunker - INFO - Created 30 chunks from /Users/aamirsyedaltaf/Documents/curator-pommeline/data/policies/return_policy.md\n",
            "2025-10-29 13:41:18,009 - ingestion_demo - INFO - Created 106 chunks from 5 documents\n"
          ]
        },
        {
          "name": "stdout",
          "output_type": "stream",
          "text": [
            "Total chunks created: 106\n",
            "Average chunk length: 240.2 characters\n",
            "\n",
            "Chunk 1:\n",
            "  ID: /Users/aamirsyedaltaf/Documents/curator-pommeline/data/products/iphone_16_pro.md_chunk_0\n",
            "  Source: /Users/aamirsyedaltaf/Documents/curator-pommeline/data/products/iphone_16_pro.md\n",
            "  Length: 164 characters\n",
            "  Preview: # iPhone 16 Pro\n",
            "\n",
            "The iPhone 16 Pro represents Apple's latest flagship smartphone, combining cutting-edge technology with premium design and exceptiona...\n",
            "\n",
            "Chunk 2:\n",
            "  ID: /Users/aamirsyedaltaf/Documents/curator-pommeline/data/products/iphone_16_pro.md_chunk_1\n",
            "  Source: /Users/aamirsyedaltaf/Documents/curator-pommeline/data/products/iphone_16_pro.md\n",
            "  Length: 344 characters\n",
            "  Preview: ### Display and Design\n",
            "- **6.3-inch Super Retina XDR display** with ProMotion technology\n",
            "- **Titanium construction** for enhanced durability and reduc...\n",
            "\n",
            "Chunk 3:\n",
            "  ID: /Users/aamirsyedaltaf/Documents/curator-pommeline/data/products/iphone_16_pro.md_chunk_2\n",
            "  Source: /Users/aamirsyedaltaf/Documents/curator-pommeline/data/products/iphone_16_pro.md\n",
            "  Length: 262 characters\n",
            "  Preview: ### Performance\n",
            "- **A18 Pro chip** with 6-core CPU and 6-core GPU\n",
            "- **Hardware-accelerated ray tracing** for console-quality gaming\n",
            "- **ProMotion tech...\n"
          ]
        }
      ],
      "source": [
        "# Initialize document chunker\n",
        "chunker = SemanticChunker(\n",
        "    chunk_size=500,\n",
        "    chunk_overlap=50,\n",
        "    min_chunk_size=50,\n",
        ")\n",
        "\n",
        "# Chunk all documents\n",
        "all_chunks = []\n",
        "\n",
        "for doc in all_documents:\n",
        "    chunks = chunker.chunk_text(\n",
        "        text=doc['content'],\n",
        "        source=doc['source']\n",
        "    )\n",
        "    all_chunks.extend(chunks)\n",
        "\n",
        "logger.info(f\"Created {len(all_chunks)} chunks from {len(all_documents)} documents\")\n",
        "\n",
        "# Display chunk information\n",
        "print(f\"Total chunks created: {len(all_chunks)}\")\n",
        "print(f\"Average chunk length: {sum(len(chunk.content) for chunk in all_chunks) / len(all_chunks):.1f} characters\")\n",
        "\n",
        "# Show first few chunks\n",
        "for i, chunk in enumerate(all_chunks[:3]):\n",
        "    print(f\"\\nChunk {i+1}:\")\n",
        "    print(f\"  ID: {chunk.chunk_id}\")\n",
        "    print(f\"  Source: {chunk.source_file}\")\n",
        "    print(f\"  Length: {len(chunk.content)} characters\")\n",
        "    print(f\"  Preview: {chunk.content[:150]}...\")"
      ]
    },
    {
      "cell_type": "markdown",
      "metadata": {},
      "source": [
        "## Embedding Generation and Storage\n",
        "\n",
        "Generate embeddings for chunks and store them in the Pinecone index."
      ]
    },
    {
      "cell_type": "code",
      "execution_count": 9,
      "metadata": {},
      "outputs": [
        {
          "name": "stdout",
          "output_type": "stream",
          "text": [
            "{\"asctime\": \"2025-10-29 13:41:18,022\", \"name\": \"embedder\", \"levelname\": \"INFO\", \"message\": \"Loading embedding model: google/embeddinggemma-300m\"}\n"
          ]
        },
        {
          "name": "stderr",
          "output_type": "stream",
          "text": [
            "2025-10-29 13:41:18,022 - embedder - INFO - Loading embedding model: google/embeddinggemma-300m\n",
            "2025-10-29 13:41:18,024 - sentence_transformers.SentenceTransformer - INFO - Load pretrained SentenceTransformer: google/embeddinggemma-300m\n",
            "2025-10-29 13:41:25,115 - sentence_transformers.SentenceTransformer - INFO - 14 prompts are loaded, with the keys: ['query', 'document', 'BitextMining', 'Clustering', 'Classification', 'InstructionRetrieval', 'MultilabelClassification', 'PairClassification', 'Reranking', 'Retrieval', 'Retrieval-query', 'Retrieval-document', 'STS', 'Summarization']\n"
          ]
        },
        {
          "name": "stdout",
          "output_type": "stream",
          "text": [
            "{\"asctime\": \"2025-10-29 13:41:25,631\", \"name\": \"embedder\", \"levelname\": \"INFO\", \"message\": \"Model loaded successfully. Embedding dimension: 768\"}\n"
          ]
        },
        {
          "name": "stderr",
          "output_type": "stream",
          "text": [
            "2025-10-29 13:41:25,631 - embedder - INFO - Model loaded successfully. Embedding dimension: 768\n"
          ]
        },
        {
          "name": "stdout",
          "output_type": "stream",
          "text": [
            "{\"asctime\": \"2025-10-29 13:41:25,711\", \"name\": \"metrics\", \"levelname\": \"INFO\", \"message\": \"Metric recorded: embedding_texts_count\", \"operation\": \"embedding_texts_count\", \"value\": 1}\n"
          ]
        },
        {
          "name": "stderr",
          "output_type": "stream",
          "text": [
            "2025-10-29 13:41:25,711 - metrics - INFO - Metric recorded: embedding_texts_count\n"
          ]
        },
        {
          "name": "stdout",
          "output_type": "stream",
          "text": [
            "{\"asctime\": \"2025-10-29 13:41:25,712\", \"name\": \"metrics\", \"levelname\": \"INFO\", \"message\": \"Metric recorded: embedding_generation\", \"operation\": \"embedding_generation\", \"value\": 7699.0978717803955}\n"
          ]
        },
        {
          "name": "stderr",
          "output_type": "stream",
          "text": [
            "2025-10-29 13:41:25,712 - metrics - INFO - Metric recorded: embedding_generation\n"
          ]
        },
        {
          "name": "stdout",
          "output_type": "stream",
          "text": [
            "Sample embedding shape: (768,)\n",
            "Sample embedding norm: 1.0000\n"
          ]
        }
      ],
      "source": [
        "import numpy as np\n",
        "\n",
        "# Initialize embedder\n",
        "embedder = EmbeddingGenerator(\n",
        "    model_name=settings.embedding_model,\n",
        ")\n",
        "\n",
        "# Test embedding generation on a sample\n",
        "sample_text = \"This is a sample text to test embedding generation.\"\n",
        "sample_embedding = embedder.generate_single_embedding(sample_text)\n",
        "\n",
        "print(f\"Sample embedding shape: {sample_embedding.shape}\")\n",
        "print(f\"Sample embedding norm: {np.linalg.norm(sample_embedding):.4f}\")"
      ]
    },
    {
      "cell_type": "code",
      "execution_count": 10,
      "metadata": {},
      "outputs": [
        {
          "name": "stderr",
          "output_type": "stream",
          "text": [
            "2025-10-29 13:41:25,721 - ingestion_demo - INFO - Processing 106 chunks in batches of 10\n"
          ]
        },
        {
          "name": "stdout",
          "output_type": "stream",
          "text": [
            "{\"asctime\": \"2025-10-29 13:41:25,722\", \"name\": \"pinecone_vector_store\", \"levelname\": \"INFO\", \"message\": \"Adding 10 document chunks to local Pinecone vector store\"}\n"
          ]
        },
        {
          "name": "stderr",
          "output_type": "stream",
          "text": [
            "2025-10-29 13:41:25,722 - pinecone_vector_store - INFO - Adding 10 document chunks to local Pinecone vector store\n"
          ]
        },
        {
          "name": "stdout",
          "output_type": "stream",
          "text": [
            "{\"asctime\": \"2025-10-29 13:41:25,723\", \"name\": \"embedder\", \"levelname\": \"INFO\", \"message\": \"Loading embedding model: google/embeddinggemma-300m\"}\n"
          ]
        },
        {
          "name": "stderr",
          "output_type": "stream",
          "text": [
            "2025-10-29 13:41:25,723 - embedder - INFO - Loading embedding model: google/embeddinggemma-300m\n",
            "2025-10-29 13:41:25,725 - sentence_transformers.SentenceTransformer - INFO - Load pretrained SentenceTransformer: google/embeddinggemma-300m\n",
            "2025-10-29 13:41:33,317 - sentence_transformers.SentenceTransformer - INFO - 14 prompts are loaded, with the keys: ['query', 'document', 'BitextMining', 'Clustering', 'Classification', 'InstructionRetrieval', 'MultilabelClassification', 'PairClassification', 'Reranking', 'Retrieval', 'Retrieval-query', 'Retrieval-document', 'STS', 'Summarization']\n"
          ]
        },
        {
          "name": "stdout",
          "output_type": "stream",
          "text": [
            "{\"asctime\": \"2025-10-29 13:41:33,386\", \"name\": \"embedder\", \"levelname\": \"INFO\", \"message\": \"Model loaded successfully. Embedding dimension: 768\"}\n"
          ]
        },
        {
          "name": "stderr",
          "output_type": "stream",
          "text": [
            "2025-10-29 13:41:33,386 - embedder - INFO - Model loaded successfully. Embedding dimension: 768\n"
          ]
        },
        {
          "name": "stdout",
          "output_type": "stream",
          "text": [
            "{\"asctime\": \"2025-10-29 13:41:33,726\", \"name\": \"metrics\", \"levelname\": \"INFO\", \"message\": \"Metric recorded: embedding_texts_count\", \"operation\": \"embedding_texts_count\", \"value\": 10}\n"
          ]
        },
        {
          "name": "stderr",
          "output_type": "stream",
          "text": [
            "2025-10-29 13:41:33,726 - metrics - INFO - Metric recorded: embedding_texts_count\n"
          ]
        },
        {
          "name": "stdout",
          "output_type": "stream",
          "text": [
            "{\"asctime\": \"2025-10-29 13:41:33,727\", \"name\": \"metrics\", \"levelname\": \"INFO\", \"message\": \"Metric recorded: embedding_generation\", \"operation\": \"embedding_generation\", \"value\": 8003.880977630615}\n"
          ]
        },
        {
          "name": "stderr",
          "output_type": "stream",
          "text": [
            "2025-10-29 13:41:33,727 - metrics - INFO - Metric recorded: embedding_generation\n"
          ]
        },
        {
          "name": "stdout",
          "output_type": "stream",
          "text": [
            "{\"asctime\": \"2025-10-29 13:41:33,749\", \"name\": \"metrics\", \"levelname\": \"INFO\", \"message\": \"Metric recorded: vectors_upserted\", \"operation\": \"vectors_upserted\", \"value\": 10}\n"
          ]
        },
        {
          "name": "stderr",
          "output_type": "stream",
          "text": [
            "2025-10-29 13:41:33,749 - metrics - INFO - Metric recorded: vectors_upserted\n"
          ]
        },
        {
          "name": "stdout",
          "output_type": "stream",
          "text": [
            "{\"asctime\": \"2025-10-29 13:41:33,749\", \"name\": \"pinecone_vector_store\", \"levelname\": \"INFO\", \"message\": \"Successfully upserted 10 vectors to local store in namespace 'curator-pommeline'\"}\n"
          ]
        },
        {
          "name": "stderr",
          "output_type": "stream",
          "text": [
            "2025-10-29 13:41:33,749 - pinecone_vector_store - INFO - Successfully upserted 10 vectors to local store in namespace 'curator-pommeline'\n"
          ]
        },
        {
          "name": "stdout",
          "output_type": "stream",
          "text": [
            "{\"asctime\": \"2025-10-29 13:41:33,750\", \"name\": \"metrics\", \"levelname\": \"INFO\", \"message\": \"Metric recorded: documents_added\", \"operation\": \"documents_added\", \"value\": 10}\n"
          ]
        },
        {
          "name": "stderr",
          "output_type": "stream",
          "text": [
            "2025-10-29 13:41:33,750 - metrics - INFO - Metric recorded: documents_added\n",
            "2025-10-29 13:41:33,751 - ingestion_demo - INFO - Processed batch 1/11: 10 chunks\n"
          ]
        },
        {
          "name": "stdout",
          "output_type": "stream",
          "text": [
            "{\"asctime\": \"2025-10-29 13:41:33,751\", \"name\": \"pinecone_vector_store\", \"levelname\": \"INFO\", \"message\": \"Adding 10 document chunks to local Pinecone vector store\"}\n"
          ]
        },
        {
          "name": "stderr",
          "output_type": "stream",
          "text": [
            "2025-10-29 13:41:33,751 - pinecone_vector_store - INFO - Adding 10 document chunks to local Pinecone vector store\n"
          ]
        },
        {
          "name": "stdout",
          "output_type": "stream",
          "text": [
            "{\"asctime\": \"2025-10-29 13:41:34,000\", \"name\": \"metrics\", \"levelname\": \"INFO\", \"message\": \"Metric recorded: embedding_texts_count\", \"operation\": \"embedding_texts_count\", \"value\": 10}\n"
          ]
        },
        {
          "name": "stderr",
          "output_type": "stream",
          "text": [
            "2025-10-29 13:41:34,000 - metrics - INFO - Metric recorded: embedding_texts_count\n"
          ]
        },
        {
          "name": "stdout",
          "output_type": "stream",
          "text": [
            "{\"asctime\": \"2025-10-29 13:41:34,001\", \"name\": \"metrics\", \"levelname\": \"INFO\", \"message\": \"Metric recorded: embedding_generation\", \"operation\": \"embedding_generation\", \"value\": 249.38201904296875}\n"
          ]
        },
        {
          "name": "stderr",
          "output_type": "stream",
          "text": [
            "2025-10-29 13:41:34,001 - metrics - INFO - Metric recorded: embedding_generation\n"
          ]
        },
        {
          "name": "stdout",
          "output_type": "stream",
          "text": [
            "{\"asctime\": \"2025-10-29 13:41:34,018\", \"name\": \"metrics\", \"levelname\": \"INFO\", \"message\": \"Metric recorded: vectors_upserted\", \"operation\": \"vectors_upserted\", \"value\": 10}\n"
          ]
        },
        {
          "name": "stderr",
          "output_type": "stream",
          "text": [
            "2025-10-29 13:41:34,018 - metrics - INFO - Metric recorded: vectors_upserted\n"
          ]
        },
        {
          "name": "stdout",
          "output_type": "stream",
          "text": [
            "{\"asctime\": \"2025-10-29 13:41:34,019\", \"name\": \"pinecone_vector_store\", \"levelname\": \"INFO\", \"message\": \"Successfully upserted 10 vectors to local store in namespace 'curator-pommeline'\"}\n"
          ]
        },
        {
          "name": "stderr",
          "output_type": "stream",
          "text": [
            "2025-10-29 13:41:34,019 - pinecone_vector_store - INFO - Successfully upserted 10 vectors to local store in namespace 'curator-pommeline'\n"
          ]
        },
        {
          "name": "stdout",
          "output_type": "stream",
          "text": [
            "{\"asctime\": \"2025-10-29 13:41:34,019\", \"name\": \"metrics\", \"levelname\": \"INFO\", \"message\": \"Metric recorded: documents_added\", \"operation\": \"documents_added\", \"value\": 10}\n"
          ]
        },
        {
          "name": "stderr",
          "output_type": "stream",
          "text": [
            "2025-10-29 13:41:34,019 - metrics - INFO - Metric recorded: documents_added\n",
            "2025-10-29 13:41:34,020 - ingestion_demo - INFO - Processed batch 2/11: 10 chunks\n"
          ]
        },
        {
          "name": "stdout",
          "output_type": "stream",
          "text": [
            "{\"asctime\": \"2025-10-29 13:41:34,020\", \"name\": \"pinecone_vector_store\", \"levelname\": \"INFO\", \"message\": \"Adding 10 document chunks to local Pinecone vector store\"}\n"
          ]
        },
        {
          "name": "stderr",
          "output_type": "stream",
          "text": [
            "2025-10-29 13:41:34,020 - pinecone_vector_store - INFO - Adding 10 document chunks to local Pinecone vector store\n"
          ]
        },
        {
          "name": "stdout",
          "output_type": "stream",
          "text": [
            "{\"asctime\": \"2025-10-29 13:41:34,260\", \"name\": \"metrics\", \"levelname\": \"INFO\", \"message\": \"Metric recorded: embedding_texts_count\", \"operation\": \"embedding_texts_count\", \"value\": 10}\n"
          ]
        },
        {
          "name": "stderr",
          "output_type": "stream",
          "text": [
            "2025-10-29 13:41:34,260 - metrics - INFO - Metric recorded: embedding_texts_count\n"
          ]
        },
        {
          "name": "stdout",
          "output_type": "stream",
          "text": [
            "{\"asctime\": \"2025-10-29 13:41:34,261\", \"name\": \"metrics\", \"levelname\": \"INFO\", \"message\": \"Metric recorded: embedding_generation\", \"operation\": \"embedding_generation\", \"value\": 240.18502235412598}\n"
          ]
        },
        {
          "name": "stderr",
          "output_type": "stream",
          "text": [
            "2025-10-29 13:41:34,261 - metrics - INFO - Metric recorded: embedding_generation\n"
          ]
        },
        {
          "name": "stdout",
          "output_type": "stream",
          "text": [
            "{\"asctime\": \"2025-10-29 13:41:34,277\", \"name\": \"metrics\", \"levelname\": \"INFO\", \"message\": \"Metric recorded: vectors_upserted\", \"operation\": \"vectors_upserted\", \"value\": 10}\n"
          ]
        },
        {
          "name": "stderr",
          "output_type": "stream",
          "text": [
            "2025-10-29 13:41:34,277 - metrics - INFO - Metric recorded: vectors_upserted\n"
          ]
        },
        {
          "name": "stdout",
          "output_type": "stream",
          "text": [
            "{\"asctime\": \"2025-10-29 13:41:34,278\", \"name\": \"pinecone_vector_store\", \"levelname\": \"INFO\", \"message\": \"Successfully upserted 10 vectors to local store in namespace 'curator-pommeline'\"}\n"
          ]
        },
        {
          "name": "stderr",
          "output_type": "stream",
          "text": [
            "2025-10-29 13:41:34,278 - pinecone_vector_store - INFO - Successfully upserted 10 vectors to local store in namespace 'curator-pommeline'\n"
          ]
        },
        {
          "name": "stdout",
          "output_type": "stream",
          "text": [
            "{\"asctime\": \"2025-10-29 13:41:34,279\", \"name\": \"metrics\", \"levelname\": \"INFO\", \"message\": \"Metric recorded: documents_added\", \"operation\": \"documents_added\", \"value\": 10}\n"
          ]
        },
        {
          "name": "stderr",
          "output_type": "stream",
          "text": [
            "2025-10-29 13:41:34,279 - metrics - INFO - Metric recorded: documents_added\n",
            "2025-10-29 13:41:34,279 - ingestion_demo - INFO - Processed batch 3/11: 10 chunks\n"
          ]
        },
        {
          "name": "stdout",
          "output_type": "stream",
          "text": [
            "{\"asctime\": \"2025-10-29 13:41:34,279\", \"name\": \"pinecone_vector_store\", \"levelname\": \"INFO\", \"message\": \"Adding 10 document chunks to local Pinecone vector store\"}\n"
          ]
        },
        {
          "name": "stderr",
          "output_type": "stream",
          "text": [
            "2025-10-29 13:41:34,279 - pinecone_vector_store - INFO - Adding 10 document chunks to local Pinecone vector store\n"
          ]
        },
        {
          "name": "stdout",
          "output_type": "stream",
          "text": [
            "{\"asctime\": \"2025-10-29 13:41:34,479\", \"name\": \"metrics\", \"levelname\": \"INFO\", \"message\": \"Metric recorded: embedding_texts_count\", \"operation\": \"embedding_texts_count\", \"value\": 10}\n"
          ]
        },
        {
          "name": "stderr",
          "output_type": "stream",
          "text": [
            "2025-10-29 13:41:34,479 - metrics - INFO - Metric recorded: embedding_texts_count\n"
          ]
        },
        {
          "name": "stdout",
          "output_type": "stream",
          "text": [
            "{\"asctime\": \"2025-10-29 13:41:34,480\", \"name\": \"metrics\", \"levelname\": \"INFO\", \"message\": \"Metric recorded: embedding_generation\", \"operation\": \"embedding_generation\", \"value\": 200.71101188659668}\n"
          ]
        },
        {
          "name": "stderr",
          "output_type": "stream",
          "text": [
            "2025-10-29 13:41:34,480 - metrics - INFO - Metric recorded: embedding_generation\n"
          ]
        },
        {
          "name": "stdout",
          "output_type": "stream",
          "text": [
            "{\"asctime\": \"2025-10-29 13:41:34,500\", \"name\": \"metrics\", \"levelname\": \"INFO\", \"message\": \"Metric recorded: vectors_upserted\", \"operation\": \"vectors_upserted\", \"value\": 10}\n"
          ]
        },
        {
          "name": "stderr",
          "output_type": "stream",
          "text": [
            "2025-10-29 13:41:34,500 - metrics - INFO - Metric recorded: vectors_upserted\n"
          ]
        },
        {
          "name": "stdout",
          "output_type": "stream",
          "text": [
            "{\"asctime\": \"2025-10-29 13:41:34,501\", \"name\": \"pinecone_vector_store\", \"levelname\": \"INFO\", \"message\": \"Successfully upserted 10 vectors to local store in namespace 'curator-pommeline'\"}\n"
          ]
        },
        {
          "name": "stderr",
          "output_type": "stream",
          "text": [
            "2025-10-29 13:41:34,501 - pinecone_vector_store - INFO - Successfully upserted 10 vectors to local store in namespace 'curator-pommeline'\n"
          ]
        },
        {
          "name": "stdout",
          "output_type": "stream",
          "text": [
            "{\"asctime\": \"2025-10-29 13:41:34,501\", \"name\": \"metrics\", \"levelname\": \"INFO\", \"message\": \"Metric recorded: documents_added\", \"operation\": \"documents_added\", \"value\": 10}\n"
          ]
        },
        {
          "name": "stderr",
          "output_type": "stream",
          "text": [
            "2025-10-29 13:41:34,501 - metrics - INFO - Metric recorded: documents_added\n",
            "2025-10-29 13:41:34,502 - ingestion_demo - INFO - Processed batch 4/11: 10 chunks\n"
          ]
        },
        {
          "name": "stdout",
          "output_type": "stream",
          "text": [
            "{\"asctime\": \"2025-10-29 13:41:34,502\", \"name\": \"pinecone_vector_store\", \"levelname\": \"INFO\", \"message\": \"Adding 10 document chunks to local Pinecone vector store\"}\n"
          ]
        },
        {
          "name": "stderr",
          "output_type": "stream",
          "text": [
            "2025-10-29 13:41:34,502 - pinecone_vector_store - INFO - Adding 10 document chunks to local Pinecone vector store\n"
          ]
        },
        {
          "name": "stdout",
          "output_type": "stream",
          "text": [
            "{\"asctime\": \"2025-10-29 13:41:34,874\", \"name\": \"metrics\", \"levelname\": \"INFO\", \"message\": \"Metric recorded: embedding_texts_count\", \"operation\": \"embedding_texts_count\", \"value\": 10}\n"
          ]
        },
        {
          "name": "stderr",
          "output_type": "stream",
          "text": [
            "2025-10-29 13:41:34,874 - metrics - INFO - Metric recorded: embedding_texts_count\n"
          ]
        },
        {
          "name": "stdout",
          "output_type": "stream",
          "text": [
            "{\"asctime\": \"2025-10-29 13:41:34,875\", \"name\": \"metrics\", \"levelname\": \"INFO\", \"message\": \"Metric recorded: embedding_generation\", \"operation\": \"embedding_generation\", \"value\": 372.29204177856445}\n"
          ]
        },
        {
          "name": "stderr",
          "output_type": "stream",
          "text": [
            "2025-10-29 13:41:34,875 - metrics - INFO - Metric recorded: embedding_generation\n"
          ]
        },
        {
          "name": "stdout",
          "output_type": "stream",
          "text": [
            "{\"asctime\": \"2025-10-29 13:41:34,896\", \"name\": \"metrics\", \"levelname\": \"INFO\", \"message\": \"Metric recorded: vectors_upserted\", \"operation\": \"vectors_upserted\", \"value\": 10}\n"
          ]
        },
        {
          "name": "stderr",
          "output_type": "stream",
          "text": [
            "2025-10-29 13:41:34,896 - metrics - INFO - Metric recorded: vectors_upserted\n"
          ]
        },
        {
          "name": "stdout",
          "output_type": "stream",
          "text": [
            "{\"asctime\": \"2025-10-29 13:41:34,897\", \"name\": \"pinecone_vector_store\", \"levelname\": \"INFO\", \"message\": \"Successfully upserted 10 vectors to local store in namespace 'curator-pommeline'\"}\n"
          ]
        },
        {
          "name": "stderr",
          "output_type": "stream",
          "text": [
            "2025-10-29 13:41:34,897 - pinecone_vector_store - INFO - Successfully upserted 10 vectors to local store in namespace 'curator-pommeline'\n"
          ]
        },
        {
          "name": "stdout",
          "output_type": "stream",
          "text": [
            "{\"asctime\": \"2025-10-29 13:41:34,898\", \"name\": \"metrics\", \"levelname\": \"INFO\", \"message\": \"Metric recorded: documents_added\", \"operation\": \"documents_added\", \"value\": 10}\n"
          ]
        },
        {
          "name": "stderr",
          "output_type": "stream",
          "text": [
            "2025-10-29 13:41:34,898 - metrics - INFO - Metric recorded: documents_added\n",
            "2025-10-29 13:41:34,898 - ingestion_demo - INFO - Processed batch 5/11: 10 chunks\n",
            "2025-10-29 13:41:34,899 - ingestion_demo - INFO - Progress: 47.2% (50/106 chunks)\n"
          ]
        },
        {
          "name": "stdout",
          "output_type": "stream",
          "text": [
            "{\"asctime\": \"2025-10-29 13:41:34,899\", \"name\": \"pinecone_vector_store\", \"levelname\": \"INFO\", \"message\": \"Adding 10 document chunks to local Pinecone vector store\"}\n"
          ]
        },
        {
          "name": "stderr",
          "output_type": "stream",
          "text": [
            "2025-10-29 13:41:34,899 - pinecone_vector_store - INFO - Adding 10 document chunks to local Pinecone vector store\n"
          ]
        },
        {
          "name": "stdout",
          "output_type": "stream",
          "text": [
            "{\"asctime\": \"2025-10-29 13:41:35,113\", \"name\": \"metrics\", \"levelname\": \"INFO\", \"message\": \"Metric recorded: embedding_texts_count\", \"operation\": \"embedding_texts_count\", \"value\": 10}\n"
          ]
        },
        {
          "name": "stderr",
          "output_type": "stream",
          "text": [
            "2025-10-29 13:41:35,113 - metrics - INFO - Metric recorded: embedding_texts_count\n"
          ]
        },
        {
          "name": "stdout",
          "output_type": "stream",
          "text": [
            "{\"asctime\": \"2025-10-29 13:41:35,116\", \"name\": \"metrics\", \"levelname\": \"INFO\", \"message\": \"Metric recorded: embedding_generation\", \"operation\": \"embedding_generation\", \"value\": 215.5168056488037}\n"
          ]
        },
        {
          "name": "stderr",
          "output_type": "stream",
          "text": [
            "2025-10-29 13:41:35,116 - metrics - INFO - Metric recorded: embedding_generation\n"
          ]
        },
        {
          "name": "stdout",
          "output_type": "stream",
          "text": [
            "{\"asctime\": \"2025-10-29 13:41:35,138\", \"name\": \"metrics\", \"levelname\": \"INFO\", \"message\": \"Metric recorded: vectors_upserted\", \"operation\": \"vectors_upserted\", \"value\": 10}\n"
          ]
        },
        {
          "name": "stderr",
          "output_type": "stream",
          "text": [
            "2025-10-29 13:41:35,138 - metrics - INFO - Metric recorded: vectors_upserted\n"
          ]
        },
        {
          "name": "stdout",
          "output_type": "stream",
          "text": [
            "{\"asctime\": \"2025-10-29 13:41:35,139\", \"name\": \"pinecone_vector_store\", \"levelname\": \"INFO\", \"message\": \"Successfully upserted 10 vectors to local store in namespace 'curator-pommeline'\"}\n"
          ]
        },
        {
          "name": "stderr",
          "output_type": "stream",
          "text": [
            "2025-10-29 13:41:35,139 - pinecone_vector_store - INFO - Successfully upserted 10 vectors to local store in namespace 'curator-pommeline'\n"
          ]
        },
        {
          "name": "stdout",
          "output_type": "stream",
          "text": [
            "{\"asctime\": \"2025-10-29 13:41:35,140\", \"name\": \"metrics\", \"levelname\": \"INFO\", \"message\": \"Metric recorded: documents_added\", \"operation\": \"documents_added\", \"value\": 10}\n"
          ]
        },
        {
          "name": "stderr",
          "output_type": "stream",
          "text": [
            "2025-10-29 13:41:35,140 - metrics - INFO - Metric recorded: documents_added\n",
            "2025-10-29 13:41:35,140 - ingestion_demo - INFO - Processed batch 6/11: 10 chunks\n"
          ]
        },
        {
          "name": "stdout",
          "output_type": "stream",
          "text": [
            "{\"asctime\": \"2025-10-29 13:41:35,141\", \"name\": \"pinecone_vector_store\", \"levelname\": \"INFO\", \"message\": \"Adding 10 document chunks to local Pinecone vector store\"}\n"
          ]
        },
        {
          "name": "stderr",
          "output_type": "stream",
          "text": [
            "2025-10-29 13:41:35,141 - pinecone_vector_store - INFO - Adding 10 document chunks to local Pinecone vector store\n"
          ]
        },
        {
          "name": "stdout",
          "output_type": "stream",
          "text": [
            "{\"asctime\": \"2025-10-29 13:41:35,321\", \"name\": \"metrics\", \"levelname\": \"INFO\", \"message\": \"Metric recorded: embedding_texts_count\", \"operation\": \"embedding_texts_count\", \"value\": 10}\n"
          ]
        },
        {
          "name": "stderr",
          "output_type": "stream",
          "text": [
            "2025-10-29 13:41:35,321 - metrics - INFO - Metric recorded: embedding_texts_count\n"
          ]
        },
        {
          "name": "stdout",
          "output_type": "stream",
          "text": [
            "{\"asctime\": \"2025-10-29 13:41:35,322\", \"name\": \"metrics\", \"levelname\": \"INFO\", \"message\": \"Metric recorded: embedding_generation\", \"operation\": \"embedding_generation\", \"value\": 180.6631088256836}\n"
          ]
        },
        {
          "name": "stderr",
          "output_type": "stream",
          "text": [
            "2025-10-29 13:41:35,322 - metrics - INFO - Metric recorded: embedding_generation\n"
          ]
        },
        {
          "name": "stdout",
          "output_type": "stream",
          "text": [
            "{\"asctime\": \"2025-10-29 13:41:35,336\", \"name\": \"metrics\", \"levelname\": \"INFO\", \"message\": \"Metric recorded: vectors_upserted\", \"operation\": \"vectors_upserted\", \"value\": 10}\n"
          ]
        },
        {
          "name": "stderr",
          "output_type": "stream",
          "text": [
            "2025-10-29 13:41:35,336 - metrics - INFO - Metric recorded: vectors_upserted\n"
          ]
        },
        {
          "name": "stdout",
          "output_type": "stream",
          "text": [
            "{\"asctime\": \"2025-10-29 13:41:35,338\", \"name\": \"pinecone_vector_store\", \"levelname\": \"INFO\", \"message\": \"Successfully upserted 10 vectors to local store in namespace 'curator-pommeline'\"}\n"
          ]
        },
        {
          "name": "stderr",
          "output_type": "stream",
          "text": [
            "2025-10-29 13:41:35,338 - pinecone_vector_store - INFO - Successfully upserted 10 vectors to local store in namespace 'curator-pommeline'\n"
          ]
        },
        {
          "name": "stdout",
          "output_type": "stream",
          "text": [
            "{\"asctime\": \"2025-10-29 13:41:35,338\", \"name\": \"metrics\", \"levelname\": \"INFO\", \"message\": \"Metric recorded: documents_added\", \"operation\": \"documents_added\", \"value\": 10}\n"
          ]
        },
        {
          "name": "stderr",
          "output_type": "stream",
          "text": [
            "2025-10-29 13:41:35,338 - metrics - INFO - Metric recorded: documents_added\n",
            "2025-10-29 13:41:35,339 - ingestion_demo - INFO - Processed batch 7/11: 10 chunks\n"
          ]
        },
        {
          "name": "stdout",
          "output_type": "stream",
          "text": [
            "{\"asctime\": \"2025-10-29 13:41:35,339\", \"name\": \"pinecone_vector_store\", \"levelname\": \"INFO\", \"message\": \"Adding 10 document chunks to local Pinecone vector store\"}\n"
          ]
        },
        {
          "name": "stderr",
          "output_type": "stream",
          "text": [
            "2025-10-29 13:41:35,339 - pinecone_vector_store - INFO - Adding 10 document chunks to local Pinecone vector store\n"
          ]
        },
        {
          "name": "stdout",
          "output_type": "stream",
          "text": [
            "{\"asctime\": \"2025-10-29 13:41:35,613\", \"name\": \"metrics\", \"levelname\": \"INFO\", \"message\": \"Metric recorded: embedding_texts_count\", \"operation\": \"embedding_texts_count\", \"value\": 10}\n"
          ]
        },
        {
          "name": "stderr",
          "output_type": "stream",
          "text": [
            "2025-10-29 13:41:35,613 - metrics - INFO - Metric recorded: embedding_texts_count\n"
          ]
        },
        {
          "name": "stdout",
          "output_type": "stream",
          "text": [
            "{\"asctime\": \"2025-10-29 13:41:35,614\", \"name\": \"metrics\", \"levelname\": \"INFO\", \"message\": \"Metric recorded: embedding_generation\", \"operation\": \"embedding_generation\", \"value\": 274.7378349304199}\n"
          ]
        },
        {
          "name": "stderr",
          "output_type": "stream",
          "text": [
            "2025-10-29 13:41:35,614 - metrics - INFO - Metric recorded: embedding_generation\n"
          ]
        },
        {
          "name": "stdout",
          "output_type": "stream",
          "text": [
            "{\"asctime\": \"2025-10-29 13:41:35,633\", \"name\": \"metrics\", \"levelname\": \"INFO\", \"message\": \"Metric recorded: vectors_upserted\", \"operation\": \"vectors_upserted\", \"value\": 10}\n"
          ]
        },
        {
          "name": "stderr",
          "output_type": "stream",
          "text": [
            "2025-10-29 13:41:35,633 - metrics - INFO - Metric recorded: vectors_upserted\n"
          ]
        },
        {
          "name": "stdout",
          "output_type": "stream",
          "text": [
            "{\"asctime\": \"2025-10-29 13:41:35,634\", \"name\": \"pinecone_vector_store\", \"levelname\": \"INFO\", \"message\": \"Successfully upserted 10 vectors to local store in namespace 'curator-pommeline'\"}\n"
          ]
        },
        {
          "name": "stderr",
          "output_type": "stream",
          "text": [
            "2025-10-29 13:41:35,634 - pinecone_vector_store - INFO - Successfully upserted 10 vectors to local store in namespace 'curator-pommeline'\n"
          ]
        },
        {
          "name": "stdout",
          "output_type": "stream",
          "text": [
            "{\"asctime\": \"2025-10-29 13:41:35,635\", \"name\": \"metrics\", \"levelname\": \"INFO\", \"message\": \"Metric recorded: documents_added\", \"operation\": \"documents_added\", \"value\": 10}\n"
          ]
        },
        {
          "name": "stderr",
          "output_type": "stream",
          "text": [
            "2025-10-29 13:41:35,635 - metrics - INFO - Metric recorded: documents_added\n",
            "2025-10-29 13:41:35,635 - ingestion_demo - INFO - Processed batch 8/11: 10 chunks\n"
          ]
        },
        {
          "name": "stdout",
          "output_type": "stream",
          "text": [
            "{\"asctime\": \"2025-10-29 13:41:35,635\", \"name\": \"pinecone_vector_store\", \"levelname\": \"INFO\", \"message\": \"Adding 10 document chunks to local Pinecone vector store\"}\n"
          ]
        },
        {
          "name": "stderr",
          "output_type": "stream",
          "text": [
            "2025-10-29 13:41:35,635 - pinecone_vector_store - INFO - Adding 10 document chunks to local Pinecone vector store\n"
          ]
        },
        {
          "name": "stdout",
          "output_type": "stream",
          "text": [
            "{\"asctime\": \"2025-10-29 13:41:35,888\", \"name\": \"metrics\", \"levelname\": \"INFO\", \"message\": \"Metric recorded: embedding_texts_count\", \"operation\": \"embedding_texts_count\", \"value\": 10}\n"
          ]
        },
        {
          "name": "stderr",
          "output_type": "stream",
          "text": [
            "2025-10-29 13:41:35,888 - metrics - INFO - Metric recorded: embedding_texts_count\n"
          ]
        },
        {
          "name": "stdout",
          "output_type": "stream",
          "text": [
            "{\"asctime\": \"2025-10-29 13:41:35,890\", \"name\": \"metrics\", \"levelname\": \"INFO\", \"message\": \"Metric recorded: embedding_generation\", \"operation\": \"embedding_generation\", \"value\": 253.65090370178223}\n"
          ]
        },
        {
          "name": "stderr",
          "output_type": "stream",
          "text": [
            "2025-10-29 13:41:35,890 - metrics - INFO - Metric recorded: embedding_generation\n"
          ]
        },
        {
          "name": "stdout",
          "output_type": "stream",
          "text": [
            "{\"asctime\": \"2025-10-29 13:41:35,907\", \"name\": \"metrics\", \"levelname\": \"INFO\", \"message\": \"Metric recorded: vectors_upserted\", \"operation\": \"vectors_upserted\", \"value\": 10}\n"
          ]
        },
        {
          "name": "stderr",
          "output_type": "stream",
          "text": [
            "2025-10-29 13:41:35,907 - metrics - INFO - Metric recorded: vectors_upserted\n"
          ]
        },
        {
          "name": "stdout",
          "output_type": "stream",
          "text": [
            "{\"asctime\": \"2025-10-29 13:41:35,908\", \"name\": \"pinecone_vector_store\", \"levelname\": \"INFO\", \"message\": \"Successfully upserted 10 vectors to local store in namespace 'curator-pommeline'\"}\n"
          ]
        },
        {
          "name": "stderr",
          "output_type": "stream",
          "text": [
            "2025-10-29 13:41:35,908 - pinecone_vector_store - INFO - Successfully upserted 10 vectors to local store in namespace 'curator-pommeline'\n"
          ]
        },
        {
          "name": "stdout",
          "output_type": "stream",
          "text": [
            "{\"asctime\": \"2025-10-29 13:41:35,908\", \"name\": \"metrics\", \"levelname\": \"INFO\", \"message\": \"Metric recorded: documents_added\", \"operation\": \"documents_added\", \"value\": 10}\n"
          ]
        },
        {
          "name": "stderr",
          "output_type": "stream",
          "text": [
            "2025-10-29 13:41:35,908 - metrics - INFO - Metric recorded: documents_added\n",
            "2025-10-29 13:41:35,909 - ingestion_demo - INFO - Processed batch 9/11: 10 chunks\n"
          ]
        },
        {
          "name": "stdout",
          "output_type": "stream",
          "text": [
            "{\"asctime\": \"2025-10-29 13:41:35,909\", \"name\": \"pinecone_vector_store\", \"levelname\": \"INFO\", \"message\": \"Adding 10 document chunks to local Pinecone vector store\"}\n"
          ]
        },
        {
          "name": "stderr",
          "output_type": "stream",
          "text": [
            "2025-10-29 13:41:35,909 - pinecone_vector_store - INFO - Adding 10 document chunks to local Pinecone vector store\n"
          ]
        },
        {
          "name": "stdout",
          "output_type": "stream",
          "text": [
            "{\"asctime\": \"2025-10-29 13:41:36,129\", \"name\": \"metrics\", \"levelname\": \"INFO\", \"message\": \"Metric recorded: embedding_texts_count\", \"operation\": \"embedding_texts_count\", \"value\": 10}\n"
          ]
        },
        {
          "name": "stderr",
          "output_type": "stream",
          "text": [
            "2025-10-29 13:41:36,129 - metrics - INFO - Metric recorded: embedding_texts_count\n"
          ]
        },
        {
          "name": "stdout",
          "output_type": "stream",
          "text": [
            "{\"asctime\": \"2025-10-29 13:41:36,130\", \"name\": \"metrics\", \"levelname\": \"INFO\", \"message\": \"Metric recorded: embedding_generation\", \"operation\": \"embedding_generation\", \"value\": 220.11804580688477}\n"
          ]
        },
        {
          "name": "stderr",
          "output_type": "stream",
          "text": [
            "2025-10-29 13:41:36,130 - metrics - INFO - Metric recorded: embedding_generation\n"
          ]
        },
        {
          "name": "stdout",
          "output_type": "stream",
          "text": [
            "{\"asctime\": \"2025-10-29 13:41:36,143\", \"name\": \"metrics\", \"levelname\": \"INFO\", \"message\": \"Metric recorded: vectors_upserted\", \"operation\": \"vectors_upserted\", \"value\": 10}\n"
          ]
        },
        {
          "name": "stderr",
          "output_type": "stream",
          "text": [
            "2025-10-29 13:41:36,143 - metrics - INFO - Metric recorded: vectors_upserted\n"
          ]
        },
        {
          "name": "stdout",
          "output_type": "stream",
          "text": [
            "{\"asctime\": \"2025-10-29 13:41:36,143\", \"name\": \"pinecone_vector_store\", \"levelname\": \"INFO\", \"message\": \"Successfully upserted 10 vectors to local store in namespace 'curator-pommeline'\"}\n"
          ]
        },
        {
          "name": "stderr",
          "output_type": "stream",
          "text": [
            "2025-10-29 13:41:36,143 - pinecone_vector_store - INFO - Successfully upserted 10 vectors to local store in namespace 'curator-pommeline'\n"
          ]
        },
        {
          "name": "stdout",
          "output_type": "stream",
          "text": [
            "{\"asctime\": \"2025-10-29 13:41:36,144\", \"name\": \"metrics\", \"levelname\": \"INFO\", \"message\": \"Metric recorded: documents_added\", \"operation\": \"documents_added\", \"value\": 10}\n"
          ]
        },
        {
          "name": "stderr",
          "output_type": "stream",
          "text": [
            "2025-10-29 13:41:36,144 - metrics - INFO - Metric recorded: documents_added\n",
            "2025-10-29 13:41:36,144 - ingestion_demo - INFO - Processed batch 10/11: 10 chunks\n",
            "2025-10-29 13:41:36,145 - ingestion_demo - INFO - Progress: 94.3% (100/106 chunks)\n"
          ]
        },
        {
          "name": "stdout",
          "output_type": "stream",
          "text": [
            "{\"asctime\": \"2025-10-29 13:41:36,145\", \"name\": \"pinecone_vector_store\", \"levelname\": \"INFO\", \"message\": \"Adding 6 document chunks to local Pinecone vector store\"}\n"
          ]
        },
        {
          "name": "stderr",
          "output_type": "stream",
          "text": [
            "2025-10-29 13:41:36,145 - pinecone_vector_store - INFO - Adding 6 document chunks to local Pinecone vector store\n"
          ]
        },
        {
          "name": "stdout",
          "output_type": "stream",
          "text": [
            "{\"asctime\": \"2025-10-29 13:41:36,318\", \"name\": \"metrics\", \"levelname\": \"INFO\", \"message\": \"Metric recorded: embedding_texts_count\", \"operation\": \"embedding_texts_count\", \"value\": 6}\n"
          ]
        },
        {
          "name": "stderr",
          "output_type": "stream",
          "text": [
            "2025-10-29 13:41:36,318 - metrics - INFO - Metric recorded: embedding_texts_count\n"
          ]
        },
        {
          "name": "stdout",
          "output_type": "stream",
          "text": [
            "{\"asctime\": \"2025-10-29 13:41:36,319\", \"name\": \"metrics\", \"levelname\": \"INFO\", \"message\": \"Metric recorded: embedding_generation\", \"operation\": \"embedding_generation\", \"value\": 173.37393760681152}\n"
          ]
        },
        {
          "name": "stderr",
          "output_type": "stream",
          "text": [
            "2025-10-29 13:41:36,319 - metrics - INFO - Metric recorded: embedding_generation\n"
          ]
        },
        {
          "name": "stdout",
          "output_type": "stream",
          "text": [
            "{\"asctime\": \"2025-10-29 13:41:36,331\", \"name\": \"metrics\", \"levelname\": \"INFO\", \"message\": \"Metric recorded: vectors_upserted\", \"operation\": \"vectors_upserted\", \"value\": 6}\n"
          ]
        },
        {
          "name": "stderr",
          "output_type": "stream",
          "text": [
            "2025-10-29 13:41:36,331 - metrics - INFO - Metric recorded: vectors_upserted\n"
          ]
        },
        {
          "name": "stdout",
          "output_type": "stream",
          "text": [
            "{\"asctime\": \"2025-10-29 13:41:36,331\", \"name\": \"pinecone_vector_store\", \"levelname\": \"INFO\", \"message\": \"Successfully upserted 6 vectors to local store in namespace 'curator-pommeline'\"}\n"
          ]
        },
        {
          "name": "stderr",
          "output_type": "stream",
          "text": [
            "2025-10-29 13:41:36,331 - pinecone_vector_store - INFO - Successfully upserted 6 vectors to local store in namespace 'curator-pommeline'\n"
          ]
        },
        {
          "name": "stdout",
          "output_type": "stream",
          "text": [
            "{\"asctime\": \"2025-10-29 13:41:36,332\", \"name\": \"metrics\", \"levelname\": \"INFO\", \"message\": \"Metric recorded: documents_added\", \"operation\": \"documents_added\", \"value\": 6}\n"
          ]
        },
        {
          "name": "stderr",
          "output_type": "stream",
          "text": [
            "2025-10-29 13:41:36,332 - metrics - INFO - Metric recorded: documents_added\n",
            "2025-10-29 13:41:36,332 - ingestion_demo - INFO - Processed batch 11/11: 6 chunks\n",
            "2025-10-29 13:41:36,332 - ingestion_demo - INFO - Progress: 103.8% (110/106 chunks)\n",
            "2025-10-29 13:41:36,333 - ingestion_demo - INFO - \n",
            "Ingestion completed!\n",
            "2025-10-29 13:41:36,334 - ingestion_demo - INFO - Successfully processed: 106 chunks\n",
            "2025-10-29 13:41:36,335 - ingestion_demo - INFO - Failed chunks: 0\n"
          ]
        }
      ],
      "source": [
        "import numpy as np\n",
        "\n",
        "# Process chunks in batches to avoid memory issues\n",
        "batch_size = 10\n",
        "total_processed = 0\n",
        "failed_chunks = []\n",
        "\n",
        "logger.info(f\"Processing {len(all_chunks)} chunks in batches of {batch_size}\")\n",
        "\n",
        "for i in range(0, len(all_chunks), batch_size):\n",
        "    batch = all_chunks[i:i + batch_size]\n",
        "    \n",
        "    try:\n",
        "        # Add documents to vector store (this handles embedding generation internally)\n",
        "        doc_ids = vector_store.add_documents(batch)\n",
        "        total_processed += len(batch)\n",
        "        \n",
        "        logger.info(f\"Processed batch {i//batch_size + 1}/{(len(all_chunks)-1)//batch_size + 1}: {len(batch)} chunks\")\n",
        "        \n",
        "        # Show progress\n",
        "        if (i + batch_size) % 50 == 0 or i + batch_size >= len(all_chunks):\n",
        "            progress = (i + batch_size) / len(all_chunks) * 100\n",
        "            logger.info(f\"Progress: {progress:.1f}% ({i + batch_size}/{len(all_chunks)} chunks)\")\n",
        "            \n",
        "    except Exception as e:\n",
        "        logger.error(f\"Failed to process batch {i//batch_size + 1}: {e}\")\n",
        "        failed_chunks.extend([(chunk, str(e)) for chunk in batch])\n",
        "\n",
        "logger.info(f\"\\nIngestion completed!\")\n",
        "logger.info(f\"Successfully processed: {total_processed} chunks\")\n",
        "logger.info(f\"Failed chunks: {len(failed_chunks)}\")\n",
        "\n",
        "if failed_chunks:\n",
        "    logger.warning(\"Failed chunks:\")\n",
        "    for chunk, error in failed_chunks[:5]:  # Show first 5 failures\n",
        "        logger.warning(f\"  {chunk.chunk_id}: {error}\")"
      ]
    },
    {
      "cell_type": "markdown",
      "metadata": {},
      "source": [
        "## Verification\n",
        "\n",
        "Verify that the documents were successfully ingested by checking the index statistics and performing a test search."
      ]
    },
    {
      "cell_type": "code",
      "execution_count": 11,
      "metadata": {},
      "outputs": [
        {
          "name": "stdout",
          "output_type": "stream",
          "text": [
            "\n",
            "Final Index Statistics:\n",
            "  total_documents: 0\n",
            "  embedding_dimension: 768\n",
            "  index_name: curator-pommeline\n",
            "  index_fullness: 0\n",
            "  index_type: local_in_memory\n",
            "  namespaces: {'': {'vectorCount': 109}, 'curator-pommeline': {'vectorCount': 106}, 'pommeline': {'vectorCount': 0}, 'curator-pommeline-12fa085f': {'vectorCount': 0}, 'curator-pommeline-7b1a7bbb': {'vectorCount': 0}}\n"
          ]
        }
      ],
      "source": [
        "# Get final index statistics\n",
        "final_stats = vector_store.get_stats()\n",
        "print(\"\\nFinal Index Statistics:\")\n",
        "for key, value in final_stats.items():\n",
        "    print(f\"  {key}: {value}\")"
      ]
    },
    {
      "cell_type": "code",
      "execution_count": 12,
      "metadata": {},
      "outputs": [
        {
          "name": "stdout",
          "output_type": "stream",
          "text": [
            "\n",
            "Testing Search Functionality:\n",
            "==================================================\n",
            "{\"asctime\": \"2025-10-29 13:41:36,473\", \"name\": \"metrics\", \"levelname\": \"INFO\", \"message\": \"Metric recorded: embedding_texts_count\", \"operation\": \"embedding_texts_count\", \"value\": 1}\n"
          ]
        },
        {
          "name": "stderr",
          "output_type": "stream",
          "text": [
            "2025-10-29 13:41:36,473 - metrics - INFO - Metric recorded: embedding_texts_count\n"
          ]
        },
        {
          "name": "stdout",
          "output_type": "stream",
          "text": [
            "{\"asctime\": \"2025-10-29 13:41:36,474\", \"name\": \"metrics\", \"levelname\": \"INFO\", \"message\": \"Metric recorded: embedding_generation\", \"operation\": \"embedding_generation\", \"value\": 123.04997444152832}\n"
          ]
        },
        {
          "name": "stderr",
          "output_type": "stream",
          "text": [
            "2025-10-29 13:41:36,474 - metrics - INFO - Metric recorded: embedding_generation\n"
          ]
        },
        {
          "name": "stdout",
          "output_type": "stream",
          "text": [
            "{\"asctime\": \"2025-10-29 13:41:36,480\", \"name\": \"metrics\", \"levelname\": \"INFO\", \"message\": \"Metric recorded: queries_performed\", \"operation\": \"queries_performed\", \"value\": 1}\n"
          ]
        },
        {
          "name": "stderr",
          "output_type": "stream",
          "text": [
            "2025-10-29 13:41:36,480 - metrics - INFO - Metric recorded: queries_performed\n"
          ]
        },
        {
          "name": "stdout",
          "output_type": "stream",
          "text": [
            "{\"asctime\": \"2025-10-29 13:41:36,480\", \"name\": \"metrics\", \"levelname\": \"INFO\", \"message\": \"Metric recorded: search_results_count\", \"operation\": \"search_results_count\", \"value\": 3}\n"
          ]
        },
        {
          "name": "stderr",
          "output_type": "stream",
          "text": [
            "2025-10-29 13:41:36,480 - metrics - INFO - Metric recorded: search_results_count\n"
          ]
        },
        {
          "name": "stdout",
          "output_type": "stream",
          "text": [
            "{\"asctime\": \"2025-10-29 13:41:36,481\", \"name\": \"metrics\", \"levelname\": \"INFO\", \"message\": \"Metric recorded: vector_search\", \"operation\": \"vector_search\", \"value\": 130.01275062561035}\n"
          ]
        },
        {
          "name": "stderr",
          "output_type": "stream",
          "text": [
            "2025-10-29 13:41:36,481 - metrics - INFO - Metric recorded: vector_search\n"
          ]
        },
        {
          "name": "stdout",
          "output_type": "stream",
          "text": [
            "\n",
            "Query: 'iPhone 16 Pro features'\n",
            "Results found: 3\n",
            "  1. Score: 0.6314\n",
            "     Source: /Users/aamirsyedaltaf/Documents/curator-pommeline/data/products/iphone_16_pro.md\n",
            "     Preview: # iPhone 16 Pro\n",
            "\n",
            "The iPhone 16 Pro represents Apple's latest flagship smartphone, combining cutting-...\n",
            "  2. Score: 0.5547\n",
            "     Source: /Users/aamirsyedaltaf/Documents/curator-pommeline/data/products/iphone_16_pro.md\n",
            "     Preview: ## Pricing and Availability\n",
            "\n",
            "The iPhone 16 Pro is available starting at $999 for the 128GB model, wi...\n",
            "  3. Score: 0.5359\n",
            "     Source: /Users/aamirsyedaltaf/Documents/curator-pommeline/data/products/macbook_air_m3.md\n",
            "     Preview: ### Hearing\n",
            "- **Mono Audio** for balanced listening\n",
            "- **Live Listen** with Made for iPhone hearing a...\n",
            "{\"asctime\": \"2025-10-29 13:41:36,527\", \"name\": \"metrics\", \"levelname\": \"INFO\", \"message\": \"Metric recorded: embedding_texts_count\", \"operation\": \"embedding_texts_count\", \"value\": 1}\n"
          ]
        },
        {
          "name": "stderr",
          "output_type": "stream",
          "text": [
            "2025-10-29 13:41:36,527 - metrics - INFO - Metric recorded: embedding_texts_count\n"
          ]
        },
        {
          "name": "stdout",
          "output_type": "stream",
          "text": [
            "{\"asctime\": \"2025-10-29 13:41:36,527\", \"name\": \"metrics\", \"levelname\": \"INFO\", \"message\": \"Metric recorded: embedding_generation\", \"operation\": \"embedding_generation\", \"value\": 46.29802703857422}\n"
          ]
        },
        {
          "name": "stderr",
          "output_type": "stream",
          "text": [
            "2025-10-29 13:41:36,527 - metrics - INFO - Metric recorded: embedding_generation\n"
          ]
        },
        {
          "name": "stdout",
          "output_type": "stream",
          "text": [
            "{\"asctime\": \"2025-10-29 13:41:36,533\", \"name\": \"metrics\", \"levelname\": \"INFO\", \"message\": \"Metric recorded: queries_performed\", \"operation\": \"queries_performed\", \"value\": 1}\n"
          ]
        },
        {
          "name": "stderr",
          "output_type": "stream",
          "text": [
            "2025-10-29 13:41:36,533 - metrics - INFO - Metric recorded: queries_performed\n"
          ]
        },
        {
          "name": "stdout",
          "output_type": "stream",
          "text": [
            "{\"asctime\": \"2025-10-29 13:41:36,534\", \"name\": \"metrics\", \"levelname\": \"INFO\", \"message\": \"Metric recorded: search_results_count\", \"operation\": \"search_results_count\", \"value\": 3}\n"
          ]
        },
        {
          "name": "stderr",
          "output_type": "stream",
          "text": [
            "2025-10-29 13:41:36,534 - metrics - INFO - Metric recorded: search_results_count\n"
          ]
        },
        {
          "name": "stdout",
          "output_type": "stream",
          "text": [
            "{\"asctime\": \"2025-10-29 13:41:36,535\", \"name\": \"metrics\", \"levelname\": \"INFO\", \"message\": \"Metric recorded: vector_search\", \"operation\": \"vector_search\", \"value\": 53.94387245178223}\n"
          ]
        },
        {
          "name": "stderr",
          "output_type": "stream",
          "text": [
            "2025-10-29 13:41:36,535 - metrics - INFO - Metric recorded: vector_search\n"
          ]
        },
        {
          "name": "stdout",
          "output_type": "stream",
          "text": [
            "\n",
            "Query: 'MacBook Air M3 performance'\n",
            "Results found: 3\n",
            "  1. Score: 0.6526\n",
            "     Source: /Users/aamirsyedaltaf/Documents/curator-pommeline/data/products/macbook_air_m3.md\n",
            "     Preview: # MacBook Air with M3 Chip\n",
            "\n",
            "The MacBook Air with M3 chip combines exceptional performance with incre...\n",
            "  2. Score: 0.5635\n",
            "     Source: /Users/aamirsyedaltaf/Documents/curator-pommeline/data/products/macbook_air_m3.md\n",
            "     Preview: ### M3 Chip\n",
            "- **8-core CPU** with 4 performance cores and 4 efficiency cores\n",
            "- **8-core GPU** for sm...\n",
            "  3. Score: 0.5355\n",
            "     Source: /Users/aamirsyedaltaf/Documents/curator-pommeline/data/products/macbook_air_m3.md\n",
            "     Preview: ## Technical Specifications\n",
            "\n",
            "| Component | Specification |\n",
            "|-----------|---------------|\n",
            "| Processor...\n",
            "{\"asctime\": \"2025-10-29 13:41:36,713\", \"name\": \"metrics\", \"levelname\": \"INFO\", \"message\": \"Metric recorded: embedding_texts_count\", \"operation\": \"embedding_texts_count\", \"value\": 1}\n"
          ]
        },
        {
          "name": "stderr",
          "output_type": "stream",
          "text": [
            "2025-10-29 13:41:36,713 - metrics - INFO - Metric recorded: embedding_texts_count\n"
          ]
        },
        {
          "name": "stdout",
          "output_type": "stream",
          "text": [
            "{\"asctime\": \"2025-10-29 13:41:36,714\", \"name\": \"metrics\", \"levelname\": \"INFO\", \"message\": \"Metric recorded: embedding_generation\", \"operation\": \"embedding_generation\", \"value\": 177.63805389404297}\n"
          ]
        },
        {
          "name": "stderr",
          "output_type": "stream",
          "text": [
            "2025-10-29 13:41:36,714 - metrics - INFO - Metric recorded: embedding_generation\n"
          ]
        },
        {
          "name": "stdout",
          "output_type": "stream",
          "text": [
            "{\"asctime\": \"2025-10-29 13:41:36,719\", \"name\": \"metrics\", \"levelname\": \"INFO\", \"message\": \"Metric recorded: queries_performed\", \"operation\": \"queries_performed\", \"value\": 1}\n"
          ]
        },
        {
          "name": "stderr",
          "output_type": "stream",
          "text": [
            "2025-10-29 13:41:36,719 - metrics - INFO - Metric recorded: queries_performed\n"
          ]
        },
        {
          "name": "stdout",
          "output_type": "stream",
          "text": [
            "{\"asctime\": \"2025-10-29 13:41:36,720\", \"name\": \"metrics\", \"levelname\": \"INFO\", \"message\": \"Metric recorded: search_results_count\", \"operation\": \"search_results_count\", \"value\": 3}\n"
          ]
        },
        {
          "name": "stderr",
          "output_type": "stream",
          "text": [
            "2025-10-29 13:41:36,720 - metrics - INFO - Metric recorded: search_results_count\n"
          ]
        },
        {
          "name": "stdout",
          "output_type": "stream",
          "text": [
            "{\"asctime\": \"2025-10-29 13:41:36,721\", \"name\": \"metrics\", \"levelname\": \"INFO\", \"message\": \"Metric recorded: vector_search\", \"operation\": \"vector_search\", \"value\": 184.79585647583008}\n"
          ]
        },
        {
          "name": "stderr",
          "output_type": "stream",
          "text": [
            "2025-10-29 13:41:36,721 - metrics - INFO - Metric recorded: vector_search\n"
          ]
        },
        {
          "name": "stdout",
          "output_type": "stream",
          "text": [
            "\n",
            "Query: 'Student discount policy'\n",
            "Results found: 3\n",
            "  1. Score: 0.6160\n",
            "     Source: /Users/aamirsyedaltaf/Documents/curator-pommeline/data/policies/student_discount.md\n",
            "     Preview: # Student Discount Program\n",
            "\n",
            "We offer exclusive educational pricing for students, teachers, and educa...\n",
            "  2. Score: 0.5259\n",
            "     Source: /Users/aamirsyedaltaf/Documents/curator-pommeline/data/policies/student_discount.md\n",
            "     Preview: ### iPad and iPhone\n",
            "- **iPad Pro**: Up to $100 discount\n",
            "- **iPad Air**: Up to $50 discount\n",
            "- **iPad*...\n",
            "  3. Score: 0.5233\n",
            "     Source: /Users/aamirsyedaltaf/Documents/curator-pommeline/data/policies/student_discount.md\n",
            "     Preview: available throughout the year, with special promotions during back-to-school season.\n",
            "\n",
            "**Q: Can I com...\n",
            "{\"asctime\": \"2025-10-29 13:41:36,809\", \"name\": \"metrics\", \"levelname\": \"INFO\", \"message\": \"Metric recorded: embedding_texts_count\", \"operation\": \"embedding_texts_count\", \"value\": 1}\n"
          ]
        },
        {
          "name": "stderr",
          "output_type": "stream",
          "text": [
            "2025-10-29 13:41:36,809 - metrics - INFO - Metric recorded: embedding_texts_count\n"
          ]
        },
        {
          "name": "stdout",
          "output_type": "stream",
          "text": [
            "{\"asctime\": \"2025-10-29 13:41:36,809\", \"name\": \"metrics\", \"levelname\": \"INFO\", \"message\": \"Metric recorded: embedding_generation\", \"operation\": \"embedding_generation\", \"value\": 87.97907829284668}\n"
          ]
        },
        {
          "name": "stderr",
          "output_type": "stream",
          "text": [
            "2025-10-29 13:41:36,809 - metrics - INFO - Metric recorded: embedding_generation\n"
          ]
        },
        {
          "name": "stdout",
          "output_type": "stream",
          "text": [
            "{\"asctime\": \"2025-10-29 13:41:36,816\", \"name\": \"metrics\", \"levelname\": \"INFO\", \"message\": \"Metric recorded: queries_performed\", \"operation\": \"queries_performed\", \"value\": 1}\n"
          ]
        },
        {
          "name": "stderr",
          "output_type": "stream",
          "text": [
            "2025-10-29 13:41:36,816 - metrics - INFO - Metric recorded: queries_performed\n"
          ]
        },
        {
          "name": "stdout",
          "output_type": "stream",
          "text": [
            "{\"asctime\": \"2025-10-29 13:41:36,816\", \"name\": \"metrics\", \"levelname\": \"INFO\", \"message\": \"Metric recorded: search_results_count\", \"operation\": \"search_results_count\", \"value\": 3}\n"
          ]
        },
        {
          "name": "stderr",
          "output_type": "stream",
          "text": [
            "2025-10-29 13:41:36,816 - metrics - INFO - Metric recorded: search_results_count\n"
          ]
        },
        {
          "name": "stdout",
          "output_type": "stream",
          "text": [
            "{\"asctime\": \"2025-10-29 13:41:36,817\", \"name\": \"metrics\", \"levelname\": \"INFO\", \"message\": \"Metric recorded: vector_search\", \"operation\": \"vector_search\", \"value\": 95.27587890625}\n"
          ]
        },
        {
          "name": "stderr",
          "output_type": "stream",
          "text": [
            "2025-10-29 13:41:36,817 - metrics - INFO - Metric recorded: vector_search\n"
          ]
        },
        {
          "name": "stdout",
          "output_type": "stream",
          "text": [
            "\n",
            "Query: 'Return policy for electronics'\n",
            "Results found: 3\n",
            "  1. Score: 0.6778\n",
            "     Source: /Users/aamirsyedaltaf/Documents/curator-pommeline/data/policies/return_policy.md\n",
            "     Preview: ### Return Conditions\n",
            "- **Items must be in original condition** with all original packaging and acce...\n",
            "  2. Score: 0.6381\n",
            "     Source: /Users/aamirsyedaltaf/Documents/curator-pommeline/data/policies/return_policy.md\n",
            "     Preview: ### In-Store Returns\n",
            "1. **Bring the item** to any retail store location\n",
            "2. **Present original receip...\n",
            "  3. Score: 0.6176\n",
            "     Source: /Users/aamirsyedaltaf/Documents/curator-pommeline/data/policies/return_policy.md\n",
            "     Preview: # Return and Refund Policy\n",
            "\n",
            "We want you to be completely satisfied with your purchase. If you're not...\n"
          ]
        }
      ],
      "source": [
        "# Test search functionality\n",
        "test_queries = [\n",
        "    \"iPhone 16 Pro features\",\n",
        "    \"MacBook Air M3 performance\",\n",
        "    \"Student discount policy\",\n",
        "    \"Return policy for electronics\"\n",
        "]\n",
        "\n",
        "print(\"\\nTesting Search Functionality:\")\n",
        "print(\"=\" * 50)\n",
        "\n",
        "for query in test_queries:\n",
        "    try:\n",
        "        results = vector_store.search(query, top_k=3)\n",
        "        print(f\"\\nQuery: '{query}'\")\n",
        "        print(f\"Results found: {len(results)}\")\n",
        "        \n",
        "        for i, (doc, score) in enumerate(results):\n",
        "            print(f\"  {i+1}. Score: {score:.4f}\")\n",
        "            print(f\"     Source: {doc['source_file']}\")\n",
        "            print(f\"     Preview: {doc['content'][:100]}...\")\n",
        "            \n",
        "    except Exception as e:\n",
        "        print(f\"\\nQuery: '{query}' - ERROR: {e}\")"
      ]
    },
    {
      "cell_type": "code",
      "execution_count": 13,
      "metadata": {},
      "outputs": [
        {
          "name": "stdout",
          "output_type": "stream",
          "text": [
            "{\"asctime\": \"2025-10-29 13:41:36,831\", \"name\": \"pinecone_index_client\", \"levelname\": \"INFO\", \"message\": \"Initialized PineconeIndexClient for dense index 'curator-pommeline-f316c5d1' (dim: 768, metric: dotproduct)\"}\n"
          ]
        },
        {
          "name": "stderr",
          "output_type": "stream",
          "text": [
            "2025-10-29 13:41:36,831 - pinecone_index_client - INFO - Initialized PineconeIndexClient for dense index 'curator-pommeline-f316c5d1' (dim: 768, metric: dotproduct)\n"
          ]
        },
        {
          "name": "stdout",
          "output_type": "stream",
          "text": [
            "{\"asctime\": \"2025-10-29 13:41:36,838\", \"name\": \"pinecone_vector_store\", \"levelname\": \"INFO\", \"message\": \"Connected to Pinecone Index container: {'namespaces': {'': {'vectorCount': 109}, 'curator-pommeline': {'vectorCount': 106}, 'curator-pommeline-12fa085f': {'vectorCount': 0}, 'pommeline': {'vectorCount': 0}, 'curator-pommeline-7b1a7bbb': {'vectorCount': 0}}, 'dimension': 768, 'indexFullness': 0.0, 'totalVectorCount': 215}\"}\n"
          ]
        },
        {
          "name": "stderr",
          "output_type": "stream",
          "text": [
            "2025-10-29 13:41:36,838 - pinecone_vector_store - INFO - Connected to Pinecone Index container: {'namespaces': {'': {'vectorCount': 109}, 'curator-pommeline': {'vectorCount': 106}, 'curator-pommeline-12fa085f': {'vectorCount': 0}, 'pommeline': {'vectorCount': 0}, 'curator-pommeline-7b1a7bbb': {'vectorCount': 0}}, 'dimension': 768, 'indexFullness': 0.0, 'totalVectorCount': 215}\n"
          ]
        },
        {
          "name": "stdout",
          "output_type": "stream",
          "text": [
            "{\"asctime\": \"2025-10-29 13:41:36,843\", \"name\": \"cache\", \"levelname\": \"INFO\", \"message\": \"Started cache cleanup task with 300s interval\"}\n"
          ]
        },
        {
          "name": "stderr",
          "output_type": "stream",
          "text": [
            "2025-10-29 13:41:36,843 - cache - INFO - Started cache cleanup task with 300s interval\n"
          ]
        },
        {
          "name": "stdout",
          "output_type": "stream",
          "text": [
            "\n",
            "Testing Retrieve Tool:\n",
            "==============================\n",
            "{\"asctime\": \"2025-10-29 13:41:36,847\", \"name\": \"retrieve_tool\", \"levelname\": \"INFO\", \"message\": \"Retrieving documents for query: 'iPhone 16 Pro features'\"}\n"
          ]
        },
        {
          "name": "stderr",
          "output_type": "stream",
          "text": [
            "2025-10-29 13:41:36,847 - retrieve_tool - INFO - Retrieving documents for query: 'iPhone 16 Pro features'\n"
          ]
        },
        {
          "name": "stdout",
          "output_type": "stream",
          "text": [
            "{\"asctime\": \"2025-10-29 13:41:36,848\", \"name\": \"retrieve_tool\", \"levelname\": \"INFO\", \"message\": \"Using hybrid searcher with index: curator-pommeline\"}\n"
          ]
        },
        {
          "name": "stderr",
          "output_type": "stream",
          "text": [
            "2025-10-29 13:41:36,848 - retrieve_tool - INFO - Using hybrid searcher with index: curator-pommeline\n"
          ]
        },
        {
          "name": "stdout",
          "output_type": "stream",
          "text": [
            "{\"asctime\": \"2025-10-29 13:41:36,888\", \"name\": \"metrics\", \"levelname\": \"INFO\", \"message\": \"Metric recorded: embedding_texts_count\", \"operation\": \"embedding_texts_count\", \"value\": 1}\n"
          ]
        },
        {
          "name": "stderr",
          "output_type": "stream",
          "text": [
            "2025-10-29 13:41:36,888 - metrics - INFO - Metric recorded: embedding_texts_count\n"
          ]
        },
        {
          "name": "stdout",
          "output_type": "stream",
          "text": [
            "{\"asctime\": \"2025-10-29 13:41:36,888\", \"name\": \"metrics\", \"levelname\": \"INFO\", \"message\": \"Metric recorded: embedding_generation\", \"operation\": \"embedding_generation\", \"value\": 40.36998748779297}\n"
          ]
        },
        {
          "name": "stderr",
          "output_type": "stream",
          "text": [
            "2025-10-29 13:41:36,888 - metrics - INFO - Metric recorded: embedding_generation\n"
          ]
        },
        {
          "name": "stdout",
          "output_type": "stream",
          "text": [
            "{\"asctime\": \"2025-10-29 13:41:36,894\", \"name\": \"metrics\", \"levelname\": \"INFO\", \"message\": \"Metric recorded: queries_performed\", \"operation\": \"queries_performed\", \"value\": 1}\n"
          ]
        },
        {
          "name": "stderr",
          "output_type": "stream",
          "text": [
            "2025-10-29 13:41:36,894 - metrics - INFO - Metric recorded: queries_performed\n"
          ]
        },
        {
          "name": "stdout",
          "output_type": "stream",
          "text": [
            "{\"asctime\": \"2025-10-29 13:41:36,894\", \"name\": \"metrics\", \"levelname\": \"INFO\", \"message\": \"Metric recorded: search_results_count\", \"operation\": \"search_results_count\", \"value\": 8}\n"
          ]
        },
        {
          "name": "stderr",
          "output_type": "stream",
          "text": [
            "2025-10-29 13:41:36,894 - metrics - INFO - Metric recorded: search_results_count\n"
          ]
        },
        {
          "name": "stdout",
          "output_type": "stream",
          "text": [
            "{\"asctime\": \"2025-10-29 13:41:36,895\", \"name\": \"metrics\", \"levelname\": \"INFO\", \"message\": \"Metric recorded: vector_search\", \"operation\": \"vector_search\", \"value\": 46.4630126953125}\n"
          ]
        },
        {
          "name": "stderr",
          "output_type": "stream",
          "text": [
            "2025-10-29 13:41:36,895 - metrics - INFO - Metric recorded: vector_search\n"
          ]
        },
        {
          "name": "stdout",
          "output_type": "stream",
          "text": [
            "{\"asctime\": \"2025-10-29 13:41:36,895\", \"name\": \"metrics\", \"levelname\": \"INFO\", \"message\": \"Metric recorded: hybrid_search_results\", \"operation\": \"hybrid_search_results\", \"value\": 4}\n"
          ]
        },
        {
          "name": "stderr",
          "output_type": "stream",
          "text": [
            "2025-10-29 13:41:36,895 - metrics - INFO - Metric recorded: hybrid_search_results\n"
          ]
        },
        {
          "name": "stdout",
          "output_type": "stream",
          "text": [
            "{\"asctime\": \"2025-10-29 13:41:36,895\", \"name\": \"metrics\", \"levelname\": \"INFO\", \"message\": \"Metric recorded: hybrid_search\", \"operation\": \"hybrid_search\", \"value\": 47.08719253540039}\n"
          ]
        },
        {
          "name": "stderr",
          "output_type": "stream",
          "text": [
            "2025-10-29 13:41:36,895 - metrics - INFO - Metric recorded: hybrid_search\n"
          ]
        },
        {
          "name": "stdout",
          "output_type": "stream",
          "text": [
            "{\"asctime\": \"2025-10-29 13:41:36,896\", \"name\": \"retrieve_tool\", \"levelname\": \"INFO\", \"message\": \"Retrieved 0 documents\"}\n"
          ]
        },
        {
          "name": "stderr",
          "output_type": "stream",
          "text": [
            "2025-10-29 13:41:36,896 - retrieve_tool - INFO - Retrieved 0 documents\n"
          ]
        },
        {
          "name": "stdout",
          "output_type": "stream",
          "text": [
            "{\"asctime\": \"2025-10-29 13:41:36,896\", \"name\": \"metrics\", \"levelname\": \"INFO\", \"message\": \"Metric recorded: retrieve_documents_count\", \"operation\": \"retrieve_documents_count\", \"value\": 0}\n"
          ]
        },
        {
          "name": "stderr",
          "output_type": "stream",
          "text": [
            "2025-10-29 13:41:36,896 - metrics - INFO - Metric recorded: retrieve_documents_count\n"
          ]
        },
        {
          "name": "stdout",
          "output_type": "stream",
          "text": [
            "{\"asctime\": \"2025-10-29 13:41:36,896\", \"name\": \"metrics\", \"levelname\": \"INFO\", \"message\": \"Metric recorded: tool_retrieve\", \"operation\": \"tool_retrieve\", \"value\": 48.84195327758789}\n"
          ]
        },
        {
          "name": "stderr",
          "output_type": "stream",
          "text": [
            "2025-10-29 13:41:36,896 - metrics - INFO - Metric recorded: tool_retrieve\n"
          ]
        },
        {
          "name": "stdout",
          "output_type": "stream",
          "text": [
            "\n",
            "Query: 'iPhone 16 Pro features'\n",
            "Total results: 0\n",
            "Search metadata: {'query_length': 22, 'search_method': 'hybrid', 'components_used': {'bm25': False, 'dense': False}, 'similarity_threshold': 0.15, 'original_results': 0, 'filtered_results': 0}\n",
            "{\"asctime\": \"2025-10-29 13:41:36,897\", \"name\": \"retrieve_tool\", \"levelname\": \"INFO\", \"message\": \"Retrieving documents for query: 'MacBook Air M3 performance'\"}\n"
          ]
        },
        {
          "name": "stderr",
          "output_type": "stream",
          "text": [
            "2025-10-29 13:41:36,897 - retrieve_tool - INFO - Retrieving documents for query: 'MacBook Air M3 performance'\n"
          ]
        },
        {
          "name": "stdout",
          "output_type": "stream",
          "text": [
            "{\"asctime\": \"2025-10-29 13:41:36,897\", \"name\": \"retrieve_tool\", \"levelname\": \"INFO\", \"message\": \"Using hybrid searcher with index: curator-pommeline\"}\n"
          ]
        },
        {
          "name": "stderr",
          "output_type": "stream",
          "text": [
            "2025-10-29 13:41:36,897 - retrieve_tool - INFO - Using hybrid searcher with index: curator-pommeline\n"
          ]
        },
        {
          "name": "stdout",
          "output_type": "stream",
          "text": [
            "{\"asctime\": \"2025-10-29 13:41:36,934\", \"name\": \"metrics\", \"levelname\": \"INFO\", \"message\": \"Metric recorded: embedding_texts_count\", \"operation\": \"embedding_texts_count\", \"value\": 1}\n"
          ]
        },
        {
          "name": "stderr",
          "output_type": "stream",
          "text": [
            "2025-10-29 13:41:36,934 - metrics - INFO - Metric recorded: embedding_texts_count\n"
          ]
        },
        {
          "name": "stdout",
          "output_type": "stream",
          "text": [
            "{\"asctime\": \"2025-10-29 13:41:36,935\", \"name\": \"metrics\", \"levelname\": \"INFO\", \"message\": \"Metric recorded: embedding_generation\", \"operation\": \"embedding_generation\", \"value\": 37.7500057220459}\n"
          ]
        },
        {
          "name": "stderr",
          "output_type": "stream",
          "text": [
            "2025-10-29 13:41:36,935 - metrics - INFO - Metric recorded: embedding_generation\n"
          ]
        },
        {
          "name": "stdout",
          "output_type": "stream",
          "text": [
            "{\"asctime\": \"2025-10-29 13:41:36,941\", \"name\": \"metrics\", \"levelname\": \"INFO\", \"message\": \"Metric recorded: queries_performed\", \"operation\": \"queries_performed\", \"value\": 1}\n"
          ]
        },
        {
          "name": "stderr",
          "output_type": "stream",
          "text": [
            "2025-10-29 13:41:36,941 - metrics - INFO - Metric recorded: queries_performed\n"
          ]
        },
        {
          "name": "stdout",
          "output_type": "stream",
          "text": [
            "{\"asctime\": \"2025-10-29 13:41:36,941\", \"name\": \"metrics\", \"levelname\": \"INFO\", \"message\": \"Metric recorded: search_results_count\", \"operation\": \"search_results_count\", \"value\": 8}\n"
          ]
        },
        {
          "name": "stderr",
          "output_type": "stream",
          "text": [
            "2025-10-29 13:41:36,941 - metrics - INFO - Metric recorded: search_results_count\n"
          ]
        },
        {
          "name": "stdout",
          "output_type": "stream",
          "text": [
            "{\"asctime\": \"2025-10-29 13:41:36,942\", \"name\": \"metrics\", \"levelname\": \"INFO\", \"message\": \"Metric recorded: vector_search\", \"operation\": \"vector_search\", \"value\": 44.573307037353516}\n"
          ]
        },
        {
          "name": "stderr",
          "output_type": "stream",
          "text": [
            "2025-10-29 13:41:36,942 - metrics - INFO - Metric recorded: vector_search\n"
          ]
        },
        {
          "name": "stdout",
          "output_type": "stream",
          "text": [
            "{\"asctime\": \"2025-10-29 13:41:36,942\", \"name\": \"metrics\", \"levelname\": \"INFO\", \"message\": \"Metric recorded: hybrid_search_results\", \"operation\": \"hybrid_search_results\", \"value\": 4}\n"
          ]
        },
        {
          "name": "stderr",
          "output_type": "stream",
          "text": [
            "2025-10-29 13:41:36,942 - metrics - INFO - Metric recorded: hybrid_search_results\n"
          ]
        },
        {
          "name": "stdout",
          "output_type": "stream",
          "text": [
            "{\"asctime\": \"2025-10-29 13:41:36,943\", \"name\": \"metrics\", \"levelname\": \"INFO\", \"message\": \"Metric recorded: hybrid_search\", \"operation\": \"hybrid_search\", \"value\": 45.408010482788086}\n"
          ]
        },
        {
          "name": "stderr",
          "output_type": "stream",
          "text": [
            "2025-10-29 13:41:36,943 - metrics - INFO - Metric recorded: hybrid_search\n"
          ]
        },
        {
          "name": "stdout",
          "output_type": "stream",
          "text": [
            "{\"asctime\": \"2025-10-29 13:41:36,943\", \"name\": \"retrieve_tool\", \"levelname\": \"INFO\", \"message\": \"Retrieved 0 documents\"}\n"
          ]
        },
        {
          "name": "stderr",
          "output_type": "stream",
          "text": [
            "2025-10-29 13:41:36,943 - retrieve_tool - INFO - Retrieved 0 documents\n"
          ]
        },
        {
          "name": "stdout",
          "output_type": "stream",
          "text": [
            "{\"asctime\": \"2025-10-29 13:41:36,943\", \"name\": \"metrics\", \"levelname\": \"INFO\", \"message\": \"Metric recorded: retrieve_documents_count\", \"operation\": \"retrieve_documents_count\", \"value\": 0}\n"
          ]
        },
        {
          "name": "stderr",
          "output_type": "stream",
          "text": [
            "2025-10-29 13:41:36,943 - metrics - INFO - Metric recorded: retrieve_documents_count\n"
          ]
        },
        {
          "name": "stdout",
          "output_type": "stream",
          "text": [
            "{\"asctime\": \"2025-10-29 13:41:36,944\", \"name\": \"metrics\", \"levelname\": \"INFO\", \"message\": \"Metric recorded: tool_retrieve\", \"operation\": \"tool_retrieve\", \"value\": 47.25384712219238}\n"
          ]
        },
        {
          "name": "stderr",
          "output_type": "stream",
          "text": [
            "2025-10-29 13:41:36,944 - metrics - INFO - Metric recorded: tool_retrieve\n"
          ]
        },
        {
          "name": "stdout",
          "output_type": "stream",
          "text": [
            "\n",
            "Query: 'MacBook Air M3 performance'\n",
            "Total results: 0\n",
            "Search metadata: {'query_length': 26, 'search_method': 'hybrid', 'components_used': {'bm25': False, 'dense': False}, 'similarity_threshold': 0.15, 'original_results': 0, 'filtered_results': 0}\n"
          ]
        }
      ],
      "source": [
        "# Test the retrieve tool\n",
        "from src.tools.retrieve import retrieve_documents\n",
        "\n",
        "print(\"\\nTesting Retrieve Tool:\")\n",
        "print(\"=\" * 30)\n",
        "\n",
        "for query in test_queries[:2]:  # Test first 2 queries\n",
        "    try:\n",
        "        response = retrieve_documents(query, top_k=2)\n",
        "        print(f\"\\nQuery: '{query}'\")\n",
        "        print(f\"Total results: {response.total_results}\")\n",
        "        print(f\"Search metadata: {response.search_metadata}\")\n",
        "        \n",
        "        for i, doc in enumerate(response.results):\n",
        "            print(f\"  {i+1}. Score: {doc.score:.4f}\")\n",
        "            print(f\"     Source: {doc.source_file}\")\n",
        "            print(f\"     Preview: {doc.content[:100]}...\")\n",
        "            \n",
        "    except Exception as e:\n",
        "        print(f\"\\nQuery: '{query}' - ERROR: {e}\")"
      ]
    },
    {
      "cell_type": "markdown",
      "metadata": {},
      "source": [
        "## Summary\n",
        "\n",
        "This notebook has successfully:\n",
        "1. ✅ Generated a unique index UUID for this notebook run\n",
        "2. ✅ Connected to Pinecone and configured the unique index\n",
        "3. ✅ Loaded product and policy documents from the data directory\n",
        "4. ✅ Chunked documents into optimal sizes for retrieval\n",
        "5. ✅ Generated normalized embeddings and stored them in the unique index\n",
        "6. ✅ Verified the ingestion with test searches\n",
        "\n",
        "The unique index `curator-pommeline-{index_uuid}` is now ready for use with the retrieval tools and will be automatically cleaned up at the end of this notebook."
      ]
    },
    {
      "cell_type": "markdown",
      "metadata": {},
      "source": [
        "## 🗑️ Cleanup\n",
        "\n",
        "Clean up the unique index created in this notebook.\n",
        "\n",
        "> **⚠️ WARNING**: This cell will permanently delete the unique index created in this notebook run.\n",
        ">\n",
        "This ensures clean resource management and prevents leftover data in your Pinecone instance."
      ]
    },
    {
      "cell_type": "code",
      "execution_count": 14,
      "metadata": {},
      "outputs": [
        {
          "name": "stdout",
          "output_type": "stream",
          "text": [
            "🗑️  Cleaning up unique index 'curator-pommeline'...\n",
            "📊 Final statistics before cleanup:\n",
            "   Total vectors: 0\n",
            "   Namespaces: {'pommeline': {'vectorCount': 0}, 'curator-pommeline-7b1a7bbb': {'vectorCount': 0}, 'curator-pommeline': {'vectorCount': 106}, '': {'vectorCount': 109}, 'curator-pommeline-12fa085f': {'vectorCount': 0}}\n",
            "📋 Cleanup Summary:\n",
            "   Index: curator-pommeline\n",
            "   Total vectors to delete: 215\n",
            "   Namespace 'curator-pommeline': 106 vectors\n",
            "   Namespace '': 109 vectors\n",
            "🧹 Attempting to clear namespace 'curator-pommeline'...\n",
            "   ✅ Namespace clear request sent successfully\n",
            "✅ Cleanup process completed\n",
            "💡 In production with Pinecone cloud, you would use:\n",
            "   pc.delete_index('curator-pommeline') to permanently delete the index\n",
            "🎯 Unique index UUID 'f316c5d1' has been processed for cleanup\n",
            "🧹 Resources have been freed from your local Pinecone instance\n"
          ]
        }
      ],
      "source": [
        "# Clean up the unique index created in this notebook\n",
        "import requests\n",
        "import json\n",
        "from dotenv import load_dotenv\n",
        "load_dotenv()\n",
        "import sys\n",
        "sys.path.append(str(pathlib.Path().absolute().parent / \"src\"))\n",
        "from src.config import settings\n",
        "\n",
        "try:\n",
        "    # Get the final index statistics before cleanup\n",
        "    final_stats = vector_store.get_stats()\n",
        "    index_name = final_stats[\"index_name\"]\n",
        "    namespaces = final_stats.get(\"namespaces\", {})\n",
        "\n",
        "    print(f\"🗑️  Cleaning up unique index '{index_name}'...\")\n",
        "    print(f\"📊 Final statistics before cleanup:\")\n",
        "    print(f\"   Total vectors: {final_stats.get('total_documents', 'unknown')}\")\n",
        "    print(f\"   Namespaces: {namespaces}\")\n",
        "\n",
        "    # Calculate total vectors to delete\n",
        "    total_vectors_to_delete = sum(\n",
        "        ns_data.get('vectorCount', 0) \n",
        "        for ns_data in namespaces.values()\n",
        "    )\n",
        "\n",
        "    print(f\"📋 Cleanup Summary:\")\n",
        "    print(f\"   Index: {index_name}\")\n",
        "    print(f\"   Total vectors to delete: {total_vectors_to_delete}\")\n",
        "\n",
        "    for ns_name, ns_data in namespaces.items():\n",
        "        vector_count = ns_data.get('vectorCount', 0)\n",
        "        if vector_count > 0:\n",
        "            print(f\"   Namespace '{ns_name}': {vector_count} vectors\")\n",
        "\n",
        "    # For Pinecone index container, we need to clear the namespace\n",
        "    # Using deleteAll API to clear the specific namespace\n",
        "    try:\n",
        "        print(f\"🧹 Attempting to clear namespace '{index_name}'...\")\n",
        "        \n",
        "        # Use the delete API with namespace and deleteAll flag\n",
        "        delete_request = {\n",
        "            \"namespace\": index_name,\n",
        "            \"deleteAll\": True\n",
        "        }\n",
        "        \n",
        "        response = requests.post(\n",
        "            f\"{settings.pinecone_host}/vectors/delete\",\n",
        "            json=delete_request,\n",
        "            timeout=30\n",
        "        )\n",
        "        \n",
        "        if response.status_code == 200:\n",
        "            result = response.json()\n",
        "            print(f\"   ✅ Namespace clear request sent successfully\")\n",
        "            if result:\n",
        "                print(f\"   📝 Response: {result}\")\n",
        "        else:\n",
        "            print(f\"   ⚠️  Namespace clear request failed: {response.status_code}\")\n",
        "            print(f\"   📝 Response: {response.text}\")\n",
        "            print(f\"   📝 Note: Manual cleanup may be required\")\n",
        "            \n",
        "    except Exception as e:\n",
        "        print(f\"   ⚠️  Namespace cleanup failed: {e}\")\n",
        "        print(f\"   📝 Note: Index cleanup may require manual intervention\")\n",
        "\n",
        "    print(f\"✅ Cleanup process completed\")\n",
        "    print(f\"💡 In production with Pinecone cloud, you would use:\")\n",
        "    print(f\"   pc.delete_index('{index_name}') to permanently delete the index\")\n",
        "    print(f\"🎯 Unique index UUID '{index_uuid}' has been processed for cleanup\")\n",
        "    print(f\"🧹 Resources have been freed from your local Pinecone instance\")\n",
        "\n",
        "except Exception as e:\n",
        "    print(f\"❌ Cleanup failed: {e}\")\n",
        "    print(f\"📝 You may need to manually clean up index: {index_name}\")\n"
      ]
    },
    {
      "cell_type": "code",
      "execution_count": null,
      "metadata": {},
      "outputs": [],
      "source": []
    }
  ],
  "metadata": {
    "kernelspec": {
      "display_name": "curator-pommeline",
      "language": "python",
      "name": "python3"
    },
    "language_info": {
      "codemirror_mode": {
        "name": "ipython",
        "version": 3
      },
      "file_extension": ".py",
      "mimetype": "text/x-python",
      "name": "python",
      "nbconvert_exporter": "python",
      "pygments_lexer": "ipython3",
      "version": "3.10.17"
    }
  },
  "nbformat": 4,
  "nbformat_minor": 4
}
